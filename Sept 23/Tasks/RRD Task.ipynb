{
  "nbformat": 4,
  "nbformat_minor": 0,
  "metadata": {
    "colab": {
      "provenance": []
    },
    "kernelspec": {
      "name": "python3",
      "display_name": "Python 3"
    },
    "language_info": {
      "name": "python"
    }
  },
  "cells": [
    {
      "cell_type": "code",
      "execution_count": 2,
      "metadata": {
        "id": "Z6DW6n0SezdB"
      },
      "outputs": [],
      "source": [
        "from pyspark.sql import SparkSession\n",
        "\n",
        "# Spark setup\n",
        "spark = SparkSession.builder.appName(\"RDD-Exercises-Set2\").getOrCreate()\n",
        "sc = spark.sparkContext\n"
      ]
    },
    {
      "cell_type": "code",
      "source": [
        "nums = sc.parallelize(range(1, 16))\n",
        "\n",
        "# Numbers divisible by 3\n",
        "div_by_3 = nums.filter(lambda x: x % 3 == 0).collect()\n",
        "print(\"Numbers divisible by 3:\", div_by_3)\n",
        "\n",
        "# Double each number\n",
        "doubled = nums.map(lambda x: x * 2).collect()\n",
        "print(\"Doubled numbers:\", doubled)\n",
        "\n",
        "# Count numbers > 10\n",
        "greater_than_10 = nums.filter(lambda x: x > 10).count()\n",
        "print(\"Count > 10:\", greater_than_10)\n"
      ],
      "metadata": {
        "colab": {
          "base_uri": "https://localhost:8080/"
        },
        "id": "SutNswwyfyiF",
        "outputId": "bdf980ed-3918-4873-914c-9dfe0419c1aa"
      },
      "execution_count": 3,
      "outputs": [
        {
          "output_type": "stream",
          "name": "stdout",
          "text": [
            "Numbers divisible by 3: [3, 6, 9, 12, 15]\n",
            "Doubled numbers: [2, 4, 6, 8, 10, 12, 14, 16, 18, 20, 22, 24, 26, 28, 30]\n",
            "Count > 10: 5\n"
          ]
        }
      ]
    },
    {
      "cell_type": "code",
      "source": [
        "fruits = sc.parallelize([\"apple\", \"banana\", \"grape\", \"banana\", \"apple\", \"mango\"])\n",
        "\n",
        "# Distinct fruits\n",
        "distinct_fruits = fruits.distinct().collect()\n",
        "print(\"Distinct fruits:\", distinct_fruits)\n",
        "\n",
        "# Count occurrences\n",
        "fruit_counts = fruits.map(lambda f: (f, 1)).reduceByKey(lambda a, b: a + b).collect()\n",
        "print(\"Fruit counts:\", fruit_counts)\n",
        "\n",
        "# Longest word\n",
        "longest_fruit = fruits.reduce(lambda a, b: a if len(a) > len(b) else b)\n",
        "print(\"Longest fruit:\", longest_fruit)"
      ],
      "metadata": {
        "colab": {
          "base_uri": "https://localhost:8080/"
        },
        "id": "YmWokB4-gF5N",
        "outputId": "287baf47-93c2-4107-de1c-1a4b0ba87c7b"
      },
      "execution_count": 4,
      "outputs": [
        {
          "output_type": "stream",
          "name": "stdout",
          "text": [
            "Distinct fruits: ['apple', 'banana', 'grape', 'mango']\n",
            "Fruit counts: [('apple', 2), ('banana', 2), ('grape', 1), ('mango', 1)]\n",
            "Longest fruit: banana\n"
          ]
        }
      ]
    },
    {
      "cell_type": "code",
      "source": [
        "sentences = sc.parallelize([\n",
        "    \"spark makes big data easy\",\n",
        "    \"rdd is the core of spark\",\n",
        "    \"python with spark\"\n",
        "])\n",
        "\n",
        "# Split into words\n",
        "words = sentences.flatMap(lambda s: s.split(\" \"))\n",
        "\n",
        "# Lowercase + distinct\n",
        "unique_words = words.map(lambda w: w.lower()).distinct()\n",
        "print(\"Unique words:\", unique_words.collect())\n",
        "\n",
        "# Count unique\n",
        "unique_count = unique_words.count()\n",
        "print(\"Unique word count:\", unique_count)"
      ],
      "metadata": {
        "colab": {
          "base_uri": "https://localhost:8080/"
        },
        "id": "oElA5MragNDV",
        "outputId": "2c166b4f-45de-4d9e-906c-335f82e71991"
      },
      "execution_count": 5,
      "outputs": [
        {
          "output_type": "stream",
          "name": "stdout",
          "text": [
            "Unique words: ['big', 'easy', 'rdd', 'core', 'of', 'python', 'with', 'spark', 'makes', 'data', 'is', 'the']\n",
            "Unique word count: 12\n"
          ]
        }
      ]
    },
    {
      "cell_type": "code",
      "source": [
        "marks = sc.parallelize([\n",
        "    (\"Rahul\", 85),\n",
        "    (\"Priya\", 92),\n",
        "    (\"Aman\", 78),\n",
        "    (\"Rahul\", 90),\n",
        "    (\"Priya\", 88)\n",
        "])\n",
        "\n",
        "# Total marks\n",
        "total_marks = marks.reduceByKey(lambda a, b: a + b).collect()\n",
        "print(\"Total marks per student:\", total_marks)\n",
        "\n",
        "# Average marks\n",
        "marks_group = marks.groupByKey().mapValues(lambda vals: sum(vals) / len(vals)).collect()\n",
        "print(\"Average marks per student:\", marks_group)\n",
        "\n",
        "# Highest marks\n",
        "highest = marks.reduce(lambda a, b: a if a[1] > b[1] else b)\n",
        "print(\"Highest single mark:\", highest)"
      ],
      "metadata": {
        "colab": {
          "base_uri": "https://localhost:8080/"
        },
        "id": "FhMCxkPFgX33",
        "outputId": "4540b49c-5d07-478d-ceab-1da91ad04c81"
      },
      "execution_count": 6,
      "outputs": [
        {
          "output_type": "stream",
          "name": "stdout",
          "text": [
            "Total marks per student: [('Rahul', 175), ('Priya', 180), ('Aman', 78)]\n",
            "Average marks per student: [('Rahul', 87.5), ('Priya', 90.0), ('Aman', 78.0)]\n",
            "Highest single mark: ('Priya', 92)\n"
          ]
        }
      ]
    },
    {
      "cell_type": "code",
      "source": [
        "nums2 = sc.parallelize([5, 10, 15, 20, 25])\n",
        "\n",
        "# Sum\n",
        "total_sum = nums2.reduce(lambda a, b: a + b)\n",
        "print(\"Sum:\", total_sum)\n",
        "\n",
        "# Product\n",
        "product = nums2.reduce(lambda a, b: a * b)\n",
        "print(\"Product:\", product)\n",
        "\n",
        "# Average using reduce\n",
        "sum_count = nums2.map(lambda x: (x, 1)).reduce(lambda a, b: (a[0] + b[0], a[1] + b[1]))\n",
        "average = sum_count[0] / sum_count[1]\n",
        "print(\"Average:\", average)"
      ],
      "metadata": {
        "colab": {
          "base_uri": "https://localhost:8080/"
        },
        "id": "VZzUOlGxgdCC",
        "outputId": "8e71f9e4-544c-49b6-d435-bc88eaf5a241"
      },
      "execution_count": 7,
      "outputs": [
        {
          "output_type": "stream",
          "name": "stdout",
          "text": [
            "Sum: 75\n",
            "Product: 375000\n",
            "Average: 15.0\n"
          ]
        }
      ]
    },
    {
      "cell_type": "code",
      "source": [
        "words2 = sc.parallelize([\"data\", \"engineering\", \"spark\", \"rdd\", \"pyspark\", \"analytics\"])\n",
        "\n",
        "# Word length\n",
        "word_lengths = words2.map(lambda w: (w, len(w))).collect()\n",
        "print(\"Word lengths:\", word_lengths)\n",
        "\n",
        "# Longest word\n",
        "longest_word = words2.reduce(lambda a, b: a if len(a) > len(b) else b)\n",
        "print(\"Longest word:\", longest_word)\n",
        "\n",
        "# Average word length\n",
        "total_len = words2.map(lambda w: len(w)).reduce(lambda a, b: a + b)\n",
        "avg_len = total_len / words2.count()\n",
        "print(\"Average word length:\", avg_len)"
      ],
      "metadata": {
        "colab": {
          "base_uri": "https://localhost:8080/"
        },
        "id": "ttfJeI8sghdH",
        "outputId": "a8746693-9163-4a12-b664-b9372434f90b"
      },
      "execution_count": 8,
      "outputs": [
        {
          "output_type": "stream",
          "name": "stdout",
          "text": [
            "Word lengths: [('data', 4), ('engineering', 11), ('spark', 5), ('rdd', 3), ('pyspark', 7), ('analytics', 9)]\n",
            "Longest word: engineering\n",
            "Average word length: 6.5\n"
          ]
        }
      ]
    },
    {
      "cell_type": "code",
      "source": [
        "students = sc.parallelize([(1, \"Rahul\"), (2, \"Priya\"), (3, \"Aman\")])\n",
        "courses = sc.parallelize([(1, \"Python\"), (2, \"Spark\"), (4, \"Databases\")])\n",
        "\n",
        "# Inner join\n",
        "inner = students.join(courses).collect()\n",
        "print(\"Inner join:\", inner)\n",
        "\n",
        "# Left outer join\n",
        "left_outer = students.leftOuterJoin(courses).collect()\n",
        "print(\"Left outer join:\", left_outer)\n",
        "\n",
        "# Right outer join\n",
        "right_outer = students.rightOuterJoin(courses).collect()\n",
        "print(\"Right outer join:\", right_outer)"
      ],
      "metadata": {
        "colab": {
          "base_uri": "https://localhost:8080/"
        },
        "id": "E6glAurKgkri",
        "outputId": "5d04996c-e406-482e-f978-ba006f70edd6"
      },
      "execution_count": 9,
      "outputs": [
        {
          "output_type": "stream",
          "name": "stdout",
          "text": [
            "Inner join: [(1, ('Rahul', 'Python')), (2, ('Priya', 'Spark'))]\n",
            "Left outer join: [(1, ('Rahul', 'Python')), (2, ('Priya', 'Spark')), (3, ('Aman', None))]\n",
            "Right outer join: [(4, (None, 'Databases')), (1, ('Rahul', 'Python')), (2, ('Priya', 'Spark'))]\n"
          ]
        }
      ]
    },
    {
      "cell_type": "code",
      "source": [
        "orders = sc.parallelize([\n",
        "    (1, 200),\n",
        "    (2, 500),\n",
        "    (3, 300),\n",
        "    (1, 150),\n",
        "    (2, 250)\n",
        "])\n",
        "\n",
        "# Total spend per customer\n",
        "spend_per_customer = orders.reduceByKey(lambda a, b: a + b).collect()\n",
        "print(\"Total spend per customer:\", spend_per_customer)\n",
        "\n",
        "# Customer with max spend\n",
        "max_spend = spend_per_customer[0]\n",
        "for customer in spend_per_customer:\n",
        "    if customer[1] > max_spend[1]:\n",
        "        max_spend = customer\n",
        "print(\"Customer with max spend:\", max_spend)\n",
        "\n",
        "# Total revenue\n",
        "total_revenue = orders.map(lambda x: x[1]).reduce(lambda a, b: a + b)\n",
        "print(\"Total revenue:\", total_revenue)"
      ],
      "metadata": {
        "colab": {
          "base_uri": "https://localhost:8080/"
        },
        "id": "a-8ex3WdgwTf",
        "outputId": "04958fe5-457d-4a93-e1cf-0127022b5ea4"
      },
      "execution_count": 10,
      "outputs": [
        {
          "output_type": "stream",
          "name": "stdout",
          "text": [
            "Total spend per customer: [(2, 750), (1, 350), (3, 300)]\n",
            "Customer with max spend: (2, 750)\n",
            "Total revenue: 1400\n"
          ]
        }
      ]
    }
  ]
}