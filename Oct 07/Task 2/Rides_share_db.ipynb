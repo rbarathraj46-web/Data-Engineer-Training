{
 "cells": [
  {
   "cell_type": "code",
   "execution_count": 0,
   "metadata": {
    "application/vnd.databricks.v1+cell": {
     "cellMetadata": {
      "byteLimit": 2048000,
      "rowLimit": 10000
     },
     "inputWidgets": {},
     "nuid": "8323c2e1-e126-4a08-9071-cf4b5839ac65",
     "showTitle": false,
     "tableResultSettingsMap": {},
     "title": ""
    }
   },
   "outputs": [],
   "source": [
    "from pyspark.sql import SparkSession\n",
    "from pyspark.sql.functions import col, when, round, sum, avg, month\n",
    "from pyspark.sql.window import Window\n",
    "from pyspark.sql.functions import row_number, desc, to_date\n",
    "spark = SparkSession.builder.appName(\"RideShareAnalytics\").getOrCreate()\n"
   ]
  },
  {
   "cell_type": "code",
   "execution_count": 0,
   "metadata": {
    "application/vnd.databricks.v1+cell": {
     "cellMetadata": {
      "byteLimit": 2048000,
      "rowLimit": 10000
     },
     "inputWidgets": {},
     "nuid": "b2697ade-11b4-4f7b-a828-dfbbf6f40544",
     "showTitle": false,
     "tableResultSettingsMap": {},
     "title": ""
    }
   },
   "outputs": [],
   "source": [
    "drivers_df = spark.read.csv(\"/FileStore/tables/drivers.csv\", header=True, inferSchema=True)\n",
    "rides_df   = spark.read.csv(\"/FileStore/tables/rides.csv\",   header=True, inferSchema=True)\n",
    "feedback_df= spark.read.csv(\"/FileStore/tables/feedback.csv\",header=True, inferSchema=True)"
   ]
  },
  {
   "cell_type": "code",
   "execution_count": 0,
   "metadata": {
    "application/vnd.databricks.v1+cell": {
     "cellMetadata": {
      "byteLimit": 2048000,
      "rowLimit": 10000
     },
     "inputWidgets": {},
     "nuid": "b7ae8a5e-e250-4336-a704-0db20b2b10f5",
     "showTitle": false,
     "tableResultSettingsMap": {},
     "title": ""
    }
   },
   "outputs": [],
   "source": [
    "rides_df = rides_df.withColumn(\"distance_km\", col(\"distance_km\").cast(\"double\")) \\\n",
    "                   .withColumn(\"price\", col(\"price\").cast(\"double\")) \\\n",
    "                   .withColumn(\"ride_date\", to_date(col(\"ride_date\"), \"yyyy-MM-dd\"))\n",
    "\n",
    "drivers_df = drivers_df.withColumn(\"experience_years\", col(\"experience_years\").cast(\"int\")) \\\n",
    "                       .withColumn(\"rating\", col(\"rating\").cast(\"double\"))"
   ]
  },
  {
   "cell_type": "code",
   "execution_count": 0,
   "metadata": {
    "application/vnd.databricks.v1+cell": {
     "cellMetadata": {
      "byteLimit": 2048000,
      "rowLimit": 10000
     },
     "inputWidgets": {},
     "nuid": "b7a10728-15d6-4a81-8e55-9262124b3bc3",
     "showTitle": false,
     "tableResultSettingsMap": {},
     "title": ""
    }
   },
   "outputs": [
    {
     "output_type": "display_data",
     "data": {
      "text/html": [
       "<style scoped>\n",
       "  .table-result-container {\n",
       "    max-height: 300px;\n",
       "    overflow: auto;\n",
       "  }\n",
       "  table, th, td {\n",
       "    border: 1px solid black;\n",
       "    border-collapse: collapse;\n",
       "  }\n",
       "  th, td {\n",
       "    padding: 5px;\n",
       "  }\n",
       "  th {\n",
       "    text-align: left;\n",
       "  }\n",
       "</style><div class='table-result-container'><table class='table-result'><thead style='background-color: white'><tr><th>driver_id</th><th>driver_name</th><th>city</th><th>experience_years</th><th>rating</th></tr></thead><tbody><tr><td>1</td><td>Arun Kumar</td><td>Bangalore</td><td>4</td><td>4.6</td></tr><tr><td>2</td><td>Pooja Rao</td><td>Chennai</td><td>2</td><td>4.3</td></tr><tr><td>3</td><td>Imran Sheikh</td><td>Delhi</td><td>6</td><td>4.8</td></tr><tr><td>4</td><td>Nisha Patel</td><td>Hyderabad</td><td>1</td><td>4.0</td></tr><tr><td>5</td><td>Rajesh Naik</td><td>Mumbai</td><td>8</td><td>4.9</td></tr><tr><td>6</td><td>Sneha Menon</td><td>Bangalore</td><td>3</td><td>4.4</td></tr></tbody></table></div>"
      ]
     },
     "metadata": {
      "application/vnd.databricks.v1+output": {
       "addedWidgets": {},
       "aggData": [],
       "aggError": "",
       "aggOverflow": false,
       "aggSchema": [],
       "aggSeriesLimitReached": false,
       "aggType": "",
       "arguments": {},
       "columnCustomDisplayInfos": {},
       "data": [
        [
         1,
         "Arun Kumar",
         "Bangalore",
         4,
         4.6
        ],
        [
         2,
         "Pooja Rao",
         "Chennai",
         2,
         4.3
        ],
        [
         3,
         "Imran Sheikh",
         "Delhi",
         6,
         4.8
        ],
        [
         4,
         "Nisha Patel",
         "Hyderabad",
         1,
         4.0
        ],
        [
         5,
         "Rajesh Naik",
         "Mumbai",
         8,
         4.9
        ],
        [
         6,
         "Sneha Menon",
         "Bangalore",
         3,
         4.4
        ]
       ],
       "datasetInfos": [],
       "dbfsResultPath": null,
       "isJsonSchema": true,
       "metadata": {},
       "overflow": false,
       "plotOptions": {
        "customPlotOptions": {},
        "displayType": "table",
        "pivotAggregation": null,
        "pivotColumns": null,
        "xColumns": null,
        "yColumns": null
       },
       "removedWidgets": [],
       "schema": [
        {
         "metadata": "{}",
         "name": "driver_id",
         "type": "\"integer\""
        },
        {
         "metadata": "{}",
         "name": "driver_name",
         "type": "\"string\""
        },
        {
         "metadata": "{}",
         "name": "city",
         "type": "\"string\""
        },
        {
         "metadata": "{}",
         "name": "experience_years",
         "type": "\"integer\""
        },
        {
         "metadata": "{}",
         "name": "rating",
         "type": "\"double\""
        }
       ],
       "type": "table"
      }
     },
     "output_type": "display_data"
    },
    {
     "output_type": "display_data",
     "data": {
      "text/html": [
       "<style scoped>\n",
       "  .table-result-container {\n",
       "    max-height: 300px;\n",
       "    overflow: auto;\n",
       "  }\n",
       "  table, th, td {\n",
       "    border: 1px solid black;\n",
       "    border-collapse: collapse;\n",
       "  }\n",
       "  th, td {\n",
       "    padding: 5px;\n",
       "  }\n",
       "  th {\n",
       "    text-align: left;\n",
       "  }\n",
       "</style><div class='table-result-container'><table class='table-result'><thead style='background-color: white'><tr><th>ride_id</th><th>driver_id</th><th>distance_km</th><th>price</th><th>ride_date</th></tr></thead><tbody><tr><td>1001</td><td>1</td><td>10.0</td><td>250.0</td><td>2024-02-01</td></tr><tr><td>1002</td><td>2</td><td>7.0</td><td>180.0</td><td>2024-02-03</td></tr><tr><td>1003</td><td>3</td><td>15.0</td><td>500.0</td><td>2024-02-05</td></tr><tr><td>1004</td><td>4</td><td>5.0</td><td>120.0</td><td>2024-02-08</td></tr><tr><td>1005</td><td>1</td><td>12.0</td><td>300.0</td><td>2024-02-10</td></tr><tr><td>1006</td><td>5</td><td>20.0</td><td>800.0</td><td>2024-02-15</td></tr><tr><td>1007</td><td>6</td><td>9.0</td><td>230.0</td><td>2024-02-20</td></tr><tr><td>1008</td><td>7</td><td>11.0</td><td>270.0</td><td>2024-02-22</td></tr></tbody></table></div>"
      ]
     },
     "metadata": {
      "application/vnd.databricks.v1+output": {
       "addedWidgets": {},
       "aggData": [],
       "aggError": "",
       "aggOverflow": false,
       "aggSchema": [],
       "aggSeriesLimitReached": false,
       "aggType": "",
       "arguments": {},
       "columnCustomDisplayInfos": {},
       "data": [
        [
         1001,
         1,
         10.0,
         250.0,
         "2024-02-01"
        ],
        [
         1002,
         2,
         7.0,
         180.0,
         "2024-02-03"
        ],
        [
         1003,
         3,
         15.0,
         500.0,
         "2024-02-05"
        ],
        [
         1004,
         4,
         5.0,
         120.0,
         "2024-02-08"
        ],
        [
         1005,
         1,
         12.0,
         300.0,
         "2024-02-10"
        ],
        [
         1006,
         5,
         20.0,
         800.0,
         "2024-02-15"
        ],
        [
         1007,
         6,
         9.0,
         230.0,
         "2024-02-20"
        ],
        [
         1008,
         7,
         11.0,
         270.0,
         "2024-02-22"
        ]
       ],
       "datasetInfos": [],
       "dbfsResultPath": null,
       "isJsonSchema": true,
       "metadata": {},
       "overflow": false,
       "plotOptions": {
        "customPlotOptions": {},
        "displayType": "table",
        "pivotAggregation": null,
        "pivotColumns": null,
        "xColumns": null,
        "yColumns": null
       },
       "removedWidgets": [],
       "schema": [
        {
         "metadata": "{}",
         "name": "ride_id",
         "type": "\"integer\""
        },
        {
         "metadata": "{}",
         "name": "driver_id",
         "type": "\"integer\""
        },
        {
         "metadata": "{}",
         "name": "distance_km",
         "type": "\"double\""
        },
        {
         "metadata": "{}",
         "name": "price",
         "type": "\"double\""
        },
        {
         "metadata": "{}",
         "name": "ride_date",
         "type": "\"date\""
        }
       ],
       "type": "table"
      }
     },
     "output_type": "display_data"
    },
    {
     "output_type": "display_data",
     "data": {
      "text/html": [
       "<style scoped>\n",
       "  .table-result-container {\n",
       "    max-height: 300px;\n",
       "    overflow: auto;\n",
       "  }\n",
       "  table, th, td {\n",
       "    border: 1px solid black;\n",
       "    border-collapse: collapse;\n",
       "  }\n",
       "  th, td {\n",
       "    padding: 5px;\n",
       "  }\n",
       "  th {\n",
       "    text-align: left;\n",
       "  }\n",
       "</style><div class='table-result-container'><table class='table-result'><thead style='background-color: white'><tr><th>ride_id</th><th>customer_feedback</th></tr></thead><tbody><tr><td>1001</td><td>Excellent</td></tr><tr><td>1002</td><td>Good</td></tr><tr><td>1003</td><td>Excellent</td></tr><tr><td>1004</td><td>Average</td></tr><tr><td>1005</td><td>Good</td></tr><tr><td>1006</td><td>Excellent</td></tr><tr><td>1007</td><td>Average</td></tr><tr><td>1008</td><td>Good</td></tr></tbody></table></div>"
      ]
     },
     "metadata": {
      "application/vnd.databricks.v1+output": {
       "addedWidgets": {},
       "aggData": [],
       "aggError": "",
       "aggOverflow": false,
       "aggSchema": [],
       "aggSeriesLimitReached": false,
       "aggType": "",
       "arguments": {},
       "columnCustomDisplayInfos": {},
       "data": [
        [
         1001,
         "Excellent"
        ],
        [
         1002,
         "Good"
        ],
        [
         1003,
         "Excellent"
        ],
        [
         1004,
         "Average"
        ],
        [
         1005,
         "Good"
        ],
        [
         1006,
         "Excellent"
        ],
        [
         1007,
         "Average"
        ],
        [
         1008,
         "Good"
        ]
       ],
       "datasetInfos": [],
       "dbfsResultPath": null,
       "isJsonSchema": true,
       "metadata": {},
       "overflow": false,
       "plotOptions": {
        "customPlotOptions": {},
        "displayType": "table",
        "pivotAggregation": null,
        "pivotColumns": null,
        "xColumns": null,
        "yColumns": null
       },
       "removedWidgets": [],
       "schema": [
        {
         "metadata": "{}",
         "name": "ride_id",
         "type": "\"integer\""
        },
        {
         "metadata": "{}",
         "name": "customer_feedback",
         "type": "\"string\""
        }
       ],
       "type": "table"
      }
     },
     "output_type": "display_data"
    }
   ],
   "source": [
    "display(drivers_df)\n",
    "display(rides_df)\n",
    "display(feedback_df)"
   ]
  },
  {
   "cell_type": "code",
   "execution_count": 0,
   "metadata": {
    "application/vnd.databricks.v1+cell": {
     "cellMetadata": {
      "byteLimit": 2048000,
      "rowLimit": 10000
     },
     "inputWidgets": {},
     "nuid": "f3967460-df88-478c-a34a-af9e76cceed6",
     "showTitle": false,
     "tableResultSettingsMap": {},
     "title": ""
    }
   },
   "outputs": [
    {
     "output_type": "display_data",
     "data": {
      "text/html": [
       "<style scoped>\n",
       "  .table-result-container {\n",
       "    max-height: 300px;\n",
       "    overflow: auto;\n",
       "  }\n",
       "  table, th, td {\n",
       "    border: 1px solid black;\n",
       "    border-collapse: collapse;\n",
       "  }\n",
       "  th, td {\n",
       "    padding: 5px;\n",
       "  }\n",
       "  th {\n",
       "    text-align: left;\n",
       "  }\n",
       "</style><div class='table-result-container'><table class='table-result'><thead style='background-color: white'><tr><th>driver_id</th><th>ride_id</th><th>distance_km</th><th>price</th><th>ride_date</th></tr></thead><tbody><tr><td>7</td><td>1008</td><td>11.0</td><td>270.0</td><td>2024-02-22</td></tr></tbody></table></div>"
      ]
     },
     "metadata": {
      "application/vnd.databricks.v1+output": {
       "addedWidgets": {},
       "aggData": [],
       "aggError": "",
       "aggOverflow": false,
       "aggSchema": [],
       "aggSeriesLimitReached": false,
       "aggType": "",
       "arguments": {},
       "columnCustomDisplayInfos": {},
       "data": [
        [
         7,
         1008,
         11.0,
         270.0,
         "2024-02-22"
        ]
       ],
       "datasetInfos": [],
       "dbfsResultPath": null,
       "isJsonSchema": true,
       "metadata": {},
       "overflow": false,
       "plotOptions": {
        "customPlotOptions": {},
        "displayType": "table",
        "pivotAggregation": null,
        "pivotColumns": null,
        "xColumns": null,
        "yColumns": null
       },
       "removedWidgets": [],
       "schema": [
        {
         "metadata": "{}",
         "name": "driver_id",
         "type": "\"integer\""
        },
        {
         "metadata": "{}",
         "name": "ride_id",
         "type": "\"integer\""
        },
        {
         "metadata": "{}",
         "name": "distance_km",
         "type": "\"double\""
        },
        {
         "metadata": "{}",
         "name": "price",
         "type": "\"double\""
        },
        {
         "metadata": "{}",
         "name": "ride_date",
         "type": "\"date\""
        }
       ],
       "type": "table"
      }
     },
     "output_type": "display_data"
    }
   ],
   "source": [
    "rides_missing_driver = rides_df.join(drivers_df, \"driver_id\", \"left_anti\")\n",
    "display(rides_missing_driver)"
   ]
  },
  {
   "cell_type": "code",
   "execution_count": 0,
   "metadata": {
    "application/vnd.databricks.v1+cell": {
     "cellMetadata": {
      "byteLimit": 2048000,
      "rowLimit": 10000
     },
     "inputWidgets": {},
     "nuid": "da38a15a-ab35-44aa-a59b-9fc93a9e561d",
     "showTitle": false,
     "tableResultSettingsMap": {
      "0": {
       "dataGridStateBlob": "{\"version\":1,\"tableState\":{\"columnPinning\":{\"left\":[\"#row_number#\"],\"right\":[]},\"columnSizing\":{},\"columnVisibility\":{}},\"settings\":{\"columns\":{}},\"syncTimestamp\":1759837142942}",
       "filterBlob": null,
       "queryPlanFiltersBlob": null,
       "tableResultIndex": 0
      }
     },
     "title": ""
    }
   },
   "outputs": [
    {
     "output_type": "display_data",
     "data": {
      "text/html": [
       "<style scoped>\n",
       "  .table-result-container {\n",
       "    max-height: 300px;\n",
       "    overflow: auto;\n",
       "  }\n",
       "  table, th, td {\n",
       "    border: 1px solid black;\n",
       "    border-collapse: collapse;\n",
       "  }\n",
       "  th, td {\n",
       "    padding: 5px;\n",
       "  }\n",
       "  th {\n",
       "    text-align: left;\n",
       "  }\n",
       "</style><div class='table-result-container'><table class='table-result'><thead style='background-color: white'><tr><th>driver_id</th><th>ride_id</th><th>distance_km</th><th>price</th><th>ride_date</th><th>driver_name</th><th>city</th><th>experience_years</th><th>rating</th></tr></thead><tbody><tr><td>1</td><td>1001</td><td>10.0</td><td>250.0</td><td>2024-02-01</td><td>Arun Kumar</td><td>Bangalore</td><td>4</td><td>4.6</td></tr><tr><td>2</td><td>1002</td><td>7.0</td><td>180.0</td><td>2024-02-03</td><td>Pooja Rao</td><td>Chennai</td><td>2</td><td>4.3</td></tr><tr><td>3</td><td>1003</td><td>15.0</td><td>500.0</td><td>2024-02-05</td><td>Imran Sheikh</td><td>Delhi</td><td>6</td><td>4.8</td></tr><tr><td>4</td><td>1004</td><td>5.0</td><td>120.0</td><td>2024-02-08</td><td>Nisha Patel</td><td>Hyderabad</td><td>1</td><td>4.0</td></tr><tr><td>1</td><td>1005</td><td>12.0</td><td>300.0</td><td>2024-02-10</td><td>Arun Kumar</td><td>Bangalore</td><td>4</td><td>4.6</td></tr><tr><td>5</td><td>1006</td><td>20.0</td><td>800.0</td><td>2024-02-15</td><td>Rajesh Naik</td><td>Mumbai</td><td>8</td><td>4.9</td></tr><tr><td>6</td><td>1007</td><td>9.0</td><td>230.0</td><td>2024-02-20</td><td>Sneha Menon</td><td>Bangalore</td><td>3</td><td>4.4</td></tr><tr><td>7</td><td>1008</td><td>11.0</td><td>270.0</td><td>2024-02-22</td><td>null</td><td>null</td><td>null</td><td>null</td></tr></tbody></table></div>"
      ]
     },
     "metadata": {
      "application/vnd.databricks.v1+output": {
       "addedWidgets": {},
       "aggData": [],
       "aggError": "",
       "aggOverflow": false,
       "aggSchema": [],
       "aggSeriesLimitReached": false,
       "aggType": "",
       "arguments": {},
       "columnCustomDisplayInfos": {},
       "data": [
        [
         1,
         1001,
         10.0,
         250.0,
         "2024-02-01",
         "Arun Kumar",
         "Bangalore",
         4,
         4.6
        ],
        [
         2,
         1002,
         7.0,
         180.0,
         "2024-02-03",
         "Pooja Rao",
         "Chennai",
         2,
         4.3
        ],
        [
         3,
         1003,
         15.0,
         500.0,
         "2024-02-05",
         "Imran Sheikh",
         "Delhi",
         6,
         4.8
        ],
        [
         4,
         1004,
         5.0,
         120.0,
         "2024-02-08",
         "Nisha Patel",
         "Hyderabad",
         1,
         4.0
        ],
        [
         1,
         1005,
         12.0,
         300.0,
         "2024-02-10",
         "Arun Kumar",
         "Bangalore",
         4,
         4.6
        ],
        [
         5,
         1006,
         20.0,
         800.0,
         "2024-02-15",
         "Rajesh Naik",
         "Mumbai",
         8,
         4.9
        ],
        [
         6,
         1007,
         9.0,
         230.0,
         "2024-02-20",
         "Sneha Menon",
         "Bangalore",
         3,
         4.4
        ],
        [
         7,
         1008,
         11.0,
         270.0,
         "2024-02-22",
         null,
         null,
         null,
         null
        ]
       ],
       "datasetInfos": [],
       "dbfsResultPath": null,
       "isJsonSchema": true,
       "metadata": {},
       "overflow": false,
       "plotOptions": {
        "customPlotOptions": {},
        "displayType": "table",
        "pivotAggregation": null,
        "pivotColumns": null,
        "xColumns": null,
        "yColumns": null
       },
       "removedWidgets": [],
       "schema": [
        {
         "metadata": "{}",
         "name": "driver_id",
         "type": "\"integer\""
        },
        {
         "metadata": "{}",
         "name": "ride_id",
         "type": "\"integer\""
        },
        {
         "metadata": "{}",
         "name": "distance_km",
         "type": "\"double\""
        },
        {
         "metadata": "{}",
         "name": "price",
         "type": "\"double\""
        },
        {
         "metadata": "{}",
         "name": "ride_date",
         "type": "\"date\""
        },
        {
         "metadata": "{}",
         "name": "driver_name",
         "type": "\"string\""
        },
        {
         "metadata": "{}",
         "name": "city",
         "type": "\"string\""
        },
        {
         "metadata": "{}",
         "name": "experience_years",
         "type": "\"integer\""
        },
        {
         "metadata": "{}",
         "name": "rating",
         "type": "\"double\""
        }
       ],
       "type": "table"
      }
     },
     "output_type": "display_data"
    }
   ],
   "source": [
    "rides_with_drivers = rides_df.join(drivers_df, \"driver_id\", \"left\")\n",
    "display(rides_with_drivers)"
   ]
  },
  {
   "cell_type": "code",
   "execution_count": 0,
   "metadata": {
    "application/vnd.databricks.v1+cell": {
     "cellMetadata": {
      "byteLimit": 2048000,
      "rowLimit": 10000
     },
     "inputWidgets": {},
     "nuid": "abc9bbf4-3407-4e09-9990-589f631d39c6",
     "showTitle": false,
     "tableResultSettingsMap": {
      "0": {
       "dataGridStateBlob": "{\"version\":1,\"tableState\":{\"columnPinning\":{\"left\":[\"#row_number#\"],\"right\":[]},\"columnSizing\":{},\"columnVisibility\":{}},\"settings\":{\"columns\":{}},\"syncTimestamp\":1759837215782}",
       "filterBlob": null,
       "queryPlanFiltersBlob": null,
       "tableResultIndex": 0
      }
     },
     "title": ""
    }
   },
   "outputs": [
    {
     "output_type": "display_data",
     "data": {
      "text/html": [
       "<style scoped>\n",
       "  .table-result-container {\n",
       "    max-height: 300px;\n",
       "    overflow: auto;\n",
       "  }\n",
       "  table, th, td {\n",
       "    border: 1px solid black;\n",
       "    border-collapse: collapse;\n",
       "  }\n",
       "  th, td {\n",
       "    padding: 5px;\n",
       "  }\n",
       "  th {\n",
       "    text-align: left;\n",
       "  }\n",
       "</style><div class='table-result-container'><table class='table-result'><thead style='background-color: white'><tr><th>driver_id</th><th>ride_id</th><th>distance_km</th><th>price</th><th>ride_date</th><th>driver_name</th><th>city</th><th>experience_years</th><th>rating</th><th>earnings_per_km</th></tr></thead><tbody><tr><td>1</td><td>1001</td><td>10.0</td><td>250.0</td><td>2024-02-01</td><td>Arun Kumar</td><td>Bangalore</td><td>4</td><td>4.6</td><td>25.0</td></tr><tr><td>2</td><td>1002</td><td>7.0</td><td>180.0</td><td>2024-02-03</td><td>Pooja Rao</td><td>Chennai</td><td>2</td><td>4.3</td><td>25.71</td></tr><tr><td>3</td><td>1003</td><td>15.0</td><td>500.0</td><td>2024-02-05</td><td>Imran Sheikh</td><td>Delhi</td><td>6</td><td>4.8</td><td>33.33</td></tr><tr><td>4</td><td>1004</td><td>5.0</td><td>120.0</td><td>2024-02-08</td><td>Nisha Patel</td><td>Hyderabad</td><td>1</td><td>4.0</td><td>24.0</td></tr><tr><td>1</td><td>1005</td><td>12.0</td><td>300.0</td><td>2024-02-10</td><td>Arun Kumar</td><td>Bangalore</td><td>4</td><td>4.6</td><td>25.0</td></tr><tr><td>5</td><td>1006</td><td>20.0</td><td>800.0</td><td>2024-02-15</td><td>Rajesh Naik</td><td>Mumbai</td><td>8</td><td>4.9</td><td>40.0</td></tr><tr><td>6</td><td>1007</td><td>9.0</td><td>230.0</td><td>2024-02-20</td><td>Sneha Menon</td><td>Bangalore</td><td>3</td><td>4.4</td><td>25.56</td></tr><tr><td>7</td><td>1008</td><td>11.0</td><td>270.0</td><td>2024-02-22</td><td>null</td><td>null</td><td>null</td><td>null</td><td>24.55</td></tr></tbody></table></div>"
      ]
     },
     "metadata": {
      "application/vnd.databricks.v1+output": {
       "addedWidgets": {},
       "aggData": [],
       "aggError": "",
       "aggOverflow": false,
       "aggSchema": [],
       "aggSeriesLimitReached": false,
       "aggType": "",
       "arguments": {},
       "columnCustomDisplayInfos": {},
       "data": [
        [
         1,
         1001,
         10.0,
         250.0,
         "2024-02-01",
         "Arun Kumar",
         "Bangalore",
         4,
         4.6,
         25.0
        ],
        [
         2,
         1002,
         7.0,
         180.0,
         "2024-02-03",
         "Pooja Rao",
         "Chennai",
         2,
         4.3,
         25.71
        ],
        [
         3,
         1003,
         15.0,
         500.0,
         "2024-02-05",
         "Imran Sheikh",
         "Delhi",
         6,
         4.8,
         33.33
        ],
        [
         4,
         1004,
         5.0,
         120.0,
         "2024-02-08",
         "Nisha Patel",
         "Hyderabad",
         1,
         4.0,
         24.0
        ],
        [
         1,
         1005,
         12.0,
         300.0,
         "2024-02-10",
         "Arun Kumar",
         "Bangalore",
         4,
         4.6,
         25.0
        ],
        [
         5,
         1006,
         20.0,
         800.0,
         "2024-02-15",
         "Rajesh Naik",
         "Mumbai",
         8,
         4.9,
         40.0
        ],
        [
         6,
         1007,
         9.0,
         230.0,
         "2024-02-20",
         "Sneha Menon",
         "Bangalore",
         3,
         4.4,
         25.56
        ],
        [
         7,
         1008,
         11.0,
         270.0,
         "2024-02-22",
         null,
         null,
         null,
         null,
         24.55
        ]
       ],
       "datasetInfos": [],
       "dbfsResultPath": null,
       "isJsonSchema": true,
       "metadata": {},
       "overflow": false,
       "plotOptions": {
        "customPlotOptions": {},
        "displayType": "table",
        "pivotAggregation": null,
        "pivotColumns": null,
        "xColumns": null,
        "yColumns": null
       },
       "removedWidgets": [],
       "schema": [
        {
         "metadata": "{}",
         "name": "driver_id",
         "type": "\"integer\""
        },
        {
         "metadata": "{}",
         "name": "ride_id",
         "type": "\"integer\""
        },
        {
         "metadata": "{}",
         "name": "distance_km",
         "type": "\"double\""
        },
        {
         "metadata": "{}",
         "name": "price",
         "type": "\"double\""
        },
        {
         "metadata": "{}",
         "name": "ride_date",
         "type": "\"date\""
        },
        {
         "metadata": "{}",
         "name": "driver_name",
         "type": "\"string\""
        },
        {
         "metadata": "{}",
         "name": "city",
         "type": "\"string\""
        },
        {
         "metadata": "{}",
         "name": "experience_years",
         "type": "\"integer\""
        },
        {
         "metadata": "{}",
         "name": "rating",
         "type": "\"double\""
        },
        {
         "metadata": "{}",
         "name": "earnings_per_km",
         "type": "\"double\""
        }
       ],
       "type": "table"
      }
     },
     "output_type": "display_data"
    }
   ],
   "source": [
    "rides_with_earnings = rides_with_drivers.withColumn(\n",
    "    \"earnings_per_km\", round(col(\"price\") / col(\"distance_km\"), 2)\n",
    ")\n",
    "display(rides_with_earnings)"
   ]
  },
  {
   "cell_type": "code",
   "execution_count": 0,
   "metadata": {
    "application/vnd.databricks.v1+cell": {
     "cellMetadata": {
      "byteLimit": 2048000,
      "rowLimit": 10000
     },
     "inputWidgets": {},
     "nuid": "1916915f-3917-41e9-b40f-ef95c3558b8a",
     "showTitle": false,
     "tableResultSettingsMap": {},
     "title": ""
    }
   },
   "outputs": [
    {
     "output_type": "display_data",
     "data": {
      "text/html": [
       "<style scoped>\n",
       "  .table-result-container {\n",
       "    max-height: 300px;\n",
       "    overflow: auto;\n",
       "  }\n",
       "  table, th, td {\n",
       "    border: 1px solid black;\n",
       "    border-collapse: collapse;\n",
       "  }\n",
       "  th, td {\n",
       "    padding: 5px;\n",
       "  }\n",
       "  th {\n",
       "    text-align: left;\n",
       "  }\n",
       "</style><div class='table-result-container'><table class='table-result'><thead style='background-color: white'><tr><th>city</th><th>total_revenue</th></tr></thead><tbody><tr><td>Mumbai</td><td>800.0</td></tr><tr><td>Bangalore</td><td>780.0</td></tr><tr><td>Delhi</td><td>500.0</td></tr><tr><td>null</td><td>270.0</td></tr><tr><td>Chennai</td><td>180.0</td></tr><tr><td>Hyderabad</td><td>120.0</td></tr></tbody></table></div>"
      ]
     },
     "metadata": {
      "application/vnd.databricks.v1+output": {
       "addedWidgets": {},
       "aggData": [],
       "aggError": "",
       "aggOverflow": false,
       "aggSchema": [],
       "aggSeriesLimitReached": false,
       "aggType": "",
       "arguments": {},
       "columnCustomDisplayInfos": {},
       "data": [
        [
         "Mumbai",
         800.0
        ],
        [
         "Bangalore",
         780.0
        ],
        [
         "Delhi",
         500.0
        ],
        [
         null,
         270.0
        ],
        [
         "Chennai",
         180.0
        ],
        [
         "Hyderabad",
         120.0
        ]
       ],
       "datasetInfos": [],
       "dbfsResultPath": null,
       "isJsonSchema": true,
       "metadata": {},
       "overflow": false,
       "plotOptions": {
        "customPlotOptions": {},
        "displayType": "table",
        "pivotAggregation": null,
        "pivotColumns": null,
        "xColumns": null,
        "yColumns": null
       },
       "removedWidgets": [],
       "schema": [
        {
         "metadata": "{}",
         "name": "city",
         "type": "\"string\""
        },
        {
         "metadata": "{}",
         "name": "total_revenue",
         "type": "\"double\""
        }
       ],
       "type": "table"
      }
     },
     "output_type": "display_data"
    }
   ],
   "source": [
    "revenue_per_city = rides_with_earnings.groupBy(\"city\") \\\n",
    "    .agg(round(sum(\"price\"), 2).alias(\"total_revenue\")) \\\n",
    "    .orderBy(col(\"total_revenue\").desc())\n",
    "display(revenue_per_city)"
   ]
  },
  {
   "cell_type": "code",
   "execution_count": 0,
   "metadata": {
    "application/vnd.databricks.v1+cell": {
     "cellMetadata": {
      "byteLimit": 2048000,
      "rowLimit": 10000
     },
     "inputWidgets": {},
     "nuid": "fdecdf3e-2233-4db0-bee9-4b693240496a",
     "showTitle": false,
     "tableResultSettingsMap": {},
     "title": ""
    }
   },
   "outputs": [
    {
     "output_type": "display_data",
     "data": {
      "text/html": [
       "<style scoped>\n",
       "  .table-result-container {\n",
       "    max-height: 300px;\n",
       "    overflow: auto;\n",
       "  }\n",
       "  table, th, td {\n",
       "    border: 1px solid black;\n",
       "    border-collapse: collapse;\n",
       "  }\n",
       "  th, td {\n",
       "    padding: 5px;\n",
       "  }\n",
       "  th {\n",
       "    text-align: left;\n",
       "  }\n",
       "</style><div class='table-result-container'><table class='table-result'><thead style='background-color: white'><tr><th>city</th><th>avg_rating</th></tr></thead><tbody><tr><td>Mumbai</td><td>4.9</td></tr><tr><td>Delhi</td><td>4.8</td></tr><tr><td>Bangalore</td><td>4.533333333333333</td></tr><tr><td>Chennai</td><td>4.3</td></tr><tr><td>Hyderabad</td><td>4.0</td></tr><tr><td>null</td><td>null</td></tr></tbody></table></div>"
      ]
     },
     "metadata": {
      "application/vnd.databricks.v1+output": {
       "addedWidgets": {},
       "aggData": [],
       "aggError": "",
       "aggOverflow": false,
       "aggSchema": [],
       "aggSeriesLimitReached": false,
       "aggType": "",
       "arguments": {},
       "columnCustomDisplayInfos": {},
       "data": [
        [
         "Mumbai",
         4.9
        ],
        [
         "Delhi",
         4.8
        ],
        [
         "Bangalore",
         4.533333333333333
        ],
        [
         "Chennai",
         4.3
        ],
        [
         "Hyderabad",
         4.0
        ],
        [
         null,
         null
        ]
       ],
       "datasetInfos": [],
       "dbfsResultPath": null,
       "isJsonSchema": true,
       "metadata": {},
       "overflow": false,
       "plotOptions": {
        "customPlotOptions": {},
        "displayType": "table",
        "pivotAggregation": null,
        "pivotColumns": null,
        "xColumns": null,
        "yColumns": null
       },
       "removedWidgets": [],
       "schema": [
        {
         "metadata": "{}",
         "name": "city",
         "type": "\"string\""
        },
        {
         "metadata": "{}",
         "name": "avg_rating",
         "type": "\"double\""
        }
       ],
       "type": "table"
      }
     },
     "output_type": "display_data"
    }
   ],
   "source": [
    "rides_with_earnings.groupBy(\"city\").agg(avg(\"rating\").alias(\"avg_rating\")).orderBy(desc(\"avg_rating\")).display()"
   ]
  },
  {
   "cell_type": "code",
   "execution_count": 0,
   "metadata": {
    "application/vnd.databricks.v1+cell": {
     "cellMetadata": {
      "byteLimit": 2048000,
      "rowLimit": 10000
     },
     "inputWidgets": {},
     "nuid": "7db8bc6c-168b-49d6-8a5e-621b2790b8c5",
     "showTitle": false,
     "tableResultSettingsMap": {},
     "title": ""
    }
   },
   "outputs": [
    {
     "output_type": "display_data",
     "data": {
      "text/html": [
       "<style scoped>\n",
       "  .table-result-container {\n",
       "    max-height: 300px;\n",
       "    overflow: auto;\n",
       "  }\n",
       "  table, th, td {\n",
       "    border: 1px solid black;\n",
       "    border-collapse: collapse;\n",
       "  }\n",
       "  th, td {\n",
       "    padding: 5px;\n",
       "  }\n",
       "  th {\n",
       "    text-align: left;\n",
       "  }\n",
       "</style><div class='table-result-container'><table class='table-result'><thead style='background-color: white'><tr><th>driver_id</th><th>driver_name</th><th>city</th><th>total_earnings</th></tr></thead><tbody><tr><td>7</td><td>null</td><td>null</td><td>270.0</td></tr><tr><td>1</td><td>Arun Kumar</td><td>Bangalore</td><td>550.0</td></tr><tr><td>2</td><td>Pooja Rao</td><td>Chennai</td><td>180.0</td></tr><tr><td>3</td><td>Imran Sheikh</td><td>Delhi</td><td>500.0</td></tr><tr><td>4</td><td>Nisha Patel</td><td>Hyderabad</td><td>120.0</td></tr><tr><td>5</td><td>Rajesh Naik</td><td>Mumbai</td><td>800.0</td></tr></tbody></table></div>"
      ]
     },
     "metadata": {
      "application/vnd.databricks.v1+output": {
       "addedWidgets": {},
       "aggData": [],
       "aggError": "",
       "aggOverflow": false,
       "aggSchema": [],
       "aggSeriesLimitReached": false,
       "aggType": "",
       "arguments": {},
       "columnCustomDisplayInfos": {},
       "data": [
        [
         7,
         null,
         null,
         270.0
        ],
        [
         1,
         "Arun Kumar",
         "Bangalore",
         550.0
        ],
        [
         2,
         "Pooja Rao",
         "Chennai",
         180.0
        ],
        [
         3,
         "Imran Sheikh",
         "Delhi",
         500.0
        ],
        [
         4,
         "Nisha Patel",
         "Hyderabad",
         120.0
        ],
        [
         5,
         "Rajesh Naik",
         "Mumbai",
         800.0
        ]
       ],
       "datasetInfos": [],
       "dbfsResultPath": null,
       "isJsonSchema": true,
       "metadata": {},
       "overflow": false,
       "plotOptions": {
        "customPlotOptions": {},
        "displayType": "table",
        "pivotAggregation": null,
        "pivotColumns": null,
        "xColumns": null,
        "yColumns": null
       },
       "removedWidgets": [],
       "schema": [
        {
         "metadata": "{}",
         "name": "driver_id",
         "type": "\"integer\""
        },
        {
         "metadata": "{}",
         "name": "driver_name",
         "type": "\"string\""
        },
        {
         "metadata": "{}",
         "name": "city",
         "type": "\"string\""
        },
        {
         "metadata": "{}",
         "name": "total_earnings",
         "type": "\"double\""
        }
       ],
       "type": "table"
      }
     },
     "output_type": "display_data"
    }
   ],
   "source": [
    "driver_earnings = rides_with_earnings.groupBy(\"driver_id\", \"driver_name\", \"city\") \\\n",
    "    .agg(round(sum(\"price\"), 2).alias(\"total_earnings\"))\n",
    "\n",
    "w = Window.partitionBy(\"city\").orderBy(col(\"total_earnings\").desc())\n",
    "top_driver_per_city = driver_earnings.withColumn(\"rank\", row_number().over(w)) \\\n",
    "    .filter(col(\"rank\") == 1).drop(\"rank\").orderBy(\"city\")\n",
    "display(top_driver_per_city)"
   ]
  },
  {
   "cell_type": "code",
   "execution_count": 0,
   "metadata": {
    "application/vnd.databricks.v1+cell": {
     "cellMetadata": {
      "byteLimit": 2048000,
      "rowLimit": 10000
     },
     "inputWidgets": {},
     "nuid": "6dc2d3b7-305f-4c27-a063-c9c818e25481",
     "showTitle": false,
     "tableResultSettingsMap": {},
     "title": ""
    }
   },
   "outputs": [
    {
     "output_type": "display_data",
     "data": {
      "text/html": [
       "<style scoped>\n",
       "  .table-result-container {\n",
       "    max-height: 300px;\n",
       "    overflow: auto;\n",
       "  }\n",
       "  table, th, td {\n",
       "    border: 1px solid black;\n",
       "    border-collapse: collapse;\n",
       "  }\n",
       "  th, td {\n",
       "    padding: 5px;\n",
       "  }\n",
       "  th {\n",
       "    text-align: left;\n",
       "  }\n",
       "</style><div class='table-result-container'><table class='table-result'><thead style='background-color: white'><tr><th>driver_id</th><th>driver_name</th><th>city</th><th>experience_years</th><th>rating</th></tr></thead><tbody></tbody></table></div>"
      ]
     },
     "metadata": {
      "application/vnd.databricks.v1+output": {
       "addedWidgets": {},
       "aggData": [],
       "aggError": "",
       "aggOverflow": false,
       "aggSchema": [],
       "aggSeriesLimitReached": false,
       "aggType": "",
       "arguments": {},
       "columnCustomDisplayInfos": {},
       "data": [],
       "datasetInfos": [],
       "dbfsResultPath": null,
       "isJsonSchema": true,
       "metadata": {},
       "overflow": false,
       "plotOptions": {
        "customPlotOptions": {},
        "displayType": "table",
        "pivotAggregation": null,
        "pivotColumns": null,
        "xColumns": null,
        "yColumns": null
       },
       "removedWidgets": [],
       "schema": [
        {
         "metadata": "{}",
         "name": "driver_id",
         "type": "\"integer\""
        },
        {
         "metadata": "{}",
         "name": "driver_name",
         "type": "\"string\""
        },
        {
         "metadata": "{}",
         "name": "city",
         "type": "\"string\""
        },
        {
         "metadata": "{}",
         "name": "experience_years",
         "type": "\"integer\""
        },
        {
         "metadata": "{}",
         "name": "rating",
         "type": "\"double\""
        }
       ],
       "type": "table"
      }
     },
     "output_type": "display_data"
    }
   ],
   "source": [
    "drivers_no_rides = drivers_df.join(rides_df, \"driver_id\", \"left_anti\")\n",
    "display(drivers_no_rides)"
   ]
  },
  {
   "cell_type": "code",
   "execution_count": 0,
   "metadata": {
    "application/vnd.databricks.v1+cell": {
     "cellMetadata": {
      "byteLimit": 2048000,
      "rowLimit": 10000
     },
     "inputWidgets": {},
     "nuid": "f8635bb7-50c1-45de-8e07-51af363a9c90",
     "showTitle": false,
     "tableResultSettingsMap": {},
     "title": ""
    }
   },
   "outputs": [
    {
     "output_type": "display_data",
     "data": {
      "text/html": [
       "<style scoped>\n",
       "  .table-result-container {\n",
       "    max-height: 300px;\n",
       "    overflow: auto;\n",
       "  }\n",
       "  table, th, td {\n",
       "    border: 1px solid black;\n",
       "    border-collapse: collapse;\n",
       "  }\n",
       "  th, td {\n",
       "    padding: 5px;\n",
       "  }\n",
       "  th {\n",
       "    text-align: left;\n",
       "  }\n",
       "</style><div class='table-result-container'><table class='table-result'><thead style='background-color: white'><tr><th>ride_id</th><th>driver_id</th><th>distance_km</th><th>price</th><th>ride_date</th><th>driver_name</th><th>city</th><th>experience_years</th><th>rating</th><th>earnings_per_km</th><th>customer_feedback</th><th>performance_flag</th></tr></thead><tbody><tr><td>1001</td><td>1</td><td>10.0</td><td>250.0</td><td>2024-02-01</td><td>Arun Kumar</td><td>Bangalore</td><td>4</td><td>4.6</td><td>25.0</td><td>Excellent</td><td>Top</td></tr><tr><td>1002</td><td>2</td><td>7.0</td><td>180.0</td><td>2024-02-03</td><td>Pooja Rao</td><td>Chennai</td><td>2</td><td>4.3</td><td>25.71</td><td>Good</td><td>Good</td></tr><tr><td>1003</td><td>3</td><td>15.0</td><td>500.0</td><td>2024-02-05</td><td>Imran Sheikh</td><td>Delhi</td><td>6</td><td>4.8</td><td>33.33</td><td>Excellent</td><td>Top</td></tr><tr><td>1004</td><td>4</td><td>5.0</td><td>120.0</td><td>2024-02-08</td><td>Nisha Patel</td><td>Hyderabad</td><td>1</td><td>4.0</td><td>24.0</td><td>Average</td><td>Needs Improvement</td></tr><tr><td>1005</td><td>1</td><td>12.0</td><td>300.0</td><td>2024-02-10</td><td>Arun Kumar</td><td>Bangalore</td><td>4</td><td>4.6</td><td>25.0</td><td>Good</td><td>Good</td></tr><tr><td>1006</td><td>5</td><td>20.0</td><td>800.0</td><td>2024-02-15</td><td>Rajesh Naik</td><td>Mumbai</td><td>8</td><td>4.9</td><td>40.0</td><td>Excellent</td><td>Top</td></tr><tr><td>1007</td><td>6</td><td>9.0</td><td>230.0</td><td>2024-02-20</td><td>Sneha Menon</td><td>Bangalore</td><td>3</td><td>4.4</td><td>25.56</td><td>Average</td><td>Needs Improvement</td></tr><tr><td>1008</td><td>7</td><td>11.0</td><td>270.0</td><td>2024-02-22</td><td>null</td><td>null</td><td>null</td><td>null</td><td>24.55</td><td>Good</td><td>Good</td></tr></tbody></table></div>"
      ]
     },
     "metadata": {
      "application/vnd.databricks.v1+output": {
       "addedWidgets": {},
       "aggData": [],
       "aggError": "",
       "aggOverflow": false,
       "aggSchema": [],
       "aggSeriesLimitReached": false,
       "aggType": "",
       "arguments": {},
       "columnCustomDisplayInfos": {},
       "data": [
        [
         1001,
         1,
         10.0,
         250.0,
         "2024-02-01",
         "Arun Kumar",
         "Bangalore",
         4,
         4.6,
         25.0,
         "Excellent",
         "Top"
        ],
        [
         1002,
         2,
         7.0,
         180.0,
         "2024-02-03",
         "Pooja Rao",
         "Chennai",
         2,
         4.3,
         25.71,
         "Good",
         "Good"
        ],
        [
         1003,
         3,
         15.0,
         500.0,
         "2024-02-05",
         "Imran Sheikh",
         "Delhi",
         6,
         4.8,
         33.33,
         "Excellent",
         "Top"
        ],
        [
         1004,
         4,
         5.0,
         120.0,
         "2024-02-08",
         "Nisha Patel",
         "Hyderabad",
         1,
         4.0,
         24.0,
         "Average",
         "Needs Improvement"
        ],
        [
         1005,
         1,
         12.0,
         300.0,
         "2024-02-10",
         "Arun Kumar",
         "Bangalore",
         4,
         4.6,
         25.0,
         "Good",
         "Good"
        ],
        [
         1006,
         5,
         20.0,
         800.0,
         "2024-02-15",
         "Rajesh Naik",
         "Mumbai",
         8,
         4.9,
         40.0,
         "Excellent",
         "Top"
        ],
        [
         1007,
         6,
         9.0,
         230.0,
         "2024-02-20",
         "Sneha Menon",
         "Bangalore",
         3,
         4.4,
         25.56,
         "Average",
         "Needs Improvement"
        ],
        [
         1008,
         7,
         11.0,
         270.0,
         "2024-02-22",
         null,
         null,
         null,
         null,
         24.55,
         "Good",
         "Good"
        ]
       ],
       "datasetInfos": [],
       "dbfsResultPath": null,
       "isJsonSchema": true,
       "metadata": {},
       "overflow": false,
       "plotOptions": {
        "customPlotOptions": {},
        "displayType": "table",
        "pivotAggregation": null,
        "pivotColumns": null,
        "xColumns": null,
        "yColumns": null
       },
       "removedWidgets": [],
       "schema": [
        {
         "metadata": "{}",
         "name": "ride_id",
         "type": "\"integer\""
        },
        {
         "metadata": "{}",
         "name": "driver_id",
         "type": "\"integer\""
        },
        {
         "metadata": "{}",
         "name": "distance_km",
         "type": "\"double\""
        },
        {
         "metadata": "{}",
         "name": "price",
         "type": "\"double\""
        },
        {
         "metadata": "{}",
         "name": "ride_date",
         "type": "\"date\""
        },
        {
         "metadata": "{}",
         "name": "driver_name",
         "type": "\"string\""
        },
        {
         "metadata": "{}",
         "name": "city",
         "type": "\"string\""
        },
        {
         "metadata": "{}",
         "name": "experience_years",
         "type": "\"integer\""
        },
        {
         "metadata": "{}",
         "name": "rating",
         "type": "\"double\""
        },
        {
         "metadata": "{}",
         "name": "earnings_per_km",
         "type": "\"double\""
        },
        {
         "metadata": "{}",
         "name": "customer_feedback",
         "type": "\"string\""
        },
        {
         "metadata": "{}",
         "name": "performance_flag",
         "type": "\"string\""
        }
       ],
       "type": "table"
      }
     },
     "output_type": "display_data"
    }
   ],
   "source": [
    "rides_with_feedback = rides_with_earnings.join(feedback_df, on=\"ride_id\", how=\"left\") \\\n",
    "    .withColumn(\"performance_flag\",\n",
    "        when(col(\"customer_feedback\") == \"Excellent\", \"Top\")\n",
    "        .when(col(\"customer_feedback\") == \"Good\", \"Good\")\n",
    "        .when(col(\"customer_feedback\") == \"Average\", \"Needs Improvement\")\n",
    "        .otherwise(\"No Feedback\")\n",
    "    )\n",
    "display(rides_with_feedback)"
   ]
  },
  {
   "cell_type": "code",
   "execution_count": 0,
   "metadata": {
    "application/vnd.databricks.v1+cell": {
     "cellMetadata": {
      "byteLimit": 2048000,
      "rowLimit": 10000
     },
     "inputWidgets": {},
     "nuid": "d179fb77-4e4a-4006-8ad9-dd1d8156176e",
     "showTitle": false,
     "tableResultSettingsMap": {},
     "title": ""
    }
   },
   "outputs": [
    {
     "output_type": "display_data",
     "data": {
      "text/html": [
       "<style scoped>\n",
       "  .table-result-container {\n",
       "    max-height: 300px;\n",
       "    overflow: auto;\n",
       "  }\n",
       "  table, th, td {\n",
       "    border: 1px solid black;\n",
       "    border-collapse: collapse;\n",
       "  }\n",
       "  th, td {\n",
       "    padding: 5px;\n",
       "  }\n",
       "  th {\n",
       "    text-align: left;\n",
       "  }\n",
       "</style><div class='table-result-container'><table class='table-result'><thead style='background-color: white'><tr><th>customer_feedback</th><th>count</th></tr></thead><tbody><tr><td>Excellent</td><td>3</td></tr><tr><td>Good</td><td>3</td></tr><tr><td>Average</td><td>2</td></tr></tbody></table></div>"
      ]
     },
     "metadata": {
      "application/vnd.databricks.v1+output": {
       "addedWidgets": {},
       "aggData": [],
       "aggError": "",
       "aggOverflow": false,
       "aggSchema": [],
       "aggSeriesLimitReached": false,
       "aggType": "",
       "arguments": {},
       "columnCustomDisplayInfos": {},
       "data": [
        [
         "Excellent",
         3
        ],
        [
         "Good",
         3
        ],
        [
         "Average",
         2
        ]
       ],
       "datasetInfos": [],
       "dbfsResultPath": null,
       "isJsonSchema": true,
       "metadata": {},
       "overflow": false,
       "plotOptions": {
        "customPlotOptions": {},
        "displayType": "table",
        "pivotAggregation": null,
        "pivotColumns": null,
        "xColumns": null,
        "yColumns": null
       },
       "removedWidgets": [],
       "schema": [
        {
         "metadata": "{}",
         "name": "customer_feedback",
         "type": "\"string\""
        },
        {
         "metadata": "{}",
         "name": "count",
         "type": "\"long\""
        }
       ],
       "type": "table"
      }
     },
     "output_type": "display_data"
    }
   ],
   "source": [
    "feedback_counts = rides_with_feedback.groupBy(\"customer_feedback\").count().orderBy(col(\"count\").desc())\n",
    "display(feedback_counts)"
   ]
  },
  {
   "cell_type": "code",
   "execution_count": 0,
   "metadata": {
    "application/vnd.databricks.v1+cell": {
     "cellMetadata": {
      "byteLimit": 2048000,
      "rowLimit": 10000
     },
     "inputWidgets": {},
     "nuid": "b7c20627-879b-4c2a-b8f5-ef544489488e",
     "showTitle": false,
     "tableResultSettingsMap": {},
     "title": ""
    }
   },
   "outputs": [],
   "source": [
    "rides_with_feedback.createOrReplaceTempView(\"rides\")\n",
    "drivers_df.createOrReplaceTempView(\"drivers\")\n"
   ]
  },
  {
   "cell_type": "code",
   "execution_count": 0,
   "metadata": {
    "application/vnd.databricks.v1+cell": {
     "cellMetadata": {
      "byteLimit": 2048000,
      "rowLimit": 10000
     },
     "inputWidgets": {},
     "nuid": "20004065-8827-4a17-958b-cd35c3d3c246",
     "showTitle": false,
     "tableResultSettingsMap": {},
     "title": ""
    }
   },
   "outputs": [
    {
     "output_type": "display_data",
     "data": {
      "text/html": [
       "<style scoped>\n",
       "  .table-result-container {\n",
       "    max-height: 300px;\n",
       "    overflow: auto;\n",
       "  }\n",
       "  table, th, td {\n",
       "    border: 1px solid black;\n",
       "    border-collapse: collapse;\n",
       "  }\n",
       "  th, td {\n",
       "    padding: 5px;\n",
       "  }\n",
       "  th {\n",
       "    text-align: left;\n",
       "  }\n",
       "</style><div class='table-result-container'><table class='table-result'><thead style='background-color: white'><tr><th>city</th><th>avg_price</th><th>rides_count</th></tr></thead><tbody><tr><td>Mumbai</td><td>800.0</td><td>1</td></tr><tr><td>Delhi</td><td>500.0</td><td>1</td></tr><tr><td>Bangalore</td><td>260.0</td><td>3</td></tr><tr><td>Chennai</td><td>180.0</td><td>1</td></tr><tr><td>Hyderabad</td><td>120.0</td><td>1</td></tr></tbody></table></div>"
      ]
     },
     "metadata": {
      "application/vnd.databricks.v1+output": {
       "addedWidgets": {},
       "aggData": [],
       "aggError": "",
       "aggOverflow": false,
       "aggSchema": [],
       "aggSeriesLimitReached": false,
       "aggType": "",
       "arguments": {},
       "columnCustomDisplayInfos": {},
       "data": [
        [
         "Mumbai",
         800.0,
         1
        ],
        [
         "Delhi",
         500.0,
         1
        ],
        [
         "Bangalore",
         260.0,
         3
        ],
        [
         "Chennai",
         180.0,
         1
        ],
        [
         "Hyderabad",
         120.0,
         1
        ]
       ],
       "datasetInfos": [],
       "dbfsResultPath": null,
       "isJsonSchema": true,
       "metadata": {},
       "overflow": false,
       "plotOptions": {
        "customPlotOptions": {},
        "displayType": "table",
        "pivotAggregation": null,
        "pivotColumns": null,
        "xColumns": null,
        "yColumns": null
       },
       "removedWidgets": [],
       "schema": [
        {
         "metadata": "{}",
         "name": "city",
         "type": "\"string\""
        },
        {
         "metadata": "{}",
         "name": "avg_price",
         "type": "\"double\""
        },
        {
         "metadata": "{}",
         "name": "rides_count",
         "type": "\"long\""
        }
       ],
       "type": "table"
      }
     },
     "output_type": "display_data"
    }
   ],
   "source": [
    "spark.sql(\"\"\"\n",
    "SELECT r.city,\n",
    "       ROUND(AVG(r.price), 2) AS avg_price,\n",
    "       COUNT(*) AS rides_count\n",
    "FROM rides r\n",
    "WHERE r.city IS NOT NULL\n",
    "GROUP BY r.city\n",
    "ORDER BY avg_price DESC\n",
    "\"\"\") \\\n",
    ".display()"
   ]
  },
  {
   "cell_type": "code",
   "execution_count": 0,
   "metadata": {
    "application/vnd.databricks.v1+cell": {
     "cellMetadata": {
      "byteLimit": 2048000,
      "rowLimit": 10000
     },
     "inputWidgets": {},
     "nuid": "5d342c88-e1e8-4a60-88a1-26f6203ce602",
     "showTitle": false,
     "tableResultSettingsMap": {},
     "title": ""
    }
   },
   "outputs": [
    {
     "output_type": "display_data",
     "data": {
      "text/html": [
       "<style scoped>\n",
       "  .table-result-container {\n",
       "    max-height: 300px;\n",
       "    overflow: auto;\n",
       "  }\n",
       "  table, th, td {\n",
       "    border: 1px solid black;\n",
       "    border-collapse: collapse;\n",
       "  }\n",
       "  th, td {\n",
       "    padding: 5px;\n",
       "  }\n",
       "  th {\n",
       "    text-align: left;\n",
       "  }\n",
       "</style><div class='table-result-container'><table class='table-result'><thead style='background-color: white'><tr><th>path</th><th>name</th><th>size</th><th>modificationTime</th></tr></thead><tbody><tr><td>dbfs:/FileStore/tables/rides_summary/_SUCCESS</td><td>_SUCCESS</td><td>0</td><td>1759838301000</td></tr><tr><td>dbfs:/FileStore/tables/rides_summary/_committed_8784006049558018096</td><td>_committed_8784006049558018096</td><td>112</td><td>1759838301000</td></tr><tr><td>dbfs:/FileStore/tables/rides_summary/_started_8784006049558018096</td><td>_started_8784006049558018096</td><td>0</td><td>1759838300000</td></tr><tr><td>dbfs:/FileStore/tables/rides_summary/part-00000-tid-8784006049558018096-fdb196a2-7264-4ebb-ad9f-59d55bb44c4b-71-1-c000.csv</td><td>part-00000-tid-8784006049558018096-fdb196a2-7264-4ebb-ad9f-59d55bb44c4b-71-1-c000.csv</td><td>723</td><td>1759838301000</td></tr></tbody></table></div>"
      ]
     },
     "metadata": {
      "application/vnd.databricks.v1+output": {
       "addedWidgets": {},
       "aggData": [],
       "aggError": "",
       "aggOverflow": false,
       "aggSchema": [],
       "aggSeriesLimitReached": false,
       "aggType": "",
       "arguments": {},
       "columnCustomDisplayInfos": {},
       "data": [
        [
         "dbfs:/FileStore/tables/rides_summary/_SUCCESS",
         "_SUCCESS",
         0,
         1759838301000
        ],
        [
         "dbfs:/FileStore/tables/rides_summary/_committed_8784006049558018096",
         "_committed_8784006049558018096",
         112,
         1759838301000
        ],
        [
         "dbfs:/FileStore/tables/rides_summary/_started_8784006049558018096",
         "_started_8784006049558018096",
         0,
         1759838300000
        ],
        [
         "dbfs:/FileStore/tables/rides_summary/part-00000-tid-8784006049558018096-fdb196a2-7264-4ebb-ad9f-59d55bb44c4b-71-1-c000.csv",
         "part-00000-tid-8784006049558018096-fdb196a2-7264-4ebb-ad9f-59d55bb44c4b-71-1-c000.csv",
         723,
         1759838301000
        ]
       ],
       "datasetInfos": [],
       "dbfsResultPath": null,
       "isJsonSchema": true,
       "metadata": {},
       "overflow": false,
       "plotOptions": {
        "customPlotOptions": {},
        "displayType": "table",
        "pivotAggregation": null,
        "pivotColumns": null,
        "xColumns": null,
        "yColumns": null
       },
       "removedWidgets": [],
       "schema": [
        {
         "metadata": "{}",
         "name": "path",
         "type": "\"string\""
        },
        {
         "metadata": "{}",
         "name": "name",
         "type": "\"string\""
        },
        {
         "metadata": "{}",
         "name": "size",
         "type": "\"long\""
        },
        {
         "metadata": "{}",
         "name": "modificationTime",
         "type": "\"long\""
        }
       ],
       "type": "table"
      }
     },
     "output_type": "display_data"
    }
   ],
   "source": [
    "rides_with_feedback.coalesce(1).write.mode(\"overwrite\").option(\"header\", \"true\") \\\n",
    "    .csv(\"/FileStore/tables/rides_summary\")\n",
    "\n",
    "display(dbutils.fs.ls(\"/FileStore/tables/rides_summary\"))"
   ]
  },
  {
   "cell_type": "code",
   "execution_count": 0,
   "metadata": {
    "application/vnd.databricks.v1+cell": {
     "cellMetadata": {
      "byteLimit": 2048000,
      "rowLimit": 10000
     },
     "inputWidgets": {},
     "nuid": "27ae9779-5be6-4d36-a7df-966df965e88d",
     "showTitle": false,
     "tableResultSettingsMap": {},
     "title": ""
    }
   },
   "outputs": [
    {
     "output_type": "display_data",
     "data": {
      "image/png": "[encoded data removed]",
      "text/plain": [
       "<Figure size 800x500 with 1 Axes>"
      ]
     },
     "metadata": {},
     "output_type": "display_data"
    }
   ],
   "source": [
    "revenue_pd = revenue_per_city.toPandas()\n",
    "import matplotlib.pyplot as plt\n",
    "\n",
    "plt.figure(figsize=(8,5))\n",
    "plt.bar(revenue_pd['city'].fillna(\"Unknown\"), revenue_pd['total_revenue'])\n",
    "plt.title(\"Total Revenue per City\")\n",
    "plt.xlabel(\"City\")\n",
    "plt.ylabel(\"Total Revenue (INR)\")\n",
    "plt.xticks(rotation=45)\n",
    "plt.tight_layout()\n",
    "plt.show()"
   ]
  }
 ],
 "metadata": {
  "application/vnd.databricks.v1+notebook": {
   "computePreferences": null,
   "dashboards": [],
   "environmentMetadata": {
    "base_environment": "",
    "environment_version": "3"
   },
   "inputWidgetPreferences": null,
   "language": "python",
   "notebookMetadata": {
    "pythonIndentUnit": 4
   },
   "notebookName": "Rides_share_db",
   "widgets": {}
  },
  "language_info": {
   "name": "python"
  }
 },
 "nbformat": 4,
 "nbformat_minor": 0
}