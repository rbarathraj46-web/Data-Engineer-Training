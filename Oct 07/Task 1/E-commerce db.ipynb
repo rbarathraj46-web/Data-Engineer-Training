{
 "cells": [
  {
   "cell_type": "code",
   "execution_count": 0,
   "metadata": {
    "application/vnd.databricks.v1+cell": {
     "cellMetadata": {
      "byteLimit": 2048000,
      "rowLimit": 10000
     },
     "inputWidgets": {},
     "nuid": "5fb12858-e103-4283-adee-a239d8778ad9",
     "showTitle": false,
     "tableResultSettingsMap": {},
     "title": ""
    }
   },
   "outputs": [
    {
     "output_type": "stream",
     "name": "stdout",
     "output_type": "stream",
     "text": [
      "Requirement already satisfied: pyspark in /local_disk0/.ephemeral_nfs/envs/pythonEnv-c4ec31a2-b6f0-4e03-80cd-810eacd46338/lib/python3.12/site-packages (4.0.1)\nRequirement already satisfied: py4j==0.10.9.9 in /local_disk0/.ephemeral_nfs/envs/pythonEnv-c4ec31a2-b6f0-4e03-80cd-810eacd46338/lib/python3.12/site-packages (from pyspark) (0.10.9.9)\n\u001B[43mNote: you may need to restart the kernel using %restart_python or dbutils.library.restartPython() to use updated packages.\u001B[0m\n"
     ]
    }
   ],
   "source": [
    "!pip install pyspark\n",
    "from pyspark.sql import SparkSession\n",
    "from pyspark.sql.functions import col, month, sum, avg, desc\n",
    "spark = SparkSession.builder.appName(\"ECommerceAnalysis\").getOrCreate()"
   ]
  },
  {
   "cell_type": "code",
   "execution_count": 0,
   "metadata": {
    "application/vnd.databricks.v1+cell": {
     "cellMetadata": {
      "byteLimit": 2048000,
      "rowLimit": 10000
     },
     "inputWidgets": {},
     "nuid": "8a43a8be-20fa-4c63-85c8-dfd08bd6d105",
     "showTitle": false,
     "tableResultSettingsMap": {},
     "title": ""
    }
   },
   "outputs": [],
   "source": [
    "customers_df = spark.read.csv(\"/FileStore/tables/customers.csv\", header=True, inferSchema=True)\n",
    "products_df = spark.read.csv(\"/FileStore/tables/products.csv\", header=True, inferSchema=True)\n",
    "orders_df = spark.read.csv(\"/FileStore/tables/orders.csv\", header=True, inferSchema=True)"
   ]
  },
  {
   "cell_type": "code",
   "execution_count": 0,
   "metadata": {
    "application/vnd.databricks.v1+cell": {
     "cellMetadata": {
      "byteLimit": 2048000,
      "rowLimit": 10000
     },
     "inputWidgets": {},
     "nuid": "fdeec920-2662-4aba-beb0-b40358edef5e",
     "showTitle": false,
     "tableResultSettingsMap": {},
     "title": ""
    }
   },
   "outputs": [
    {
     "output_type": "display_data",
     "data": {
      "text/html": [
       "<style scoped>\n",
       "  .table-result-container {\n",
       "    max-height: 300px;\n",
       "    overflow: auto;\n",
       "  }\n",
       "  table, th, td {\n",
       "    border: 1px solid black;\n",
       "    border-collapse: collapse;\n",
       "  }\n",
       "  th, td {\n",
       "    padding: 5px;\n",
       "  }\n",
       "  th {\n",
       "    text-align: left;\n",
       "  }\n",
       "</style><div class='table-result-container'><table class='table-result'><thead style='background-color: white'><tr><th>customer_id</th><th>name</th><th>city</th><th>age</th></tr></thead><tbody><tr><td>1</td><td>Rahul Sharma</td><td>Bangalore</td><td>28</td></tr><tr><td>2</td><td>Priya Singh</td><td>Delhi</td><td>32</td></tr><tr><td>3</td><td>Aman Kumar</td><td>Hyderabad</td><td>25</td></tr><tr><td>4</td><td>Sneha Reddy</td><td>Chennai</td><td>35</td></tr><tr><td>5</td><td>Arjun Mehta</td><td>Mumbai</td><td>30</td></tr><tr><td>6</td><td>Divya Nair</td><td>Delhi</td><td>29</td></tr></tbody></table></div>"
      ]
     },
     "metadata": {
      "application/vnd.databricks.v1+output": {
       "addedWidgets": {},
       "aggData": [],
       "aggError": "",
       "aggOverflow": false,
       "aggSchema": [],
       "aggSeriesLimitReached": false,
       "aggType": "",
       "arguments": {},
       "columnCustomDisplayInfos": {},
       "data": [
        [
         1,
         "Rahul Sharma",
         "Bangalore",
         28
        ],
        [
         2,
         "Priya Singh",
         "Delhi",
         32
        ],
        [
         3,
         "Aman Kumar",
         "Hyderabad",
         25
        ],
        [
         4,
         "Sneha Reddy",
         "Chennai",
         35
        ],
        [
         5,
         "Arjun Mehta",
         "Mumbai",
         30
        ],
        [
         6,
         "Divya Nair",
         "Delhi",
         29
        ]
       ],
       "datasetInfos": [],
       "dbfsResultPath": null,
       "isJsonSchema": true,
       "metadata": {},
       "overflow": false,
       "plotOptions": {
        "customPlotOptions": {},
        "displayType": "table",
        "pivotAggregation": null,
        "pivotColumns": null,
        "xColumns": null,
        "yColumns": null
       },
       "removedWidgets": [],
       "schema": [
        {
         "metadata": "{}",
         "name": "customer_id",
         "type": "\"integer\""
        },
        {
         "metadata": "{}",
         "name": "name",
         "type": "\"string\""
        },
        {
         "metadata": "{}",
         "name": "city",
         "type": "\"string\""
        },
        {
         "metadata": "{}",
         "name": "age",
         "type": "\"integer\""
        }
       ],
       "type": "table"
      }
     },
     "output_type": "display_data"
    },
    {
     "output_type": "display_data",
     "data": {
      "text/html": [
       "<style scoped>\n",
       "  .table-result-container {\n",
       "    max-height: 300px;\n",
       "    overflow: auto;\n",
       "  }\n",
       "  table, th, td {\n",
       "    border: 1px solid black;\n",
       "    border-collapse: collapse;\n",
       "  }\n",
       "  th, td {\n",
       "    padding: 5px;\n",
       "  }\n",
       "  th {\n",
       "    text-align: left;\n",
       "  }\n",
       "</style><div class='table-result-container'><table class='table-result'><thead style='background-color: white'><tr><th>product_id</th><th>product_name</th><th>category</th><th>price</th></tr></thead><tbody><tr><td>101</td><td>Laptop</td><td>Electronics</td><td>55000</td></tr><tr><td>102</td><td>Mobile</td><td>Electronics</td><td>25000</td></tr><tr><td>103</td><td>Headphones</td><td>Electronics</td><td>3000</td></tr><tr><td>104</td><td>Chair</td><td>Furniture</td><td>5000</td></tr><tr><td>105</td><td>Book</td><td>Stationery</td><td>700</td></tr><tr><td>106</td><td>Shoes</td><td>Fashion</td><td>2500</td></tr></tbody></table></div>"
      ]
     },
     "metadata": {
      "application/vnd.databricks.v1+output": {
       "addedWidgets": {},
       "aggData": [],
       "aggError": "",
       "aggOverflow": false,
       "aggSchema": [],
       "aggSeriesLimitReached": false,
       "aggType": "",
       "arguments": {},
       "columnCustomDisplayInfos": {},
       "data": [
        [
         101,
         "Laptop",
         "Electronics",
         55000
        ],
        [
         102,
         "Mobile",
         "Electronics",
         25000
        ],
        [
         103,
         "Headphones",
         "Electronics",
         3000
        ],
        [
         104,
         "Chair",
         "Furniture",
         5000
        ],
        [
         105,
         "Book",
         "Stationery",
         700
        ],
        [
         106,
         "Shoes",
         "Fashion",
         2500
        ]
       ],
       "datasetInfos": [],
       "dbfsResultPath": null,
       "isJsonSchema": true,
       "metadata": {},
       "overflow": false,
       "plotOptions": {
        "customPlotOptions": {},
        "displayType": "table",
        "pivotAggregation": null,
        "pivotColumns": null,
        "xColumns": null,
        "yColumns": null
       },
       "removedWidgets": [],
       "schema": [
        {
         "metadata": "{}",
         "name": "product_id",
         "type": "\"integer\""
        },
        {
         "metadata": "{}",
         "name": "product_name",
         "type": "\"string\""
        },
        {
         "metadata": "{}",
         "name": "category",
         "type": "\"string\""
        },
        {
         "metadata": "{}",
         "name": "price",
         "type": "\"integer\""
        }
       ],
       "type": "table"
      }
     },
     "output_type": "display_data"
    },
    {
     "output_type": "display_data",
     "data": {
      "text/html": [
       "<style scoped>\n",
       "  .table-result-container {\n",
       "    max-height: 300px;\n",
       "    overflow: auto;\n",
       "  }\n",
       "  table, th, td {\n",
       "    border: 1px solid black;\n",
       "    border-collapse: collapse;\n",
       "  }\n",
       "  th, td {\n",
       "    padding: 5px;\n",
       "  }\n",
       "  th {\n",
       "    text-align: left;\n",
       "  }\n",
       "</style><div class='table-result-container'><table class='table-result'><thead style='background-color: white'><tr><th>order_id</th><th>customer_id</th><th>product_id</th><th>quantity</th><th>order_date</th></tr></thead><tbody><tr><td>1001</td><td>1</td><td>101</td><td>1</td><td>2024-01-10</td></tr><tr><td>1002</td><td>2</td><td>102</td><td>2</td><td>2024-01-12</td></tr><tr><td>1003</td><td>1</td><td>103</td><td>3</td><td>2024-02-05</td></tr><tr><td>1004</td><td>3</td><td>104</td><td>1</td><td>2024-02-08</td></tr><tr><td>1005</td><td>5</td><td>105</td><td>5</td><td>2024-03-01</td></tr><tr><td>1006</td><td>6</td><td>106</td><td>2</td><td>2024-03-15</td></tr><tr><td>1007</td><td>7</td><td>101</td><td>1</td><td>2024-03-20</td></tr></tbody></table></div>"
      ]
     },
     "metadata": {
      "application/vnd.databricks.v1+output": {
       "addedWidgets": {},
       "aggData": [],
       "aggError": "",
       "aggOverflow": false,
       "aggSchema": [],
       "aggSeriesLimitReached": false,
       "aggType": "",
       "arguments": {},
       "columnCustomDisplayInfos": {},
       "data": [
        [
         1001,
         1,
         101,
         1,
         "2024-01-10"
        ],
        [
         1002,
         2,
         102,
         2,
         "2024-01-12"
        ],
        [
         1003,
         1,
         103,
         3,
         "2024-02-05"
        ],
        [
         1004,
         3,
         104,
         1,
         "2024-02-08"
        ],
        [
         1005,
         5,
         105,
         5,
         "2024-03-01"
        ],
        [
         1006,
         6,
         106,
         2,
         "2024-03-15"
        ],
        [
         1007,
         7,
         101,
         1,
         "2024-03-20"
        ]
       ],
       "datasetInfos": [],
       "dbfsResultPath": null,
       "isJsonSchema": true,
       "metadata": {},
       "overflow": false,
       "plotOptions": {
        "customPlotOptions": {},
        "displayType": "table",
        "pivotAggregation": null,
        "pivotColumns": null,
        "xColumns": null,
        "yColumns": null
       },
       "removedWidgets": [],
       "schema": [
        {
         "metadata": "{}",
         "name": "order_id",
         "type": "\"integer\""
        },
        {
         "metadata": "{}",
         "name": "customer_id",
         "type": "\"integer\""
        },
        {
         "metadata": "{}",
         "name": "product_id",
         "type": "\"integer\""
        },
        {
         "metadata": "{}",
         "name": "quantity",
         "type": "\"integer\""
        },
        {
         "metadata": "{\"__detected_date_formats\":\"yyyy-M-d\"}",
         "name": "order_date",
         "type": "\"date\""
        }
       ],
       "type": "table"
      }
     },
     "output_type": "display_data"
    }
   ],
   "source": [
    "display(customers_df)\n",
    "display(products_df)\n",
    "display(orders_df)"
   ]
  },
  {
   "cell_type": "code",
   "execution_count": 0,
   "metadata": {
    "application/vnd.databricks.v1+cell": {
     "cellMetadata": {
      "byteLimit": 2048000,
      "rowLimit": 10000
     },
     "inputWidgets": {},
     "nuid": "327adb3e-561a-4123-ad3e-0f5ab635b6ec",
     "showTitle": false,
     "tableResultSettingsMap": {},
     "title": ""
    }
   },
   "outputs": [
    {
     "output_type": "display_data",
     "data": {
      "text/html": [
       "<style scoped>\n",
       "  .table-result-container {\n",
       "    max-height: 300px;\n",
       "    overflow: auto;\n",
       "  }\n",
       "  table, th, td {\n",
       "    border: 1px solid black;\n",
       "    border-collapse: collapse;\n",
       "  }\n",
       "  th, td {\n",
       "    padding: 5px;\n",
       "  }\n",
       "  th {\n",
       "    text-align: left;\n",
       "  }\n",
       "</style><div class='table-result-container'><table class='table-result'><thead style='background-color: white'><tr><th>product_id</th><th>order_id</th><th>customer_id</th><th>quantity</th><th>order_date</th><th>product_name</th><th>category</th><th>price</th><th>total_price</th></tr></thead><tbody><tr><td>101</td><td>1001</td><td>1</td><td>1</td><td>2024-01-10</td><td>Laptop</td><td>Electronics</td><td>55000</td><td>55000</td></tr><tr><td>102</td><td>1002</td><td>2</td><td>2</td><td>2024-01-12</td><td>Mobile</td><td>Electronics</td><td>25000</td><td>50000</td></tr><tr><td>103</td><td>1003</td><td>1</td><td>3</td><td>2024-02-05</td><td>Headphones</td><td>Electronics</td><td>3000</td><td>9000</td></tr><tr><td>104</td><td>1004</td><td>3</td><td>1</td><td>2024-02-08</td><td>Chair</td><td>Furniture</td><td>5000</td><td>5000</td></tr><tr><td>105</td><td>1005</td><td>5</td><td>5</td><td>2024-03-01</td><td>Book</td><td>Stationery</td><td>700</td><td>3500</td></tr><tr><td>106</td><td>1006</td><td>6</td><td>2</td><td>2024-03-15</td><td>Shoes</td><td>Fashion</td><td>2500</td><td>5000</td></tr><tr><td>101</td><td>1007</td><td>7</td><td>1</td><td>2024-03-20</td><td>Laptop</td><td>Electronics</td><td>55000</td><td>55000</td></tr></tbody></table></div>"
      ]
     },
     "metadata": {
      "application/vnd.databricks.v1+output": {
       "addedWidgets": {},
       "aggData": [],
       "aggError": "",
       "aggOverflow": false,
       "aggSchema": [],
       "aggSeriesLimitReached": false,
       "aggType": "",
       "arguments": {},
       "columnCustomDisplayInfos": {},
       "data": [
        [
         101,
         1001,
         1,
         1,
         "2024-01-10",
         "Laptop",
         "Electronics",
         55000,
         55000
        ],
        [
         102,
         1002,
         2,
         2,
         "2024-01-12",
         "Mobile",
         "Electronics",
         25000,
         50000
        ],
        [
         103,
         1003,
         1,
         3,
         "2024-02-05",
         "Headphones",
         "Electronics",
         3000,
         9000
        ],
        [
         104,
         1004,
         3,
         1,
         "2024-02-08",
         "Chair",
         "Furniture",
         5000,
         5000
        ],
        [
         105,
         1005,
         5,
         5,
         "2024-03-01",
         "Book",
         "Stationery",
         700,
         3500
        ],
        [
         106,
         1006,
         6,
         2,
         "2024-03-15",
         "Shoes",
         "Fashion",
         2500,
         5000
        ],
        [
         101,
         1007,
         7,
         1,
         "2024-03-20",
         "Laptop",
         "Electronics",
         55000,
         55000
        ]
       ],
       "datasetInfos": [],
       "dbfsResultPath": null,
       "isJsonSchema": true,
       "metadata": {},
       "overflow": false,
       "plotOptions": {
        "customPlotOptions": {},
        "displayType": "table",
        "pivotAggregation": null,
        "pivotColumns": null,
        "xColumns": null,
        "yColumns": null
       },
       "removedWidgets": [],
       "schema": [
        {
         "metadata": "{}",
         "name": "product_id",
         "type": "\"integer\""
        },
        {
         "metadata": "{}",
         "name": "order_id",
         "type": "\"integer\""
        },
        {
         "metadata": "{}",
         "name": "customer_id",
         "type": "\"integer\""
        },
        {
         "metadata": "{}",
         "name": "quantity",
         "type": "\"integer\""
        },
        {
         "metadata": "{\"__detected_date_formats\":\"yyyy-M-d\"}",
         "name": "order_date",
         "type": "\"date\""
        },
        {
         "metadata": "{}",
         "name": "product_name",
         "type": "\"string\""
        },
        {
         "metadata": "{}",
         "name": "category",
         "type": "\"string\""
        },
        {
         "metadata": "{}",
         "name": "price",
         "type": "\"integer\""
        },
        {
         "metadata": "{}",
         "name": "total_price",
         "type": "\"integer\""
        }
       ],
       "type": "table"
      }
     },
     "output_type": "display_data"
    }
   ],
   "source": [
    "joined_df = orders_df.join(products_df, \"product_id\")\n",
    "orders_total_df = joined_df.withColumn(\"total_price\", joined_df.quantity * joined_df.price)\n",
    "display(orders_total_df)"
   ]
  },
  {
   "cell_type": "code",
   "execution_count": 0,
   "metadata": {
    "application/vnd.databricks.v1+cell": {
     "cellMetadata": {
      "byteLimit": 2048000,
      "rowLimit": 10000
     },
     "inputWidgets": {},
     "nuid": "a514c793-64aa-4f02-b9e0-7b8dd70f0693",
     "showTitle": false,
     "tableResultSettingsMap": {},
     "title": ""
    }
   },
   "outputs": [
    {
     "output_type": "stream",
     "name": "stdout",
     "output_type": "stream",
     "text": [
      "total_price > 40000 :\n+----------+--------+-----------+--------+----------+------------+-----------+-----+-----------+\n|product_id|order_id|customer_id|quantity|order_date|product_name|   category|price|total_price|\n+----------+--------+-----------+--------+----------+------------+-----------+-----+-----------+\n|       101|    1001|          1|       1|2024-01-10|      Laptop|Electronics|55000|      55000|\n|       102|    1002|          2|       2|2024-01-12|      Mobile|Electronics|25000|      50000|\n|       101|    1007|          7|       1|2024-03-20|      Laptop|Electronics|55000|      55000|\n+----------+--------+-----------+--------+----------+------------+-----------+-----+-----------+\n\n"
     ]
    }
   ],
   "source": [
    "high_value_orders = orders_total_df.filter(col(\"total_price\") > 40000)\n",
    "print(\"total_price > 40000 :\")\n",
    "high_value_orders.show()"
   ]
  },
  {
   "cell_type": "code",
   "execution_count": 0,
   "metadata": {
    "application/vnd.databricks.v1+cell": {
     "cellMetadata": {
      "byteLimit": 2048000,
      "rowLimit": 10000
     },
     "inputWidgets": {},
     "nuid": "60fde133-3422-4f36-ab80-c2ea0b3bd18f",
     "showTitle": false,
     "tableResultSettingsMap": {},
     "title": ""
    }
   },
   "outputs": [
    {
     "output_type": "stream",
     "name": "stdout",
     "output_type": "stream",
     "text": [
      "+----------+--------+-----------+--------+----------+------------+-----------+-----+-----------+-----+\n|product_id|order_id|customer_id|quantity|order_date|product_name|   category|price|total_price|month|\n+----------+--------+-----------+--------+----------+------------+-----------+-----+-----------+-----+\n|       101|    1001|          1|       1|2024-01-10|      Laptop|Electronics|55000|      55000|    1|\n|       102|    1002|          2|       2|2024-01-12|      Mobile|Electronics|25000|      50000|    1|\n|       103|    1003|          1|       3|2024-02-05|  Headphones|Electronics| 3000|       9000|    2|\n|       104|    1004|          3|       1|2024-02-08|       Chair|  Furniture| 5000|       5000|    2|\n|       105|    1005|          5|       5|2024-03-01|        Book| Stationery|  700|       3500|    3|\n|       106|    1006|          6|       2|2024-03-15|       Shoes|    Fashion| 2500|       5000|    3|\n|       101|    1007|          7|       1|2024-03-20|      Laptop|Electronics|55000|      55000|    3|\n+----------+--------+-----------+--------+----------+------------+-----------+-----+-----------+-----+\n\n"
     ]
    }
   ],
   "source": [
    "orders_with_month = orders_total_df.withColumn(\"month\", month(col(\"order_date\")))\n",
    "orders_with_month.show()"
   ]
  },
  {
   "cell_type": "code",
   "execution_count": 0,
   "metadata": {
    "application/vnd.databricks.v1+cell": {
     "cellMetadata": {
      "byteLimit": 2048000,
      "rowLimit": 10000
     },
     "inputWidgets": {},
     "nuid": "9841e48f-7366-4800-94ae-e8e40fcf5c9a",
     "showTitle": false,
     "tableResultSettingsMap": {},
     "title": ""
    }
   },
   "outputs": [
    {
     "output_type": "stream",
     "name": "stdout",
     "output_type": "stream",
     "text": [
      "+----------+--------+-----------+--------+----------+------------+-----------+-----+-----------+-----+\n|product_id|order_id|customer_id|quantity|order_date|product_name|   category|price|total_price|month|\n+----------+--------+-----------+--------+----------+------------+-----------+-----+-----------+-----+\n|       101|    1007|          7|       1|2024-03-20|      Laptop|Electronics|55000|      55000|    3|\n|       101|    1001|          1|       1|2024-01-10|      Laptop|Electronics|55000|      55000|    1|\n|       102|    1002|          2|       2|2024-01-12|      Mobile|Electronics|25000|      50000|    1|\n|       103|    1003|          1|       3|2024-02-05|  Headphones|Electronics| 3000|       9000|    2|\n|       104|    1004|          3|       1|2024-02-08|       Chair|  Furniture| 5000|       5000|    2|\n|       106|    1006|          6|       2|2024-03-15|       Shoes|    Fashion| 2500|       5000|    3|\n|       105|    1005|          5|       5|2024-03-01|        Book| Stationery|  700|       3500|    3|\n+----------+--------+-----------+--------+----------+------------+-----------+-----+-----------+-----+\n\n"
     ]
    }
   ],
   "source": [
    "orders_with_month.orderBy(desc(\"total_price\")).show()"
   ]
  },
  {
   "cell_type": "code",
   "execution_count": 0,
   "metadata": {
    "application/vnd.databricks.v1+cell": {
     "cellMetadata": {
      "byteLimit": 2048000,
      "rowLimit": 10000
     },
     "inputWidgets": {},
     "nuid": "33c49770-0690-46e3-8579-0259f70894c8",
     "showTitle": false,
     "tableResultSettingsMap": {},
     "title": ""
    }
   },
   "outputs": [
    {
     "output_type": "stream",
     "name": "stdout",
     "output_type": "stream",
     "text": [
      "+---------+-------------+\n|     city|total_revenue|\n+---------+-------------+\n|Bangalore|        64000|\n|   Mumbai|         3500|\n|    Delhi|        55000|\n|Hyderabad|         5000|\n+---------+-------------+\n\n"
     ]
    }
   ],
   "source": [
    "orders_total_df.join(customers_df, \"customer_id\").groupBy(\"city\").agg(sum(\"total_price\").alias(\"total_revenue\")).show()"
   ]
  },
  {
   "cell_type": "code",
   "execution_count": 0,
   "metadata": {
    "application/vnd.databricks.v1+cell": {
     "cellMetadata": {
      "byteLimit": 2048000,
      "rowLimit": 10000
     },
     "inputWidgets": {},
     "nuid": "d362cc67-6a57-4b9a-852b-8bf6237ba82c",
     "showTitle": false,
     "tableResultSettingsMap": {},
     "title": ""
    }
   },
   "outputs": [
    {
     "output_type": "stream",
     "name": "stdout",
     "output_type": "stream",
     "text": [
      "+---------+-----------+\n|     city|average_age|\n+---------+-----------+\n|Bangalore|       28.0|\n|  Chennai|       35.0|\n|   Mumbai|       30.0|\n|    Delhi|       30.5|\n|Hyderabad|       25.0|\n+---------+-----------+\n\n"
     ]
    }
   ],
   "source": [
    "customers_df.groupBy(\"city\").agg(avg(\"age\").alias(\"average_age\")).show()"
   ]
  },
  {
   "cell_type": "code",
   "execution_count": 0,
   "metadata": {
    "application/vnd.databricks.v1+cell": {
     "cellMetadata": {
      "byteLimit": 2048000,
      "rowLimit": 10000
     },
     "inputWidgets": {},
     "nuid": "b936562f-28e9-49dd-b61c-5cc16f82273e",
     "showTitle": false,
     "tableResultSettingsMap": {},
     "title": ""
    }
   },
   "outputs": [
    {
     "output_type": "stream",
     "name": "stdout",
     "output_type": "stream",
     "text": [
      "+-----------+-------------+\n|   category|total_revenue|\n+-----------+-------------+\n| Stationery|         3500|\n|    Fashion|         5000|\n|Electronics|       169000|\n|  Furniture|         5000|\n+-----------+-------------+\n\n"
     ]
    }
   ],
   "source": [
    "orders_total_df.groupBy(\"category\").agg(sum(\"total_price\").alias(\"total_revenue\")).show()\n"
   ]
  },
  {
   "cell_type": "code",
   "execution_count": 0,
   "metadata": {
    "application/vnd.databricks.v1+cell": {
     "cellMetadata": {
      "byteLimit": 2048000,
      "rowLimit": 10000
     },
     "inputWidgets": {},
     "nuid": "a5b036b8-4ac5-4890-b656-60a9f1ee9d98",
     "showTitle": false,
     "tableResultSettingsMap": {},
     "title": ""
    }
   },
   "outputs": [
    {
     "output_type": "stream",
     "name": "stdout",
     "output_type": "stream",
     "text": [
      "+------------+-----------+\n|        name|total_spent|\n+------------+-----------+\n|Rahul Sharma|      64000|\n| Priya Singh|      50000|\n|  Divya Nair|       5000|\n+------------+-----------+\n\n"
     ]
    }
   ],
   "source": [
    "top_customers = (orders_total_df\n",
    "    .join(customers_df, \"customer_id\")\n",
    "    .groupBy(\"name\")\n",
    "    .agg(_sum(\"total_price\").alias(\"total_spent\"))\n",
    "    .orderBy(desc(\"total_spent\"))\n",
    "    .limit(3)\n",
    ")\n",
    "top_customers.show()"
   ]
  },
  {
   "cell_type": "code",
   "execution_count": 0,
   "metadata": {
    "application/vnd.databricks.v1+cell": {
     "cellMetadata": {
      "byteLimit": 2048000,
      "rowLimit": 10000
     },
     "inputWidgets": {},
     "nuid": "ec21cde9-f712-4328-bf5f-2ae050b7062b",
     "showTitle": false,
     "tableResultSettingsMap": {},
     "title": ""
    }
   },
   "outputs": [
    {
     "output_type": "stream",
     "name": "stdout",
     "output_type": "stream",
     "text": [
      "+-----------+--------+----------+--------+----------+------------+---------+---+\n|customer_id|order_id|product_id|quantity|order_date|        name|     city|age|\n+-----------+--------+----------+--------+----------+------------+---------+---+\n|          1|    1001|       101|       1|2024-01-10|Rahul Sharma|Bangalore| 28|\n|          2|    1002|       102|       2|2024-01-12| Priya Singh|    Delhi| 32|\n|          1|    1003|       103|       3|2024-02-05|Rahul Sharma|Bangalore| 28|\n|          3|    1004|       104|       1|2024-02-08|  Aman Kumar|Hyderabad| 25|\n|          5|    1005|       105|       5|2024-03-01| Arjun Mehta|   Mumbai| 30|\n|          6|    1006|       106|       2|2024-03-15|  Divya Nair|    Delhi| 29|\n+-----------+--------+----------+--------+----------+------------+---------+---+\n\n+-----------+------------+---------+---+--------+----------+--------+----------+\n|customer_id|        name|     city|age|order_id|product_id|quantity|order_date|\n+-----------+------------+---------+---+--------+----------+--------+----------+\n|          1|Rahul Sharma|Bangalore| 28|    1003|       103|       3|2024-02-05|\n|          6|  Divya Nair|    Delhi| 29|    1006|       106|       2|2024-03-15|\n|          3|  Aman Kumar|Hyderabad| 25|    1004|       104|       1|2024-02-08|\n|          5| Arjun Mehta|   Mumbai| 30|    1005|       105|       5|2024-03-01|\n|          4| Sneha Reddy|  Chennai| 35|    NULL|      NULL|    NULL|      NULL|\n|          2| Priya Singh|    Delhi| 32|    1002|       102|       2|2024-01-12|\n|          1|Rahul Sharma|Bangalore| 28|    1001|       101|       1|2024-01-10|\n+-----------+------------+---------+---+--------+----------+--------+----------+\n\n+----------+--------+-----------+--------+----------+------------+-----------+-----+\n|product_id|order_id|customer_id|quantity|order_date|product_name|   category|price|\n+----------+--------+-----------+--------+----------+------------+-----------+-----+\n|       101|    1007|          7|       1|2024-03-20|      Laptop|Electronics|55000|\n|       103|    1003|          1|       3|2024-02-05|  Headphones|Electronics| 3000|\n|       102|    1002|          2|       2|2024-01-12|      Mobile|Electronics|25000|\n|       105|    1005|          5|       5|2024-03-01|        Book| Stationery|  700|\n|       106|    1006|          6|       2|2024-03-15|       Shoes|    Fashion| 2500|\n|       104|    1004|          3|       1|2024-02-08|       Chair|  Furniture| 5000|\n|       101|    1001|          1|       1|2024-01-10|      Laptop|Electronics|55000|\n+----------+--------+-----------+--------+----------+------------+-----------+-----+\n\n"
     ]
    }
   ],
   "source": [
    "orders_df.join(customers_df, \"customer_id\", \"inner\").show()\n",
    "customers_df.join(orders_df, \"customer_id\", \"left\").show()\n",
    "orders_df.join(products_df, \"product_id\", \"right\").show()"
   ]
  },
  {
   "cell_type": "code",
   "execution_count": 0,
   "metadata": {
    "application/vnd.databricks.v1+cell": {
     "cellMetadata": {
      "byteLimit": 2048000,
      "rowLimit": 10000
     },
     "inputWidgets": {},
     "nuid": "f86f7a5d-142a-4c91-a3b8-6ac68405d1cd",
     "showTitle": false,
     "tableResultSettingsMap": {},
     "title": ""
    }
   },
   "outputs": [
    {
     "output_type": "stream",
     "name": "stdout",
     "output_type": "stream",
     "text": [
      "+-----------+-----------+-------+---+\n|customer_id|       name|   city|age|\n+-----------+-----------+-------+---+\n|          4|Sneha Reddy|Chennai| 35|\n+-----------+-----------+-------+---+\n\n"
     ]
    }
   ],
   "source": [
    "customers_df.join(orders_df, \"customer_id\", \"left_anti\").show()"
   ]
  },
  {
   "cell_type": "code",
   "execution_count": 0,
   "metadata": {
    "application/vnd.databricks.v1+cell": {
     "cellMetadata": {
      "byteLimit": 2048000,
      "rowLimit": 10000
     },
     "inputWidgets": {},
     "nuid": "e5caf754-5364-437f-b6a5-38bab415c68e",
     "showTitle": false,
     "tableResultSettingsMap": {},
     "title": ""
    }
   },
   "outputs": [
    {
     "output_type": "stream",
     "name": "stdout",
     "output_type": "stream",
     "text": [
      "+----------+------------+--------+-----+\n|product_id|product_name|category|price|\n+----------+------------+--------+-----+\n+----------+------------+--------+-----+\n\n"
     ]
    }
   ],
   "source": [
    "products_df.join(orders_df, \"product_id\", \"left_anti\").show()"
   ]
  },
  {
   "cell_type": "code",
   "execution_count": 0,
   "metadata": {
    "application/vnd.databricks.v1+cell": {
     "cellMetadata": {
      "byteLimit": 2048000,
      "rowLimit": 10000
     },
     "inputWidgets": {},
     "nuid": "f53f63b6-83de-448e-89e0-2cd6528a614d",
     "showTitle": false,
     "tableResultSettingsMap": {},
     "title": ""
    }
   },
   "outputs": [],
   "source": [
    "customers_df.createOrReplaceTempView(\"customers\")\n",
    "products_df.createOrReplaceTempView(\"products\")\n",
    "orders_total_df.createOrReplaceTempView(\"orders\")"
   ]
  },
  {
   "cell_type": "code",
   "execution_count": 0,
   "metadata": {
    "application/vnd.databricks.v1+cell": {
     "cellMetadata": {
      "byteLimit": 2048000,
      "rowLimit": 10000
     },
     "inputWidgets": {},
     "nuid": "f8fc4a5c-a773-4007-9bfd-09e91cb93d79",
     "showTitle": false,
     "tableResultSettingsMap": {},
     "title": ""
    }
   },
   "outputs": [
    {
     "output_type": "stream",
     "name": "stdout",
     "output_type": "stream",
     "text": [
      "+---------+-------------+\n|     city|total_revenue|\n+---------+-------------+\n|Bangalore|        64000|\n|    Delhi|        55000|\n+---------+-------------+\n\n"
     ]
    }
   ],
   "source": [
    "spark.sql(\"\"\"\n",
    "SELECT c.city, SUM(o.total_price) AS total_revenue\n",
    "FROM orders o\n",
    "JOIN customers c ON o.customer_id = c.customer_id\n",
    "GROUP BY c.city\n",
    "ORDER BY total_revenue DESC\n",
    "LIMIT 2\n",
    "\"\"\").show()"
   ]
  },
  {
   "cell_type": "code",
   "execution_count": 0,
   "metadata": {
    "application/vnd.databricks.v1+cell": {
     "cellMetadata": {
      "byteLimit": 2048000,
      "rowLimit": 10000
     },
     "inputWidgets": {},
     "nuid": "b5767bc4-e2df-4313-bd0c-337dc5b43be0",
     "showTitle": false,
     "tableResultSettingsMap": {},
     "title": ""
    }
   },
   "outputs": [
    {
     "output_type": "stream",
     "name": "stdout",
     "output_type": "stream",
     "text": [
      "+-----------+-------------+\n|   category|total_revenue|\n+-----------+-------------+\n|Electronics|       169000|\n+-----------+-------------+\n\n"
     ]
    }
   ],
   "source": [
    "spark.sql(\"\"\"\n",
    "SELECT p.category, SUM(o.total_price) AS total_revenue\n",
    "FROM orders o\n",
    "JOIN products p ON o.product_id = p.product_id\n",
    "GROUP BY p.category\n",
    "ORDER BY total_revenue DESC\n",
    "LIMIT 1\n",
    "\"\"\").show()"
   ]
  },
  {
   "cell_type": "code",
   "execution_count": 0,
   "metadata": {
    "application/vnd.databricks.v1+cell": {
     "cellMetadata": {
      "byteLimit": 2048000,
      "rowLimit": 10000
     },
     "inputWidgets": {},
     "nuid": "f3bc652e-50e5-43da-bc37-e99844159021",
     "showTitle": false,
     "tableResultSettingsMap": {},
     "title": ""
    }
   },
   "outputs": [
    {
     "output_type": "stream",
     "name": "stdout",
     "output_type": "stream",
     "text": [
      "+------------+-----------+\n|        name|total_spent|\n+------------+-----------+\n|Rahul Sharma|      64000|\n+------------+-----------+\n\n"
     ]
    }
   ],
   "source": [
    "spark.sql(\"\"\"\n",
    "SELECT c.name, SUM(o.total_price) AS total_spent\n",
    "FROM orders o\n",
    "JOIN customers c ON o.customer_id = c.customer_id\n",
    "GROUP BY c.name\n",
    "HAVING total_spent > 50000\n",
    "\"\"\").show()"
   ]
  },
  {
   "cell_type": "code",
   "execution_count": 0,
   "metadata": {
    "application/vnd.databricks.v1+cell": {
     "cellMetadata": {
      "byteLimit": 2048000,
      "rowLimit": 10000
     },
     "inputWidgets": {},
     "nuid": "9eab748d-efb1-441a-8279-aa3c2668a14a",
     "showTitle": false,
     "tableResultSettingsMap": {},
     "title": ""
    }
   },
   "outputs": [
    {
     "output_type": "stream",
     "name": "stdout",
     "output_type": "stream",
     "text": [
      "+-----+-------------+\n|month|monthly_sales|\n+-----+-------------+\n|    1|       105000|\n|    3|        63500|\n|    2|        14000|\n+-----+-------------+\n\n"
     ]
    }
   ],
   "source": [
    "spark.sql(\"\"\"\n",
    "SELECT MONTH(order_date) AS month, SUM(total_price) AS monthly_sales\n",
    "FROM orders\n",
    "GROUP BY month\n",
    "\"\"\").show()"
   ]
  },
  {
   "cell_type": "code",
   "execution_count": 0,
   "metadata": {
    "application/vnd.databricks.v1+cell": {
     "cellMetadata": {
      "byteLimit": 2048000,
      "rowLimit": 10000
     },
     "inputWidgets": {},
     "nuid": "09ee59c7-779a-4d3f-a698-c00026f9e1dd",
     "showTitle": false,
     "tableResultSettingsMap": {},
     "title": ""
    }
   },
   "outputs": [],
   "source": [
    "orders_total_df.write.mode(\"overwrite\").csv(\"/FileStore/tables/orders_summary\")"
   ]
  },
  {
   "cell_type": "code",
   "execution_count": 0,
   "metadata": {
    "application/vnd.databricks.v1+cell": {
     "cellMetadata": {
      "byteLimit": 2048000,
      "rowLimit": 10000
     },
     "inputWidgets": {},
     "nuid": "2de9dbde-f81a-4242-8717-f0e10c81c019",
     "showTitle": false,
     "tableResultSettingsMap": {},
     "title": ""
    }
   },
   "outputs": [
    {
     "output_type": "display_data",
     "data": {
      "text/html": [
       "<style scoped>\n",
       "  .table-result-container {\n",
       "    max-height: 300px;\n",
       "    overflow: auto;\n",
       "  }\n",
       "  table, th, td {\n",
       "    border: 1px solid black;\n",
       "    border-collapse: collapse;\n",
       "  }\n",
       "  th, td {\n",
       "    padding: 5px;\n",
       "  }\n",
       "  th {\n",
       "    text-align: left;\n",
       "  }\n",
       "</style><div class='table-result-container'><table class='table-result'><thead style='background-color: white'><tr><th>path</th><th>name</th><th>size</th><th>modificationTime</th></tr></thead><tbody><tr><td>dbfs:/FileStore/tables/orders_summary/_SUCCESS</td><td>_SUCCESS</td><td>0</td><td>1759819550000</td></tr><tr><td>dbfs:/FileStore/tables/orders_summary/_committed_8930725267336536042</td><td>_committed_8930725267336536042</td><td>112</td><td>1759819550000</td></tr><tr><td>dbfs:/FileStore/tables/orders_summary/_started_8930725267336536042</td><td>_started_8930725267336536042</td><td>0</td><td>1759819550000</td></tr><tr><td>dbfs:/FileStore/tables/orders_summary/part-00000-tid-8930725267336536042-a2f18e1d-5834-44c9-8791-abdbc0b6c974-81-1-c000.csv</td><td>part-00000-tid-8930725267336536042-a2f18e1d-5834-44c9-8791-abdbc0b6c974-81-1-c000.csv</td><td>369</td><td>1759819550000</td></tr></tbody></table></div>"
      ]
     },
     "metadata": {
      "application/vnd.databricks.v1+output": {
       "addedWidgets": {},
       "aggData": [],
       "aggError": "",
       "aggOverflow": false,
       "aggSchema": [],
       "aggSeriesLimitReached": false,
       "aggType": "",
       "arguments": {},
       "columnCustomDisplayInfos": {},
       "data": [
        [
         "dbfs:/FileStore/tables/orders_summary/_SUCCESS",
         "_SUCCESS",
         0,
         1759819550000
        ],
        [
         "dbfs:/FileStore/tables/orders_summary/_committed_8930725267336536042",
         "_committed_8930725267336536042",
         112,
         1759819550000
        ],
        [
         "dbfs:/FileStore/tables/orders_summary/_started_8930725267336536042",
         "_started_8930725267336536042",
         0,
         1759819550000
        ],
        [
         "dbfs:/FileStore/tables/orders_summary/part-00000-tid-8930725267336536042-a2f18e1d-5834-44c9-8791-abdbc0b6c974-81-1-c000.csv",
         "part-00000-tid-8930725267336536042-a2f18e1d-5834-44c9-8791-abdbc0b6c974-81-1-c000.csv",
         369,
         1759819550000
        ]
       ],
       "datasetInfos": [],
       "dbfsResultPath": null,
       "isJsonSchema": true,
       "metadata": {},
       "overflow": false,
       "plotOptions": {
        "customPlotOptions": {},
        "displayType": "table",
        "pivotAggregation": null,
        "pivotColumns": null,
        "xColumns": null,
        "yColumns": null
       },
       "removedWidgets": [],
       "schema": [
        {
         "metadata": "{}",
         "name": "path",
         "type": "\"string\""
        },
        {
         "metadata": "{}",
         "name": "name",
         "type": "\"string\""
        },
        {
         "metadata": "{}",
         "name": "size",
         "type": "\"long\""
        },
        {
         "metadata": "{}",
         "name": "modificationTime",
         "type": "\"long\""
        }
       ],
       "type": "table"
      }
     },
     "output_type": "display_data"
    }
   ],
   "source": [
    "display(dbutils.fs.ls(\"/FileStore/tables/orders_summary\"))"
   ]
  },
  {
   "cell_type": "code",
   "execution_count": 0,
   "metadata": {
    "application/vnd.databricks.v1+cell": {
     "cellMetadata": {
      "byteLimit": 2048000,
      "rowLimit": 10000
     },
     "inputWidgets": {},
     "nuid": "65ad6c1f-bc71-4526-9856-56ff9a2c6225",
     "showTitle": false,
     "tableResultSettingsMap": {},
     "title": ""
    }
   },
   "outputs": [
    {
     "output_type": "display_data",
     "data": {
      "text/html": [
       "<style scoped>\n",
       "  .table-result-container {\n",
       "    max-height: 300px;\n",
       "    overflow: auto;\n",
       "  }\n",
       "  table, th, td {\n",
       "    border: 1px solid black;\n",
       "    border-collapse: collapse;\n",
       "  }\n",
       "  th, td {\n",
       "    padding: 5px;\n",
       "  }\n",
       "  th {\n",
       "    text-align: left;\n",
       "  }\n",
       "</style><div class='table-result-container'><table class='table-result'><thead style='background-color: white'><tr><th>101</th><th>1001</th><th>12</th><th>13</th><th>2024-01-10</th><th>Laptop</th><th>Electronics</th><th>550007</th><th>550008</th></tr></thead><tbody><tr><td>102</td><td>1002</td><td>2</td><td>2</td><td>2024-01-12</td><td>Mobile</td><td>Electronics</td><td>25000</td><td>50000</td></tr><tr><td>103</td><td>1003</td><td>1</td><td>3</td><td>2024-02-05</td><td>Headphones</td><td>Electronics</td><td>3000</td><td>9000</td></tr><tr><td>104</td><td>1004</td><td>3</td><td>1</td><td>2024-02-08</td><td>Chair</td><td>Furniture</td><td>5000</td><td>5000</td></tr><tr><td>105</td><td>1005</td><td>5</td><td>5</td><td>2024-03-01</td><td>Book</td><td>Stationery</td><td>700</td><td>3500</td></tr><tr><td>106</td><td>1006</td><td>6</td><td>2</td><td>2024-03-15</td><td>Shoes</td><td>Fashion</td><td>2500</td><td>5000</td></tr><tr><td>101</td><td>1007</td><td>7</td><td>1</td><td>2024-03-20</td><td>Laptop</td><td>Electronics</td><td>55000</td><td>55000</td></tr></tbody></table></div>"
      ]
     },
     "metadata": {
      "application/vnd.databricks.v1+output": {
       "addedWidgets": {},
       "aggData": [],
       "aggError": "",
       "aggOverflow": false,
       "aggSchema": [],
       "aggSeriesLimitReached": false,
       "aggType": "",
       "arguments": {},
       "columnCustomDisplayInfos": {},
       "data": [
        [
         102,
         1002,
         2,
         2,
         "2024-01-12",
         "Mobile",
         "Electronics",
         25000,
         50000
        ],
        [
         103,
         1003,
         1,
         3,
         "2024-02-05",
         "Headphones",
         "Electronics",
         3000,
         9000
        ],
        [
         104,
         1004,
         3,
         1,
         "2024-02-08",
         "Chair",
         "Furniture",
         5000,
         5000
        ],
        [
         105,
         1005,
         5,
         5,
         "2024-03-01",
         "Book",
         "Stationery",
         700,
         3500
        ],
        [
         106,
         1006,
         6,
         2,
         "2024-03-15",
         "Shoes",
         "Fashion",
         2500,
         5000
        ],
        [
         101,
         1007,
         7,
         1,
         "2024-03-20",
         "Laptop",
         "Electronics",
         55000,
         55000
        ]
       ],
       "datasetInfos": [],
       "dbfsResultPath": null,
       "isJsonSchema": true,
       "metadata": {},
       "overflow": false,
       "plotOptions": {
        "customPlotOptions": {},
        "displayType": "table",
        "pivotAggregation": null,
        "pivotColumns": null,
        "xColumns": null,
        "yColumns": null
       },
       "removedWidgets": [],
       "schema": [
        {
         "metadata": "{}",
         "name": "101",
         "type": "\"integer\""
        },
        {
         "metadata": "{}",
         "name": "1001",
         "type": "\"integer\""
        },
        {
         "metadata": "{}",
         "name": "12",
         "type": "\"integer\""
        },
        {
         "metadata": "{}",
         "name": "13",
         "type": "\"integer\""
        },
        {
         "metadata": "{\"__detected_date_formats\":\"yyyy-M-d\"}",
         "name": "2024-01-10",
         "type": "\"date\""
        },
        {
         "metadata": "{}",
         "name": "Laptop",
         "type": "\"string\""
        },
        {
         "metadata": "{}",
         "name": "Electronics",
         "type": "\"string\""
        },
        {
         "metadata": "{}",
         "name": "550007",
         "type": "\"integer\""
        },
        {
         "metadata": "{}",
         "name": "550008",
         "type": "\"integer\""
        }
       ],
       "type": "table"
      }
     },
     "output_type": "display_data"
    }
   ],
   "source": [
    "summary_df = spark.read.csv(\"/FileStore/tables/orders_summary\", header=True, inferSchema=True)\n",
    "display(summary_df)"
   ]
  },
  {
   "cell_type": "code",
   "execution_count": 0,
   "metadata": {
    "application/vnd.databricks.v1+cell": {
     "cellMetadata": {
      "byteLimit": 2048000,
      "rowLimit": 10000
     },
     "inputWidgets": {},
     "nuid": "3f8a084a-eebc-4582-919a-cdb722fe395a",
     "showTitle": false,
     "tableResultSettingsMap": {},
     "title": ""
    }
   },
   "outputs": [
    {
     "output_type": "display_data",
     "data": {
      "image/png": "[encoded data removed]",
      "text/plain": [
       "<Figure size 640x480 with 1 Axes>"
      ]
     },
     "metadata": {},
     "output_type": "display_data"
    }
   ],
   "source": [
    "import pandas as pd\n",
    "import matplotlib.pyplot as plt\n",
    "region_df = orders_total_df.groupBy(\"category\").sum(\"total_price\").toPandas()\n",
    "plt.bar(region_df[\"category\"], region_df[\"sum(total_price)\"], color=\"skyblue\")\n",
    "plt.title(\"Total Sales by Category\")\n",
    "plt.xlabel(\"Category\")\n",
    "plt.ylabel(\"Revenue\")\n",
    "plt.show()"
   ]
  }
 ],
 "metadata": {
  "application/vnd.databricks.v1+notebook": {
   "computePreferences": null,
   "dashboards": [],
   "environmentMetadata": {
    "base_environment": "",
    "environment_version": "3"
   },
   "inputWidgetPreferences": null,
   "language": "python",
   "notebookMetadata": {
    "pythonIndentUnit": 4
   },
   "notebookName": "E-commerce db",
   "widgets": {}
  },
  "language_info": {
   "name": "python"
  }
 },
 "nbformat": 4,
 "nbformat_minor": 0
}