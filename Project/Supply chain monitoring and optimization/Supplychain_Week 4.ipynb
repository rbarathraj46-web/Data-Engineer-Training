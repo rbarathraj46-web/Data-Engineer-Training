{
 "cells": [
  {
   "cell_type": "code",
   "execution_count": 0,
   "metadata": {
    "application/vnd.databricks.v1+cell": {
     "cellMetadata": {
      "byteLimit": 2048000,
      "rowLimit": 10000
     },
     "inputWidgets": {},
     "nuid": "79b81eda-81b5-4696-ae02-b21d8c749396",
     "showTitle": false,
     "tableResultSettingsMap": {},
     "title": ""
    }
   },
   "outputs": [
    {
     "output_type": "display_data",
     "data": {
      "text/html": [
       "<style scoped>\n",
       "  .table-result-container {\n",
       "    max-height: 300px;\n",
       "    overflow: auto;\n",
       "  }\n",
       "  table, th, td {\n",
       "    border: 1px solid black;\n",
       "    border-collapse: collapse;\n",
       "  }\n",
       "  th, td {\n",
       "    padding: 5px;\n",
       "  }\n",
       "  th {\n",
       "    text-align: left;\n",
       "  }\n",
       "</style><div class='table-result-container'><table class='table-result'><thead style='background-color: white'><tr><th>supplier_id</th><th>total_orders</th><th>delayed_orders</th></tr></thead><tbody><tr><td>SUP001</td><td>3</td><td>3</td></tr><tr><td>SUP002</td><td>2</td><td>1</td></tr><tr><td>SUP004</td><td>2</td><td>1</td></tr><tr><td>SUP005</td><td>1</td><td>1</td></tr><tr><td>SUP003</td><td>2</td><td>0</td></tr></tbody></table></div>"
      ]
     },
     "metadata": {
      "application/vnd.databricks.v1+output": {
       "addedWidgets": {},
       "aggData": [],
       "aggError": "",
       "aggOverflow": false,
       "aggSchema": [],
       "aggSeriesLimitReached": false,
       "aggType": "",
       "arguments": {},
       "columnCustomDisplayInfos": {},
       "data": [
        [
         "SUP001",
         3,
         3
        ],
        [
         "SUP002",
         2,
         1
        ],
        [
         "SUP004",
         2,
         1
        ],
        [
         "SUP005",
         1,
         1
        ],
        [
         "SUP003",
         2,
         0
        ]
       ],
       "datasetInfos": [],
       "dbfsResultPath": null,
       "isJsonSchema": true,
       "metadata": {},
       "overflow": false,
       "plotOptions": {
        "customPlotOptions": {},
        "displayType": "table",
        "pivotAggregation": null,
        "pivotColumns": null,
        "xColumns": null,
        "yColumns": null
       },
       "removedWidgets": [],
       "schema": [
        {
         "metadata": "{}",
         "name": "supplier_id",
         "type": "\"string\""
        },
        {
         "metadata": "{}",
         "name": "total_orders",
         "type": "\"long\""
        },
        {
         "metadata": "{}",
         "name": "delayed_orders",
         "type": "\"long\""
        }
       ],
       "type": "table"
      }
     },
     "output_type": "display_data"
    }
   ],
   "source": [
    "from pyspark.sql.functions import col, when, to_date\n",
    "\n",
    "# Create a DataFrame from the CSV string\n",
    "csv_data = \"\"\"order_id,supplier_id,product_name,quantity,expected_date,delivery_date,status\n",
    "1001,SUP001,Laptop,10,2025-10-01,2025-10-03,Delivered\n",
    "1002,SUP002,Mouse,50,2025-10-02,2025-10-02,Delivered\n",
    "1003,SUP001,Keyboard,20,2025-10-05,2025-10-07,Delivered\n",
    "1004,SUP003,Monitor,15,2025-10-06,2025-10-05,Delivered\n",
    "1005,SUP002,USB Cable,100,2025-10-03,2025-10-08,Delivered\n",
    "1006,SUP004,SSD,25,2025-10-07,2025-10-06,Delivered\n",
    "1007,SUP001,Headset,30,2025-10-05,2025-10-09,Delivered\n",
    "1008,SUP005,Printer,5,2025-10-01,2025-10-10,Delivered\n",
    "1009,SUP003,Router,12,2025-10-04,2025-10-04,Delivered\n",
    "1010,SUP004,Camera,8,2025-10-02,2025-10-05,Delivered\n",
    "\"\"\"\n",
    "\n",
    "# Convert the CSV string to a list of rows\n",
    "import io\n",
    "import pandas as pd\n",
    "\n",
    "pdf = pd.read_csv(io.StringIO(csv_data))\n",
    "df = spark.createDataFrame(pdf)\n",
    "\n",
    "df = (\n",
    "    df.withColumn(\"delivery_date\", to_date(col(\"delivery_date\"), \"yyyy-MM-dd\"))\n",
    "      .withColumn(\"expected_date\", to_date(col(\"expected_date\"), \"yyyy-MM-dd\"))\n",
    "      .withColumn(\"is_delayed\", when(col(\"delivery_date\") > col(\"expected_date\"), 1).otherwise(0))\n",
    ")\n",
    "\n",
    "cleaned_df = df.select(\n",
    "    \"order_id\", \"supplier_id\", \"expected_date\", \"delivery_date\", \"is_delayed\"\n",
    ")\n",
    "\n",
    "# Use dbfs:/ paths for Spark I/O\n",
    "cleaned_df.write.mode(\"overwrite\").format(\"delta\").save(\"dbfs:/FileStore/cleaned_orders_delta\")\n",
    "cleaned_df.write.mode(\"overwrite\").csv(\"dbfs:/FileStore/cleaned_orders_csv\", header=True)\n",
    "\n",
    "cleaned_df.createOrReplaceTempView(\"orders\")\n",
    "\n",
    "result = spark.sql(\"\"\"\n",
    "    SELECT supplier_id,\n",
    "           COUNT(*) AS total_orders,\n",
    "           SUM(is_delayed) AS delayed_orders\n",
    "    FROM orders\n",
    "    GROUP BY supplier_id\n",
    "    ORDER BY delayed_orders DESC\n",
    "\"\"\")\n",
    "\n",
    "display(result)"
   ]
  }
 ],
 "metadata": {
  "application/vnd.databricks.v1+notebook": {
   "computePreferences": null,
   "dashboards": [],
   "environmentMetadata": {
    "base_environment": "",
    "environment_version": "4"
   },
   "inputWidgetPreferences": null,
   "language": "python",
   "notebookMetadata": {
    "pythonIndentUnit": 4
   },
   "notebookName": "Supplychain_Week 4",
   "widgets": {}
  },
  "language_info": {
   "name": "python"
  }
 },
 "nbformat": 4,
 "nbformat_minor": 0
}