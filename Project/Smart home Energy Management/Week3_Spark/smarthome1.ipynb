{
  "nbformat": 4,
  "nbformat_minor": 0,
  "metadata": {
    "colab": {
      "provenance": []
    },
    "kernelspec": {
      "name": "python3",
      "display_name": "Python 3"
    },
    "language_info": {
      "name": "python"
    }
  },
  "cells": [
    {
      "cell_type": "code",
      "source": [
        "!pip install pyspark\n",
        "from pyspark.sql import SparkSession\n",
        "from pyspark.sql.functions import col, hour, sum as spark_sum\n",
        "spark = SparkSession.builder.appName(\"EnergyAggregation\").getOrCreate()"
      ],
      "metadata": {
        "colab": {
          "base_uri": "https://localhost:8080/"
        },
        "id": "SvMmm9eqD5QN",
        "outputId": "68199ffc-2172-46c6-ec72-65bbcfd16fa7"
      },
      "execution_count": 17,
      "outputs": [
        {
          "output_type": "stream",
          "name": "stdout",
          "text": [
            "Requirement already satisfied: pyspark in /usr/local/lib/python3.12/dist-packages (3.5.1)\n",
            "Requirement already satisfied: py4j==0.10.9.7 in /usr/local/lib/python3.12/dist-packages (from pyspark) (0.10.9.7)\n"
          ]
        }
      ]
    },
    {
      "cell_type": "code",
      "source": [
        "import pandas as pd\n",
        "\n",
        "data = {\n",
        "    \"device_id\": [1,1,2,3,4,2,3],\n",
        "    \"timestamp\": [\n",
        "        \"2025-09-29 08:00:00\",\"2025-09-29 09:00:00\",\n",
        "        \"2025-09-29 10:00:00\",\"2025-09-29 08:30:00\",\n",
        "        \"2025-09-29 11:00:00\",\"2025-09-29 22:00:00\",\n",
        "        \"2025-09-29 23:30:00\"\n",
        "    ],\n",
        "    \"energy_kwh\": [0.2,0.3,1.5,0.7,0.9,2.0,1.2]\n",
        "}\n",
        "df_pd = pd.DataFrame(data)\n",
        "df_pd.to_csv(\"spark_logs.csv\", index=False)\n",
        "df = spark.read.csv(\"spark_logs.csv\", header=True, inferSchema=True)"
      ],
      "metadata": {
        "id": "IGlj2qtFEJ1x"
      },
      "execution_count": 19,
      "outputs": []
    },
    {
      "cell_type": "code",
      "source": [
        "df = df.withColumn(\"hour\", hour(col(\"timestamp\")))\n",
        "df = df.withColumn(\"period\", (col(\"hour\").between(6,22)).cast(\"string\"))"
      ],
      "metadata": {
        "id": "tBM2mYlZEOhB"
      },
      "execution_count": 21,
      "outputs": []
    },
    {
      "cell_type": "code",
      "source": [
        "agg = df.groupBy(\"device_id\", \"period\").agg(\n",
        "    spark_sum(\"energy_kwh\").alias(\"total_energy\")\n",
        ")\n",
        "print(\"Device Usage (Peak vs Off-Peak):\")\n",
        "agg.show()"
      ],
      "metadata": {
        "colab": {
          "base_uri": "https://localhost:8080/"
        },
        "id": "FgIJTsnIEYeW",
        "outputId": "4464d72d-3a96-42e3-f792-75950003e8ce"
      },
      "execution_count": 23,
      "outputs": [
        {
          "output_type": "stream",
          "name": "stdout",
          "text": [
            "Device Usage (Peak vs Off-Peak):\n",
            "+---------+------+------------+\n",
            "|device_id|period|total_energy|\n",
            "+---------+------+------------+\n",
            "|        2|  true|         3.5|\n",
            "|        1|  true|         0.5|\n",
            "|        4|  true|         0.9|\n",
            "|        3| false|         1.2|\n",
            "|        3|  true|         0.7|\n",
            "+---------+------+------------+\n",
            "\n"
          ]
        }
      ]
    },
    {
      "cell_type": "code",
      "source": [
        "top_devices = df.groupBy(\"device_id\").agg(\n",
        "    spark_sum(\"energy_kwh\").alias(\"total_energy\")\n",
        ").orderBy(col(\"total_energy\").desc())\n",
        "print(\"Top Energy-Consuming Devices:\")\n",
        "top_devices.show()"
      ],
      "metadata": {
        "colab": {
          "base_uri": "https://localhost:8080/"
        },
        "id": "vxUA9AjZEdBu",
        "outputId": "bb91986b-77e3-48c3-cf9e-722162da8d59"
      },
      "execution_count": 24,
      "outputs": [
        {
          "output_type": "stream",
          "name": "stdout",
          "text": [
            "Top Energy-Consuming Devices:\n",
            "+---------+------------+\n",
            "|device_id|total_energy|\n",
            "+---------+------------+\n",
            "|        2|         3.5|\n",
            "|        3|         1.9|\n",
            "|        4|         0.9|\n",
            "|        1|         0.5|\n",
            "+---------+------------+\n",
            "\n"
          ]
        }
      ]
    }
  ]
}