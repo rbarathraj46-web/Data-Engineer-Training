{
  "nbformat": 4,
  "nbformat_minor": 0,
  "metadata": {
    "colab": {
      "provenance": []
    },
    "kernelspec": {
      "name": "python3",
      "display_name": "Python 3"
    },
    "language_info": {
      "name": "python"
    }
  },
  "cells": [
    {
      "cell_type": "code",
      "execution_count": 19,
      "metadata": {
        "colab": {
          "base_uri": "https://localhost:8080/"
        },
        "id": "dLH7QExMPBxQ",
        "outputId": "dca35244-ceb2-46fa-b474-b795c8e0db2a"
      },
      "outputs": [
        {
          "output_type": "stream",
          "name": "stdout",
          "text": [
            "+-----------+------------+---------+---+\n",
            "|customer_id|        name|     city|age|\n",
            "+-----------+------------+---------+---+\n",
            "|          1|Rahul Sharma|Bangalore| 28|\n",
            "|          2| Priya Singh|    Delhi| 32|\n",
            "|          3|  Aman Kumar|Hyderabad| 25|\n",
            "|          4| Sneha Reddy|  Chennai| 35|\n",
            "|          5| Arjun Mehta|   Mumbai| 30|\n",
            "|          6|  Divya Nair|    Delhi| 29|\n",
            "+-----------+------------+---------+---+\n",
            "\n",
            "+----------+------------+-----------+-----+\n",
            "|product_id|product_name|   category|price|\n",
            "+----------+------------+-----------+-----+\n",
            "|       101|      Laptop|Electronics|55000|\n",
            "|       102|      Mobile|Electronics|25000|\n",
            "|       103|  Headphones|Electronics| 3000|\n",
            "|       104|       Chair|  Furniture| 5000|\n",
            "|       105|        Book| Stationery|  700|\n",
            "|       106|       Shoes|    Fashion| 2500|\n",
            "+----------+------------+-----------+-----+\n",
            "\n",
            "+--------+-----------+----------+--------+\n",
            "|order_id|customer_id|product_id|quantity|\n",
            "+--------+-----------+----------+--------+\n",
            "|    1001|          1|       101|       1|\n",
            "|    1002|          2|       102|       2|\n",
            "|    1003|          1|       103|       3|\n",
            "|    1004|          3|       104|       1|\n",
            "|    1005|          5|       105|       5|\n",
            "|    1006|          6|       106|       2|\n",
            "|    1007|          7|       101|       1|\n",
            "+--------+-----------+----------+--------+\n",
            "\n"
          ]
        }
      ],
      "source": [
        "from pyspark.sql import SparkSession\n",
        "spark = SparkSession.builder.appName(\"Ecommerce_data\").getOrCreate()\n",
        "from pyspark.sql.functions import col, avg, sum, desc\n",
        "\n",
        "customers_data = [\n",
        "(1, \"Rahul Sharma\", \"Bangalore\", 28),\n",
        "(2, \"Priya Singh\", \"Delhi\", 32),\n",
        "(3, \"Aman Kumar\", \"Hyderabad\", 25),\n",
        "(4, \"Sneha Reddy\", \"Chennai\", 35),\n",
        "(5, \"Arjun Mehta\", \"Mumbai\", 30),\n",
        "(6, \"Divya Nair\", \"Delhi\", 29)\n",
        "]\n",
        "customers_cols = [\"customer_id\", \"name\", \"city\", \"age\"]\n",
        "customers_df = spark.createDataFrame(customers_data, customers_cols)\n",
        "customers_df.show()\n",
        "\n",
        "products_data = [\n",
        "(101, \"Laptop\", \"Electronics\", 55000),\n",
        "(102, \"Mobile\", \"Electronics\", 25000),\n",
        "(103, \"Headphones\", \"Electronics\", 3000),\n",
        "(104, \"Chair\", \"Furniture\", 5000),\n",
        "(105, \"Book\", \"Stationery\", 700),\n",
        "(106, \"Shoes\", \"Fashion\", 2500)\n",
        "]\n",
        "products_cols = [\"product_id\", \"product_name\", \"category\", \"price\"]\n",
        "products_df = spark.createDataFrame(products_data, products_cols)\n",
        "products_df.show()\n",
        "\n",
        "orders_data = [\n",
        "(1001, 1, 101, 1),\n",
        "(1002, 2, 102, 2),\n",
        "(1003, 1, 103, 3),\n",
        "(1004, 3, 104, 1),\n",
        "(1005, 5, 105, 5),\n",
        "(1006, 6, 106, 2),\n",
        "(1007, 7, 101, 1)\n",
        "]\n",
        "orders_cols = [\"order_id\", \"customer_id\", \"product_id\", \"quantity\"]\n",
        "orders_df = spark.createDataFrame(orders_data, orders_cols)\n",
        "orders_df.show()\n"
      ]
    },
    {
      "cell_type": "code",
      "source": [
        "customers_df.select(\"name\", \"city\").show()"
      ],
      "metadata": {
        "colab": {
          "base_uri": "https://localhost:8080/"
        },
        "id": "n__5zIm7RWyZ",
        "outputId": "e2d9101d-1384-4b28-a18c-8efbd75f1d6b"
      },
      "execution_count": 20,
      "outputs": [
        {
          "output_type": "stream",
          "name": "stdout",
          "text": [
            "+------------+---------+\n",
            "|        name|     city|\n",
            "+------------+---------+\n",
            "|Rahul Sharma|Bangalore|\n",
            "| Priya Singh|    Delhi|\n",
            "|  Aman Kumar|Hyderabad|\n",
            "| Sneha Reddy|  Chennai|\n",
            "| Arjun Mehta|   Mumbai|\n",
            "|  Divya Nair|    Delhi|\n",
            "+------------+---------+\n",
            "\n"
          ]
        }
      ]
    },
    {
      "cell_type": "code",
      "source": [
        "products_df.select(\"category\").distinct().show()"
      ],
      "metadata": {
        "colab": {
          "base_uri": "https://localhost:8080/"
        },
        "id": "Cf62Nj6SRmHt",
        "outputId": "23b8a0b1-51cd-4058-fa8c-eefe5d69b7ef"
      },
      "execution_count": 21,
      "outputs": [
        {
          "output_type": "stream",
          "name": "stdout",
          "text": [
            "+-----------+\n",
            "|   category|\n",
            "+-----------+\n",
            "|Electronics|\n",
            "| Stationery|\n",
            "|    Fashion|\n",
            "|  Furniture|\n",
            "+-----------+\n",
            "\n"
          ]
        }
      ]
    },
    {
      "cell_type": "code",
      "source": [
        "customers_df.filter(customers_df.age > 30).show()"
      ],
      "metadata": {
        "colab": {
          "base_uri": "https://localhost:8080/"
        },
        "id": "pPYU6pnLTTNR",
        "outputId": "e9715535-43d8-40e9-90fa-319310712dff"
      },
      "execution_count": 10,
      "outputs": [
        {
          "output_type": "stream",
          "name": "stdout",
          "text": [
            "+-----------+-----------+-------+---+\n",
            "|customer_id|       name|   city|age|\n",
            "+-----------+-----------+-------+---+\n",
            "|          2|Priya Singh|  Delhi| 32|\n",
            "|          4|Sneha Reddy|Chennai| 35|\n",
            "+-----------+-----------+-------+---+\n",
            "\n"
          ]
        }
      ]
    },
    {
      "cell_type": "code",
      "source": [
        "orders_df.groupBy(\"customer_id\").count().show()"
      ],
      "metadata": {
        "colab": {
          "base_uri": "https://localhost:8080/"
        },
        "id": "m6ZSFY9jrMzZ",
        "outputId": "92d79f85-9765-440e-a3dc-60c3f18b08d9"
      },
      "execution_count": 14,
      "outputs": [
        {
          "output_type": "stream",
          "name": "stdout",
          "text": [
            "+-----------+-----+\n",
            "|customer_id|count|\n",
            "+-----------+-----+\n",
            "|          1|    2|\n",
            "|          2|    1|\n",
            "|          7|    1|\n",
            "|          6|    1|\n",
            "|          5|    1|\n",
            "|          3|    1|\n",
            "+-----------+-----+\n",
            "\n"
          ]
        }
      ]
    },
    {
      "cell_type": "code",
      "source": [
        "customers_df.groupBy(\"city\").agg(avg(\"age\").alias(\"avg_age\")).show()"
      ],
      "metadata": {
        "colab": {
          "base_uri": "https://localhost:8080/"
        },
        "id": "A-Lw8ztjrqer",
        "outputId": "2d1c3ce7-19d3-41e6-bd9c-d90a20377a70"
      },
      "execution_count": 17,
      "outputs": [
        {
          "output_type": "stream",
          "name": "stdout",
          "text": [
            "+---------+-------+\n",
            "|     city|avg_age|\n",
            "+---------+-------+\n",
            "|Bangalore|   28.0|\n",
            "|    Delhi|   30.5|\n",
            "|Hyderabad|   25.0|\n",
            "|  Chennai|   35.0|\n",
            "|   Mumbai|   30.0|\n",
            "+---------+-------+\n",
            "\n"
          ]
        }
      ]
    },
    {
      "cell_type": "code",
      "source": [
        "orders_df.join(products_df, \"product_id\") \\\n",
        "    .withColumn(\"revenue\", col(\"quantity\") * col(\"price\")) \\\n",
        "    .groupBy(\"product_id\", \"product_name\") \\\n",
        "    .agg(sum(\"revenue\").alias(\"total_revenue\")) \\\n",
        "    .show()"
      ],
      "metadata": {
        "colab": {
          "base_uri": "https://localhost:8080/"
        },
        "id": "IOlPMfp3smrq",
        "outputId": "a874c934-f7c4-4d98-9d53-23918eae6c74"
      },
      "execution_count": 23,
      "outputs": [
        {
          "output_type": "stream",
          "name": "stdout",
          "text": [
            "+----------+------------+-------------+\n",
            "|product_id|product_name|total_revenue|\n",
            "+----------+------------+-------------+\n",
            "|       101|      Laptop|       110000|\n",
            "|       102|      Mobile|        50000|\n",
            "|       103|  Headphones|         9000|\n",
            "|       104|       Chair|         5000|\n",
            "|       105|        Book|         3500|\n",
            "|       106|       Shoes|         5000|\n",
            "+----------+------------+-------------+\n",
            "\n"
          ]
        }
      ]
    },
    {
      "cell_type": "code",
      "source": [
        "customers_df.join(orders_df,\"customer_id\", \"inner\")\\\n",
        "  .select(\"name\", \"order_id\", \"product_id\", \"quantity\").show()"
      ],
      "metadata": {
        "colab": {
          "base_uri": "https://localhost:8080/"
        },
        "id": "5AiilgUQs03m",
        "outputId": "b27e5f00-9ba5-43e3-83f1-2415e892a9c0"
      },
      "execution_count": 25,
      "outputs": [
        {
          "output_type": "stream",
          "name": "stdout",
          "text": [
            "+------------+--------+----------+--------+\n",
            "|        name|order_id|product_id|quantity|\n",
            "+------------+--------+----------+--------+\n",
            "|Rahul Sharma|    1001|       101|       1|\n",
            "|Rahul Sharma|    1003|       103|       3|\n",
            "| Priya Singh|    1002|       102|       2|\n",
            "|  Aman Kumar|    1004|       104|       1|\n",
            "| Arjun Mehta|    1005|       105|       5|\n",
            "|  Divya Nair|    1006|       106|       2|\n",
            "+------------+--------+----------+--------+\n",
            "\n"
          ]
        }
      ]
    },
    {
      "cell_type": "code",
      "source": [
        "orders_df.join(products_df, \"product_id\", \"inner\")\\\n",
        "  .select(\"order_id\", \"product_name\", \"price\", \"quantity\").show()"
      ],
      "metadata": {
        "colab": {
          "base_uri": "https://localhost:8080/"
        },
        "id": "Bk3OdLVQtqT6",
        "outputId": "31b854cf-f5d2-4445-ef38-8c40c89b8814"
      },
      "execution_count": 28,
      "outputs": [
        {
          "output_type": "stream",
          "name": "stdout",
          "text": [
            "+--------+------------+-----+--------+\n",
            "|order_id|product_name|price|quantity|\n",
            "+--------+------------+-----+--------+\n",
            "|    1001|      Laptop|55000|       1|\n",
            "|    1007|      Laptop|55000|       1|\n",
            "|    1002|      Mobile|25000|       2|\n",
            "|    1003|  Headphones| 3000|       3|\n",
            "|    1004|       Chair| 5000|       1|\n",
            "|    1005|        Book|  700|       5|\n",
            "|    1006|       Shoes| 2500|       2|\n",
            "+--------+------------+-----+--------+\n",
            "\n"
          ]
        }
      ]
    },
    {
      "cell_type": "code",
      "source": [
        "customers_df.join(orders_df, \"customer_id\", \"left_anti\").show()"
      ],
      "metadata": {
        "colab": {
          "base_uri": "https://localhost:8080/"
        },
        "id": "cYhEtFlNuVr_",
        "outputId": "c00198dc-c350-4278-b73a-f542a36adbb8"
      },
      "execution_count": 30,
      "outputs": [
        {
          "output_type": "stream",
          "name": "stdout",
          "text": [
            "+-----------+-----------+-------+---+\n",
            "|customer_id|       name|   city|age|\n",
            "+-----------+-----------+-------+---+\n",
            "|          4|Sneha Reddy|Chennai| 35|\n",
            "+-----------+-----------+-------+---+\n",
            "\n"
          ]
        }
      ]
    },
    {
      "cell_type": "code",
      "source": [
        "products_df.join(orders_df, \"product_id\", \"left_anti\").show()"
      ],
      "metadata": {
        "colab": {
          "base_uri": "https://localhost:8080/"
        },
        "id": "UCI-mFJouZ56",
        "outputId": "2ecf56c6-0c06-4cf9-bbeb-132c20f37f04"
      },
      "execution_count": 33,
      "outputs": [
        {
          "output_type": "stream",
          "name": "stdout",
          "text": [
            "+----------+------------+--------+-----+\n",
            "|product_id|product_name|category|price|\n",
            "+----------+------------+--------+-----+\n",
            "+----------+------------+--------+-----+\n",
            "\n"
          ]
        }
      ]
    },
    {
      "cell_type": "code",
      "source": [
        "orders_df.join(products_df, \"product_id\") \\\n",
        "    .select(\"product_name\", \"price\") \\\n",
        "    .distinct() \\\n",
        "    .orderBy(desc(\"price\")) \\\n",
        "    .limit(3).show()"
      ],
      "metadata": {
        "colab": {
          "base_uri": "https://localhost:8080/"
        },
        "id": "gXVaLaYku-ZI",
        "outputId": "799cbbac-a52f-430b-f758-73d3fa289221"
      },
      "execution_count": 34,
      "outputs": [
        {
          "output_type": "stream",
          "name": "stdout",
          "text": [
            "+------------+-----+\n",
            "|product_name|price|\n",
            "+------------+-----+\n",
            "|      Laptop|55000|\n",
            "|      Mobile|25000|\n",
            "|       Chair| 5000|\n",
            "+------------+-----+\n",
            "\n"
          ]
        }
      ]
    },
    {
      "cell_type": "code",
      "source": [
        "orders_df.join(products_df, \"product_id\") \\\n",
        "    .withColumn(\"revenue\", col(\"quantity\") * col(\"price\")) \\\n",
        "    .groupBy(\"category\") \\\n",
        "    .agg(sum(\"revenue\").alias(\"total_revenue\")) \\\n",
        "    .show()"
      ],
      "metadata": {
        "colab": {
          "base_uri": "https://localhost:8080/"
        },
        "id": "6axjyQOXvHnA",
        "outputId": "61189e0f-9189-46eb-e560-7aad60a334e1"
      },
      "execution_count": 36,
      "outputs": [
        {
          "output_type": "stream",
          "name": "stdout",
          "text": [
            "+-----------+-------------+\n",
            "|   category|total_revenue|\n",
            "+-----------+-------------+\n",
            "| Stationery|         3500|\n",
            "|    Fashion|         5000|\n",
            "|Electronics|       169000|\n",
            "|  Furniture|         5000|\n",
            "+-----------+-------------+\n",
            "\n"
          ]
        }
      ]
    },
    {
      "cell_type": "code",
      "source": [
        "customers_df.join(orders_df, \"customer_id\") \\\n",
        "    .join(products_df, \"product_id\") \\\n",
        "    .withColumn(\"spend\", col(\"quantity\") * col(\"price\")) \\\n",
        "    .groupBy(\"customer_id\", \"name\") \\\n",
        "    .agg(sum(\"spend\").alias(\"total_spent\")) \\\n",
        "    .orderBy(desc(\"total_spent\")).show()"
      ],
      "metadata": {
        "colab": {
          "base_uri": "https://localhost:8080/"
        },
        "id": "o4gxE0Rfvkio",
        "outputId": "05f52cc9-54e0-4722-d8c5-8f793396ba84"
      },
      "execution_count": 37,
      "outputs": [
        {
          "output_type": "stream",
          "name": "stdout",
          "text": [
            "+-----------+------------+-----------+\n",
            "|customer_id|        name|total_spent|\n",
            "+-----------+------------+-----------+\n",
            "|          1|Rahul Sharma|      64000|\n",
            "|          2| Priya Singh|      50000|\n",
            "|          6|  Divya Nair|       5000|\n",
            "|          3|  Aman Kumar|       5000|\n",
            "|          5| Arjun Mehta|       3500|\n",
            "+-----------+------------+-----------+\n",
            "\n"
          ]
        }
      ]
    },
    {
      "cell_type": "code",
      "source": [
        "customers_df.createOrReplaceTempView(\"customers\")\n",
        "products_df.createOrReplaceTempView(\"products\")\n",
        "orders_df.createOrReplaceTempView(\"orders\")"
      ],
      "metadata": {
        "id": "uAcEe9Y5vtXg"
      },
      "execution_count": 39,
      "outputs": []
    },
    {
      "cell_type": "code",
      "source": [
        "spark.sql(\"\"\"\n",
        "    SELECT c.city, SUM(o.quantity * p.price) AS total_revenue\n",
        "    FROM customers c\n",
        "    JOIN orders o ON c.customer_id = o.customer_id\n",
        "    JOIN products p ON o.product_id = p.product_id\n",
        "    GROUP BY c.city\n",
        "    ORDER BY total_revenue DESC\n",
        "    LIMIT 2\n",
        "\"\"\").show()"
      ],
      "metadata": {
        "colab": {
          "base_uri": "https://localhost:8080/"
        },
        "id": "kwiAgpvOv3oF",
        "outputId": "3e6ded12-8137-4f42-dc3e-3063ca826d8a"
      },
      "execution_count": 41,
      "outputs": [
        {
          "output_type": "stream",
          "name": "stdout",
          "text": [
            "+---------+-------------+\n",
            "|     city|total_revenue|\n",
            "+---------+-------------+\n",
            "|Bangalore|        64000|\n",
            "|    Delhi|        55000|\n",
            "+---------+-------------+\n",
            "\n"
          ]
        }
      ]
    },
    {
      "cell_type": "code",
      "source": [
        "spark.sql(\"\"\"\n",
        "    SELECT c.name, SUM(o.quantity * p.price) AS total_spent\n",
        "    FROM customers c\n",
        "    JOIN orders o ON c.customer_id = o.customer_id\n",
        "    JOIN products p ON o.product_id = p.product_id\n",
        "    GROUP BY c.name\n",
        "    HAVING total_spent > 50000\n",
        "\"\"\").show()"
      ],
      "metadata": {
        "colab": {
          "base_uri": "https://localhost:8080/"
        },
        "id": "f33PRP7Pv-dV",
        "outputId": "1854318e-400c-4d7a-ba1a-a1e271467219"
      },
      "execution_count": 43,
      "outputs": [
        {
          "output_type": "stream",
          "name": "stdout",
          "text": [
            "+------------+-----------+\n",
            "|        name|total_spent|\n",
            "+------------+-----------+\n",
            "|Rahul Sharma|      64000|\n",
            "+------------+-----------+\n",
            "\n"
          ]
        }
      ]
    },
    {
      "cell_type": "code",
      "source": [
        "spark.sql(\"\"\"\n",
        "    SELECT p.category, SUM(o.quantity * p.price) AS total_revenue\n",
        "    FROM orders o\n",
        "    JOIN products p ON o.product_id = p.product_id\n",
        "    GROUP BY p.category\n",
        "    ORDER BY total_revenue DESC\n",
        "    LIMIT 1\n",
        "\"\"\").show()"
      ],
      "metadata": {
        "colab": {
          "base_uri": "https://localhost:8080/"
        },
        "id": "hfO6nx6xwAaC",
        "outputId": "9454e548-cbc4-460c-eac5-b5e970648b94"
      },
      "execution_count": 45,
      "outputs": [
        {
          "output_type": "stream",
          "name": "stdout",
          "text": [
            "+-----------+-------------+\n",
            "|   category|total_revenue|\n",
            "+-----------+-------------+\n",
            "|Electronics|       169000|\n",
            "+-----------+-------------+\n",
            "\n"
          ]
        }
      ]
    }
  ]
}