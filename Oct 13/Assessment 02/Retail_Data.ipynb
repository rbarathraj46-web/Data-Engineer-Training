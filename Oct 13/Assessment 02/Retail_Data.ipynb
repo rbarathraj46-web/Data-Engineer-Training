{
 "cells": [
  {
   "cell_type": "code",
   "execution_count": 0,
   "metadata": {
    "application/vnd.databricks.v1+cell": {
     "cellMetadata": {
      "byteLimit": 2048000,
      "rowLimit": 10000
     },
     "inputWidgets": {},
     "nuid": "ce4c6fa1-db5b-4c00-9d89-f7c8cc197886",
     "showTitle": false,
     "tableResultSettingsMap": {},
     "title": ""
    }
   },
   "outputs": [
    {
     "name": "stdout",
     "output_type": "stream",
     "text": [
      "=== Silver Orders Table ===\n"
     ]
    },
    {
     "data": {
      "text/html": [
       "<style scoped>\n",
       "  .table-result-container {\n",
       "    max-height: 300px;\n",
       "    overflow: auto;\n",
       "  }\n",
       "  table, th, td {\n",
       "    border: 1px solid black;\n",
       "    border-collapse: collapse;\n",
       "  }\n",
       "  th, td {\n",
       "    padding: 5px;\n",
       "  }\n",
       "  th {\n",
       "    text-align: left;\n",
       "  }\n",
       "</style><div class='table-result-container'><table class='table-result'><thead style='background-color: white'><tr><th>order_id</th><th>customer_id</th><th>product</th><th>quantity</th><th>price</th><th>status</th><th>order_date</th><th>total_amount</th><th>name</th><th>region</th><th>email</th><th>product_id</th><th>category</th></tr></thead><tbody><tr><td>1001</td><td>1</td><td>Laptop</td><td>2</td><td>55000</td><td>Completed</td><td>2024-01-15</td><td>110000</td><td>Arjun Rao</td><td>North</td><td>arjun@example.com</td><td>P001</td><td>Electronics</td></tr><tr><td>1002</td><td>2</td><td>Mobile</td><td>3</td><td>25000</td><td>Completed</td><td>2024-01-16</td><td>75000</td><td>Sneha Patel</td><td>South</td><td>sneha@example.com</td><td>P002</td><td>Electronics</td></tr><tr><td>1004</td><td>1</td><td>Headphones</td><td>5</td><td>3000</td><td>Completed</td><td>2024-01-17</td><td>15000</td><td>Arjun Rao</td><td>North</td><td>arjun@example.com</td><td>P004</td><td>Accessories</td></tr></tbody></table></div>"
      ]
     },
     "metadata": {
      "application/vnd.databricks.v1+output": {
       "addedWidgets": {},
       "aggData": [],
       "aggError": "",
       "aggOverflow": false,
       "aggSchema": [],
       "aggSeriesLimitReached": false,
       "aggType": "",
       "arguments": {},
       "columnCustomDisplayInfos": {},
       "data": [
        [
         1001,
         1,
         "Laptop",
         2,
         55000,
         "Completed",
         "2024-01-15",
         110000,
         "Arjun Rao",
         "North",
         "arjun@example.com",
         "P001",
         "Electronics"
        ],
        [
         1002,
         2,
         "Mobile",
         3,
         25000,
         "Completed",
         "2024-01-16",
         75000,
         "Sneha Patel",
         "South",
         "sneha@example.com",
         "P002",
         "Electronics"
        ],
        [
         1004,
         1,
         "Headphones",
         5,
         3000,
         "Completed",
         "2024-01-17",
         15000,
         "Arjun Rao",
         "North",
         "arjun@example.com",
         "P004",
         "Accessories"
        ]
       ],
       "datasetInfos": [],
       "dbfsResultPath": null,
       "isJsonSchema": true,
       "metadata": {},
       "overflow": false,
       "plotOptions": {
        "customPlotOptions": {},
        "displayType": "table",
        "pivotAggregation": null,
        "pivotColumns": null,
        "xColumns": null,
        "yColumns": null
       },
       "removedWidgets": [],
       "schema": [
        {
         "metadata": "{}",
         "name": "order_id",
         "type": "\"integer\""
        },
        {
         "metadata": "{}",
         "name": "customer_id",
         "type": "\"integer\""
        },
        {
         "metadata": "{}",
         "name": "product",
         "type": "\"string\""
        },
        {
         "metadata": "{}",
         "name": "quantity",
         "type": "\"integer\""
        },
        {
         "metadata": "{}",
         "name": "price",
         "type": "\"integer\""
        },
        {
         "metadata": "{}",
         "name": "status",
         "type": "\"string\""
        },
        {
         "metadata": "{}",
         "name": "order_date",
         "type": "\"date\""
        },
        {
         "metadata": "{}",
         "name": "total_amount",
         "type": "\"integer\""
        },
        {
         "metadata": "{}",
         "name": "name",
         "type": "\"string\""
        },
        {
         "metadata": "{}",
         "name": "region",
         "type": "\"string\""
        },
        {
         "metadata": "{}",
         "name": "email",
         "type": "\"string\""
        },
        {
         "metadata": "{}",
         "name": "product_id",
         "type": "\"string\""
        },
        {
         "metadata": "{}",
         "name": "category",
         "type": "\"string\""
        }
       ],
       "type": "table"
      }
     },
     "output_type": "display_data"
    },
    {
     "name": "stdout",
     "output_type": "stream",
     "text": [
      "=== Gold Revenue by Region ===\n"
     ]
    },
    {
     "data": {
      "text/html": [
       "<style scoped>\n",
       "  .table-result-container {\n",
       "    max-height: 300px;\n",
       "    overflow: auto;\n",
       "  }\n",
       "  table, th, td {\n",
       "    border: 1px solid black;\n",
       "    border-collapse: collapse;\n",
       "  }\n",
       "  th, td {\n",
       "    padding: 5px;\n",
       "  }\n",
       "  th {\n",
       "    text-align: left;\n",
       "  }\n",
       "</style><div class='table-result-container'><table class='table-result'><thead style='background-color: white'><tr><th>region</th><th>total_revenue</th></tr></thead><tbody><tr><td>South</td><td>75000</td></tr><tr><td>North</td><td>125000</td></tr></tbody></table></div>"
      ]
     },
     "metadata": {
      "application/vnd.databricks.v1+output": {
       "addedWidgets": {},
       "aggData": [],
       "aggError": "",
       "aggOverflow": false,
       "aggSchema": [],
       "aggSeriesLimitReached": false,
       "aggType": "",
       "arguments": {},
       "columnCustomDisplayInfos": {},
       "data": [
        [
         "South",
         75000
        ],
        [
         "North",
         125000
        ]
       ],
       "datasetInfos": [],
       "dbfsResultPath": null,
       "isJsonSchema": true,
       "metadata": {},
       "overflow": false,
       "plotOptions": {
        "customPlotOptions": {},
        "displayType": "table",
        "pivotAggregation": null,
        "pivotColumns": null,
        "xColumns": null,
        "yColumns": null
       },
       "removedWidgets": [],
       "schema": [
        {
         "metadata": "{}",
         "name": "region",
         "type": "\"string\""
        },
        {
         "metadata": "{}",
         "name": "total_revenue",
         "type": "\"long\""
        }
       ],
       "type": "table"
      }
     },
     "output_type": "display_data"
    },
    {
     "name": "stderr",
     "output_type": "stream",
     "text": [
      "/databricks/spark/python/pyspark/sql/connect/expressions.py:1061: UserWarning: WARN WindowExpression: No Partition Defined for Window operation! Moving all data to a single partition, this can cause serious performance degradation.\n",
      "  warnings.warn(\n"
     ]
    },
    {
     "name": "stdout",
     "output_type": "stream",
     "text": [
      "=== Gold Product Sales Summary ===\n"
     ]
    },
    {
     "data": {
      "text/html": [
       "<style scoped>\n",
       "  .table-result-container {\n",
       "    max-height: 300px;\n",
       "    overflow: auto;\n",
       "  }\n",
       "  table, th, td {\n",
       "    border: 1px solid black;\n",
       "    border-collapse: collapse;\n",
       "  }\n",
       "  th, td {\n",
       "    padding: 5px;\n",
       "  }\n",
       "  th {\n",
       "    text-align: left;\n",
       "  }\n",
       "</style><div class='table-result-container'><table class='table-result'><thead style='background-color: white'><tr><th>product</th><th>total_quantity</th><th>total_amount</th><th>rank</th></tr></thead><tbody><tr><td>Headphones</td><td>5</td><td>15000</td><td>1</td></tr><tr><td>Mobile</td><td>3</td><td>75000</td><td>2</td></tr><tr><td>Laptop</td><td>2</td><td>110000</td><td>3</td></tr></tbody></table></div>"
      ]
     },
     "metadata": {
      "application/vnd.databricks.v1+output": {
       "addedWidgets": {},
       "aggData": [],
       "aggError": "",
       "aggOverflow": false,
       "aggSchema": [],
       "aggSeriesLimitReached": false,
       "aggType": "",
       "arguments": {},
       "columnCustomDisplayInfos": {},
       "data": [
        [
         "Headphones",
         5,
         15000,
         1
        ],
        [
         "Mobile",
         3,
         75000,
         2
        ],
        [
         "Laptop",
         2,
         110000,
         3
        ]
       ],
       "datasetInfos": [],
       "dbfsResultPath": null,
       "isJsonSchema": true,
       "metadata": {},
       "overflow": false,
       "plotOptions": {
        "customPlotOptions": {},
        "displayType": "table",
        "pivotAggregation": null,
        "pivotColumns": null,
        "xColumns": null,
        "yColumns": null
       },
       "removedWidgets": [],
       "schema": [
        {
         "metadata": "{}",
         "name": "product",
         "type": "\"string\""
        },
        {
         "metadata": "{}",
         "name": "total_quantity",
         "type": "\"long\""
        },
        {
         "metadata": "{}",
         "name": "total_amount",
         "type": "\"long\""
        },
        {
         "metadata": "{}",
         "name": "rank",
         "type": "\"integer\""
        }
       ],
       "type": "table"
      }
     },
     "output_type": "display_data"
    },
    {
     "name": "stdout",
     "output_type": "stream",
     "text": [
      "=== Silver Orders History ===\n"
     ]
    },
    {
     "data": {
      "text/html": [
       "<style scoped>\n",
       "  .table-result-container {\n",
       "    max-height: 300px;\n",
       "    overflow: auto;\n",
       "  }\n",
       "  table, th, td {\n",
       "    border: 1px solid black;\n",
       "    border-collapse: collapse;\n",
       "  }\n",
       "  th, td {\n",
       "    padding: 5px;\n",
       "  }\n",
       "  th {\n",
       "    text-align: left;\n",
       "  }\n",
       "</style><div class='table-result-container'><table class='table-result'><thead style='background-color: white'><tr><th>version</th><th>timestamp</th><th>userId</th><th>userName</th><th>operation</th><th>operationParameters</th><th>job</th><th>notebook</th><th>clusterId</th><th>readVersion</th><th>isolationLevel</th><th>isBlindAppend</th><th>operationMetrics</th><th>userMetadata</th><th>engineInfo</th></tr></thead><tbody><tr><td>5</td><td>2025-10-13T10:45:59Z</td><td>145385977523810</td><td>azuser4795_mml.local@techademy.com</td><td>CREATE OR REPLACE TABLE AS SELECT</td><td>Map(partitionBy -> [], clusterBy -> [], description -> null, isManaged -> true, properties -> {\"delta.enableDeletionVectors\":\"true\"}, statsOnLoad -> true)</td><td>null</td><td>List(1272255375366537)</td><td>1003-070720-nihwdk0g</td><td>4</td><td>WriteSerializable</td><td>false</td><td>Map(numFiles -> 1, numRemovedFiles -> 1, numRemovedBytes -> 3419, numOutputRows -> 3, numOutputBytes -> 3419)</td><td>null</td><td>Databricks-Runtime/16.4.x-photon-scala2.12</td></tr><tr><td>4</td><td>2025-10-13T10:41:07Z</td><td>145385977523810</td><td>azuser4795_mml.local@techademy.com</td><td>CREATE OR REPLACE TABLE AS SELECT</td><td>Map(partitionBy -> [], clusterBy -> [], description -> null, isManaged -> true, properties -> {\"delta.enableDeletionVectors\":\"true\"}, statsOnLoad -> true)</td><td>null</td><td>List(1272255375366537)</td><td>1003-070720-nihwdk0g</td><td>3</td><td>WriteSerializable</td><td>false</td><td>Map(numFiles -> 1, numRemovedFiles -> 1, numRemovedBytes -> 2899, numOutputRows -> 3, numOutputBytes -> 3419)</td><td>null</td><td>Databricks-Runtime/16.4.x-photon-scala2.12</td></tr><tr><td>3</td><td>2025-10-13T10:28:20Z</td><td>145385977523810</td><td>azuser4795_mml.local@techademy.com</td><td>CREATE OR REPLACE TABLE AS SELECT</td><td>Map(partitionBy -> [], clusterBy -> [], description -> null, isManaged -> true, properties -> {\"delta.enableDeletionVectors\":\"true\"}, statsOnLoad -> true)</td><td>null</td><td>List(2831202045588650)</td><td>1003-070720-nihwdk0g</td><td>2</td><td>WriteSerializable</td><td>false</td><td>Map(numFiles -> 1, numRemovedFiles -> 1, numRemovedBytes -> 3360, numOutputRows -> 3, numOutputBytes -> 2899)</td><td>null</td><td>Databricks-Runtime/16.4.x-photon-scala2.12</td></tr><tr><td>2</td><td>2025-10-13T10:13:20Z</td><td>145385977523810</td><td>azuser4795_mml.local@techademy.com</td><td>CREATE OR REPLACE TABLE AS SELECT</td><td>Map(partitionBy -> [], clusterBy -> [], description -> null, isManaged -> true, properties -> {\"delta.enableDeletionVectors\":\"true\"}, statsOnLoad -> true)</td><td>null</td><td>List(1272255375366537)</td><td>1003-070720-nihwdk0g</td><td>1</td><td>WriteSerializable</td><td>false</td><td>Map(numFiles -> 1, numRemovedFiles -> 1, numRemovedBytes -> 2899, numOutputRows -> 3, numOutputBytes -> 3360)</td><td>null</td><td>Databricks-Runtime/16.4.x-photon-scala2.12</td></tr><tr><td>1</td><td>2025-10-13T10:06:42Z</td><td>145385977523810</td><td>azuser4795_mml.local@techademy.com</td><td>CREATE OR REPLACE TABLE AS SELECT</td><td>Map(partitionBy -> [], clusterBy -> [], description -> null, isManaged -> true, properties -> {\"delta.enableDeletionVectors\":\"true\"}, statsOnLoad -> true)</td><td>null</td><td>List(2831202045588650)</td><td>1003-070720-nihwdk0g</td><td>0</td><td>WriteSerializable</td><td>false</td><td>Map(numFiles -> 1, numRemovedFiles -> 1, numRemovedBytes -> 2899, numOutputRows -> 3, numOutputBytes -> 2899)</td><td>null</td><td>Databricks-Runtime/16.4.x-photon-scala2.12</td></tr><tr><td>0</td><td>2025-10-13T10:01:04Z</td><td>145385977523810</td><td>azuser4795_mml.local@techademy.com</td><td>CREATE OR REPLACE TABLE AS SELECT</td><td>Map(partitionBy -> [], clusterBy -> [], description -> null, isManaged -> true, properties -> {\"delta.enableDeletionVectors\":\"true\"}, statsOnLoad -> true)</td><td>null</td><td>List(1272255375366537)</td><td>1003-070720-nihwdk0g</td><td>null</td><td>WriteSerializable</td><td>false</td><td>Map(numFiles -> 1, numRemovedFiles -> 0, numRemovedBytes -> 0, numOutputRows -> 3, numOutputBytes -> 2899)</td><td>null</td><td>Databricks-Runtime/16.4.x-photon-scala2.12</td></tr></tbody></table></div>"
      ]
     },
     "metadata": {
      "application/vnd.databricks.v1+output": {
       "addedWidgets": {},
       "aggData": [],
       "aggError": "",
       "aggOverflow": false,
       "aggSchema": [],
       "aggSeriesLimitReached": false,
       "aggType": "",
       "arguments": {},
       "columnCustomDisplayInfos": {},
       "data": [
        [
         5,
         "2025-10-13T10:45:59Z",
         "145385977523810",
         "azuser4795_mml.local@techademy.com",
         "CREATE OR REPLACE TABLE AS SELECT",
         {
          "clusterBy": "[]",
          "description": null,
          "isManaged": "true",
          "partitionBy": "[]",
          "properties": "{\"delta.enableDeletionVectors\":\"true\"}",
          "statsOnLoad": "true"
         },
         null,
         [
          "1272255375366537"
         ],
         "1003-070720-nihwdk0g",
         4,
         "WriteSerializable",
         false,
         {
          "numFiles": "1",
          "numOutputBytes": "3419",
          "numOutputRows": "3",
          "numRemovedBytes": "3419",
          "numRemovedFiles": "1"
         },
         null,
         "Databricks-Runtime/16.4.x-photon-scala2.12"
        ],
        [
         4,
         "2025-10-13T10:41:07Z",
         "145385977523810",
         "azuser4795_mml.local@techademy.com",
         "CREATE OR REPLACE TABLE AS SELECT",
         {
          "clusterBy": "[]",
          "description": null,
          "isManaged": "true",
          "partitionBy": "[]",
          "properties": "{\"delta.enableDeletionVectors\":\"true\"}",
          "statsOnLoad": "true"
         },
         null,
         [
          "1272255375366537"
         ],
         "1003-070720-nihwdk0g",
         3,
         "WriteSerializable",
         false,
         {
          "numFiles": "1",
          "numOutputBytes": "3419",
          "numOutputRows": "3",
          "numRemovedBytes": "2899",
          "numRemovedFiles": "1"
         },
         null,
         "Databricks-Runtime/16.4.x-photon-scala2.12"
        ],
        [
         3,
         "2025-10-13T10:28:20Z",
         "145385977523810",
         "azuser4795_mml.local@techademy.com",
         "CREATE OR REPLACE TABLE AS SELECT",
         {
          "clusterBy": "[]",
          "description": null,
          "isManaged": "true",
          "partitionBy": "[]",
          "properties": "{\"delta.enableDeletionVectors\":\"true\"}",
          "statsOnLoad": "true"
         },
         null,
         [
          "2831202045588650"
         ],
         "1003-070720-nihwdk0g",
         2,
         "WriteSerializable",
         false,
         {
          "numFiles": "1",
          "numOutputBytes": "2899",
          "numOutputRows": "3",
          "numRemovedBytes": "3360",
          "numRemovedFiles": "1"
         },
         null,
         "Databricks-Runtime/16.4.x-photon-scala2.12"
        ],
        [
         2,
         "2025-10-13T10:13:20Z",
         "145385977523810",
         "azuser4795_mml.local@techademy.com",
         "CREATE OR REPLACE TABLE AS SELECT",
         {
          "clusterBy": "[]",
          "description": null,
          "isManaged": "true",
          "partitionBy": "[]",
          "properties": "{\"delta.enableDeletionVectors\":\"true\"}",
          "statsOnLoad": "true"
         },
         null,
         [
          "1272255375366537"
         ],
         "1003-070720-nihwdk0g",
         1,
         "WriteSerializable",
         false,
         {
          "numFiles": "1",
          "numOutputBytes": "3360",
          "numOutputRows": "3",
          "numRemovedBytes": "2899",
          "numRemovedFiles": "1"
         },
         null,
         "Databricks-Runtime/16.4.x-photon-scala2.12"
        ],
        [
         1,
         "2025-10-13T10:06:42Z",
         "145385977523810",
         "azuser4795_mml.local@techademy.com",
         "CREATE OR REPLACE TABLE AS SELECT",
         {
          "clusterBy": "[]",
          "description": null,
          "isManaged": "true",
          "partitionBy": "[]",
          "properties": "{\"delta.enableDeletionVectors\":\"true\"}",
          "statsOnLoad": "true"
         },
         null,
         [
          "2831202045588650"
         ],
         "1003-070720-nihwdk0g",
         0,
         "WriteSerializable",
         false,
         {
          "numFiles": "1",
          "numOutputBytes": "2899",
          "numOutputRows": "3",
          "numRemovedBytes": "2899",
          "numRemovedFiles": "1"
         },
         null,
         "Databricks-Runtime/16.4.x-photon-scala2.12"
        ],
        [
         0,
         "2025-10-13T10:01:04Z",
         "145385977523810",
         "azuser4795_mml.local@techademy.com",
         "CREATE OR REPLACE TABLE AS SELECT",
         {
          "clusterBy": "[]",
          "description": null,
          "isManaged": "true",
          "partitionBy": "[]",
          "properties": "{\"delta.enableDeletionVectors\":\"true\"}",
          "statsOnLoad": "true"
         },
         null,
         [
          "1272255375366537"
         ],
         "1003-070720-nihwdk0g",
         null,
         "WriteSerializable",
         false,
         {
          "numFiles": "1",
          "numOutputBytes": "2899",
          "numOutputRows": "3",
          "numRemovedBytes": "0",
          "numRemovedFiles": "0"
         },
         null,
         "Databricks-Runtime/16.4.x-photon-scala2.12"
        ]
       ],
       "datasetInfos": [],
       "dbfsResultPath": null,
       "isJsonSchema": true,
       "metadata": {},
       "overflow": false,
       "plotOptions": {
        "customPlotOptions": {},
        "displayType": "table",
        "pivotAggregation": null,
        "pivotColumns": null,
        "xColumns": null,
        "yColumns": null
       },
       "removedWidgets": [],
       "schema": [
        {
         "metadata": "{}",
         "name": "version",
         "type": "\"long\""
        },
        {
         "metadata": "{}",
         "name": "timestamp",
         "type": "\"timestamp\""
        },
        {
         "metadata": "{}",
         "name": "userId",
         "type": "\"string\""
        },
        {
         "metadata": "{}",
         "name": "userName",
         "type": "\"string\""
        },
        {
         "metadata": "{}",
         "name": "operation",
         "type": "\"string\""
        },
        {
         "metadata": "{}",
         "name": "operationParameters",
         "type": "{\"type\":\"map\",\"keyType\":\"string\",\"valueType\":\"string\",\"valueContainsNull\":true}"
        },
        {
         "metadata": "{}",
         "name": "job",
         "type": "{\"type\":\"struct\",\"fields\":[{\"name\":\"jobId\",\"type\":\"string\",\"nullable\":true,\"metadata\":{}},{\"name\":\"jobName\",\"type\":\"string\",\"nullable\":true,\"metadata\":{}},{\"name\":\"jobRunId\",\"type\":\"string\",\"nullable\":true,\"metadata\":{}},{\"name\":\"runId\",\"type\":\"string\",\"nullable\":true,\"metadata\":{}},{\"name\":\"jobOwnerId\",\"type\":\"string\",\"nullable\":true,\"metadata\":{}},{\"name\":\"triggerType\",\"type\":\"string\",\"nullable\":true,\"metadata\":{}}]}"
        },
        {
         "metadata": "{}",
         "name": "notebook",
         "type": "{\"type\":\"struct\",\"fields\":[{\"name\":\"notebookId\",\"type\":\"string\",\"nullable\":true,\"metadata\":{}}]}"
        },
        {
         "metadata": "{}",
         "name": "clusterId",
         "type": "\"string\""
        },
        {
         "metadata": "{}",
         "name": "readVersion",
         "type": "\"long\""
        },
        {
         "metadata": "{}",
         "name": "isolationLevel",
         "type": "\"string\""
        },
        {
         "metadata": "{}",
         "name": "isBlindAppend",
         "type": "\"boolean\""
        },
        {
         "metadata": "{}",
         "name": "operationMetrics",
         "type": "{\"type\":\"map\",\"keyType\":\"string\",\"valueType\":\"string\",\"valueContainsNull\":true}"
        },
        {
         "metadata": "{}",
         "name": "userMetadata",
         "type": "\"string\""
        },
        {
         "metadata": "{}",
         "name": "engineInfo",
         "type": "\"string\""
        }
       ],
       "type": "table"
      }
     },
     "output_type": "display_data"
    },
    {
     "name": "stdout",
     "output_type": "stream",
     "text": [
      "=== Silver Orders Version 0 ===\n"
     ]
    },
    {
     "data": {
      "text/html": [
       "<style scoped>\n",
       "  .table-result-container {\n",
       "    max-height: 300px;\n",
       "    overflow: auto;\n",
       "  }\n",
       "  table, th, td {\n",
       "    border: 1px solid black;\n",
       "    border-collapse: collapse;\n",
       "  }\n",
       "  th, td {\n",
       "    padding: 5px;\n",
       "  }\n",
       "  th {\n",
       "    text-align: left;\n",
       "  }\n",
       "</style><div class='table-result-container'><table class='table-result'><thead style='background-color: white'><tr><th>order_id</th><th>customer_id</th><th>product</th><th>quantity</th><th>price</th><th>status</th><th>order_date</th><th>total_amount</th><th>name</th><th>product_id</th><th>category</th></tr></thead><tbody><tr><td>1002</td><td>2</td><td>Mobile</td><td>3</td><td>25000</td><td>Completed</td><td>2024-01-16</td><td>75000</td><td>Priya Singh</td><td>P002</td><td>Electronics</td></tr><tr><td>1001</td><td>1</td><td>Laptop</td><td>2</td><td>55000</td><td>Completed</td><td>2024-01-15</td><td>110000</td><td>Rahul Sharma</td><td>P001</td><td>Electronics</td></tr><tr><td>1004</td><td>1</td><td>Headphones</td><td>5</td><td>3000</td><td>Completed</td><td>2024-01-17</td><td>15000</td><td>Rahul Sharma</td><td>P004</td><td>Accessories</td></tr></tbody></table></div>"
      ]
     },
     "metadata": {
      "application/vnd.databricks.v1+output": {
       "addedWidgets": {},
       "aggData": [],
       "aggError": "",
       "aggOverflow": false,
       "aggSchema": [],
       "aggSeriesLimitReached": false,
       "aggType": "",
       "arguments": {},
       "columnCustomDisplayInfos": {},
       "data": [
        [
         1002,
         2,
         "Mobile",
         3,
         25000,
         "Completed",
         "2024-01-16",
         75000,
         "Priya Singh",
         "P002",
         "Electronics"
        ],
        [
         1001,
         1,
         "Laptop",
         2,
         55000,
         "Completed",
         "2024-01-15",
         110000,
         "Rahul Sharma",
         "P001",
         "Electronics"
        ],
        [
         1004,
         1,
         "Headphones",
         5,
         3000,
         "Completed",
         "2024-01-17",
         15000,
         "Rahul Sharma",
         "P004",
         "Accessories"
        ]
       ],
       "datasetInfos": [],
       "dbfsResultPath": null,
       "isJsonSchema": true,
       "metadata": {},
       "overflow": false,
       "plotOptions": {
        "customPlotOptions": {},
        "displayType": "table",
        "pivotAggregation": null,
        "pivotColumns": null,
        "xColumns": null,
        "yColumns": null
       },
       "removedWidgets": [],
       "schema": [
        {
         "metadata": "{}",
         "name": "order_id",
         "type": "\"integer\""
        },
        {
         "metadata": "{}",
         "name": "customer_id",
         "type": "\"integer\""
        },
        {
         "metadata": "{}",
         "name": "product",
         "type": "\"string\""
        },
        {
         "metadata": "{}",
         "name": "quantity",
         "type": "\"integer\""
        },
        {
         "metadata": "{}",
         "name": "price",
         "type": "\"integer\""
        },
        {
         "metadata": "{}",
         "name": "status",
         "type": "\"string\""
        },
        {
         "metadata": "{}",
         "name": "order_date",
         "type": "\"date\""
        },
        {
         "metadata": "{}",
         "name": "total_amount",
         "type": "\"integer\""
        },
        {
         "metadata": "{}",
         "name": "name",
         "type": "\"string\""
        },
        {
         "metadata": "{}",
         "name": "product_id",
         "type": "\"string\""
        },
        {
         "metadata": "{}",
         "name": "category",
         "type": "\"string\""
        }
       ],
       "type": "table"
      }
     },
     "output_type": "display_data"
    },
    {
     "data": {
      "text/plain": [
       "DataFrame[path: string]"
      ]
     },
     "execution_count": 17,
     "metadata": {},
     "output_type": "execute_result"
    }
   ],
   "source": [
    "\n",
    "from pyspark.sql import functions as F\n",
    "from pyspark.sql.functions import col, sum as pysum, row_number, lit\n",
    "from pyspark.sql.window import Window\n",
    "from delta.tables import DeltaTable\n",
    "import os\n",
    "\n",
    "\n",
    "db_name = \"retail_db\"\n",
    "bronze_customers_tbl = f\"{db_name}.bronze_customers\"\n",
    "bronze_orders_tbl    = f\"{db_name}.bronze_orders\"\n",
    "bronze_products_tbl  = f\"{db_name}.bronze_products\"\n",
    "silver_orders_tbl    = f\"{db_name}.silver_orders\"\n",
    "gold_revenue_tbl     = f\"{db_name}.gold_revenue_by_region\"\n",
    "gold_sales_tbl       = f\"{db_name}.gold_sales_summary\"\n",
    "\n",
    "customers_path = \"/FileStore/tables/customers-3.csv\"\n",
    "orders_day1_path = \"/FileStore/tables/orders_day1.csv\"\n",
    "orders_day2_path = \"/FileStore/tables/orders_day2.csv\"\n",
    "products_path = \"/FileStore/tables/products.json\"\n",
    "\n",
    "\n",
    "spark.sql(f\"CREATE DATABASE IF NOT EXISTS {db_name}\")\n",
    "spark.sql(f\"USE {db_name}\")\n",
    "\n",
    "\n",
    "customers_df = spark.read.csv(customers_path, header=True, inferSchema=True)\n",
    "orders_df = spark.read.csv(orders_day1_path, header=True, inferSchema=True) \\\n",
    "                     .withColumn(\"order_date\", F.to_date(col(\"order_date\"), \"yyyy-MM-dd\"))\n",
    "products_df = spark.read.json(products_path)\n",
    "\n",
    "\n",
    "if \"region\" not in customers_df.columns:\n",
    "    customers_df = customers_df.withColumn(\"region\", lit(\"Unknown\"))\n",
    "\n",
    "\n",
    "for col_name in [\"name\",\"email\"]:\n",
    "    if col_name not in customers_df.columns:\n",
    "        customers_df = customers_df.withColumn(col_name, lit(\"Unknown\"))\n",
    "for col_name in [\"product_id\",\"category\"]:\n",
    "    if col_name not in products_df.columns:\n",
    "        products_df = products_df.withColumn(col_name, lit(\"Unknown\"))\n",
    "\n",
    "\n",
    "customers_df.write.format(\"delta\").mode(\"overwrite\") \\\n",
    "    .option(\"mergeSchema\", \"true\").saveAsTable(bronze_customers_tbl)\n",
    "orders_df.write.format(\"delta\").mode(\"overwrite\") \\\n",
    "    .option(\"mergeSchema\", \"true\").saveAsTable(bronze_orders_tbl)\n",
    "products_df.write.format(\"delta\").mode(\"overwrite\") \\\n",
    "    .option(\"mergeSchema\", \"true\").saveAsTable(bronze_products_tbl)\n",
    "\n",
    "if os.path.exists(\"/dbfs\" + orders_day2_path[5:]):\n",
    "    try:\n",
    "        orders_day2_df = spark.read.csv(orders_day2_path, header=True, inferSchema=True) \\\n",
    "                                .withColumn(\"order_date\", F.to_date(col(\"order_date\"), \"yyyy-MM-dd\"))\n",
    "        bronze_orders_delta = DeltaTable.forName(spark, bronze_orders_tbl)\n",
    "        bronze_orders_delta.alias(\"tgt\").merge(\n",
    "            orders_day2_df.alias(\"src\"),\n",
    "            \"tgt.order_id = src.order_id\"\n",
    "        ).whenMatchedUpdateAll().whenNotMatchedInsertAll().execute()\n",
    "        print(\"Merged orders_day2.csv into bronze_orders.\")\n",
    "    except Exception as e:\n",
    "        print(\"Incremental merge failed:\", e)\n",
    "\n",
    "\n",
    "orders_df = spark.table(bronze_orders_tbl)\n",
    "customers_df = spark.table(bronze_customers_tbl)\n",
    "products_df = spark.table(bronze_products_tbl)\n",
    "\n",
    "orders_clean = orders_df.filter(col(\"status\") == \"Completed\")\n",
    "\n",
    "silver_orders = (\n",
    "    orders_clean.withColumn(\"total_amount\", col(\"quantity\") * col(\"price\"))\n",
    "    .join(customers_df, on=\"customer_id\", how=\"left\")\n",
    "    .join(products_df, orders_clean[\"product\"] == products_df[\"product_name\"], how=\"left\")\n",
    "    .select(\n",
    "        \"order_id\",\"customer_id\",\"product\",\"quantity\",\"price\",\"status\",\"order_date\",\n",
    "        \"total_amount\",\"name\",\"region\",\"email\",\"product_id\",\"category\"\n",
    "    )\n",
    "    .dropDuplicates([\"order_id\"])\n",
    ")\n",
    "\n",
    "if '_corrupt_record' in silver_orders.columns:\n",
    "    silver_orders = silver_orders.drop('_corrupt_record')\n",
    "\n",
    "\n",
    "silver_orders.write.format(\"delta\").mode(\"overwrite\") \\\n",
    "    .option(\"overwriteSchema\",\"true\") \\\n",
    "    .option(\"mergeSchema\", \"true\") \\\n",
    "    .saveAsTable(silver_orders_tbl)\n",
    "\n",
    "print(\"=== Silver Orders Table ===\")\n",
    "display(silver_orders)\n",
    "\n",
    "\n",
    "silver = spark.table(silver_orders_tbl)\n",
    "\n",
    "revenue_by_region = silver.groupBy(\"region\").agg(pysum(\"total_amount\").alias(\"total_revenue\"))\n",
    "revenue_by_region.write.format(\"delta\").mode(\"overwrite\") \\\n",
    "    .option(\"overwriteSchema\",\"true\") \\\n",
    "    .option(\"mergeSchema\", \"true\") \\\n",
    "    .saveAsTable(gold_revenue_tbl)\n",
    "\n",
    "print(\"=== Gold Revenue by Region ===\")\n",
    "display(revenue_by_region)\n",
    "\n",
    "\n",
    "product_sales = silver.groupBy(\"product\").agg(\n",
    "    pysum(\"quantity\").alias(\"total_quantity\"),\n",
    "    pysum(\"total_amount\").alias(\"total_amount\")\n",
    ")\n",
    "window = Window.orderBy(col(\"total_quantity\").desc())\n",
    "product_sales_ranked = product_sales.withColumn(\"rank\", row_number().over(window))\n",
    "product_sales_ranked.write.format(\"delta\").mode(\"overwrite\") \\\n",
    "    .option(\"overwriteSchema\",\"true\") \\\n",
    "    .option(\"mergeSchema\", \"true\") \\\n",
    "    .saveAsTable(gold_sales_tbl)\n",
    "\n",
    "print(\"=== Gold Product Sales Summary ===\")\n",
    "display(product_sales_ranked)\n",
    "\n",
    "silver_table = DeltaTable.forName(spark, silver_orders_tbl)\n",
    "print(\"=== Silver Orders History ===\")\n",
    "display(silver_table.history())\n",
    "\n",
    "silver_v0 = spark.read.format(\"delta\").option(\"versionAsOf\", 0).table(silver_orders_tbl)\n",
    "print(\"=== Silver Orders Version 0 ===\")\n",
    "display(silver_v0)\n",
    "\n",
    "\n",
    "spark.sql(f\"OPTIMIZE {gold_revenue_tbl}\")\n",
    "spark.sql(f\"OPTIMIZE {gold_sales_tbl}\")\n",
    "\n",
    "spark.sql(f\"VACUUM {silver_orders_tbl} RETAIN 168 HOURS\")\n",
    "spark.sql(f\"VACUUM {gold_revenue_tbl} RETAIN 168 HOURS\")\n",
    "spark.sql(f\"VACUUM {gold_sales_tbl} RETAIN 168 HOURS\")\n"
   ]
  }
 ],
 "metadata": {
  "application/vnd.databricks.v1+notebook": {
   "computePreferences": null,
   "dashboards": [],
   "environmentMetadata": {
    "base_environment": "",
    "environment_version": "4"
   },
   "inputWidgetPreferences": null,
   "language": "python",
   "notebookMetadata": {
    "pythonIndentUnit": 4
   },
   "notebookName": "Task2_Retail_Data_Analytics_Platform",
   "widgets": {}
  },
  "language_info": {
   "name": "python"
  }
 },
 "nbformat": 4,
 "nbformat_minor": 0
}
