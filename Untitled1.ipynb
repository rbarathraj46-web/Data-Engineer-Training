{
  "nbformat": 4,
  "nbformat_minor": 0,
  "metadata": {
    "colab": {
      "provenance": [],
      "authorship_tag": "ABX9TyOlqSlbh/CaYBq1EdlBFDPL"
    },
    "kernelspec": {
      "name": "python3",
      "display_name": "Python 3"
    },
    "language_info": {
      "name": "python"
    }
  },
  "cells": [
    {
      "cell_type": "code",
      "execution_count": 2,
      "metadata": {
        "colab": {
          "base_uri": "https://localhost:8080/"
        },
        "id": "N--ld1uZCItv",
        "outputId": "9d1cb0aa-6717-46f5-8469-45c1cfe56bc2"
      },
      "outputs": [
        {
          "output_type": "stream",
          "name": "stdout",
          "text": [
            "Employee Records:\n",
            "1, Rahul Sharma, IT, 55000\n",
            "2, Priya Singh, HR, 60000\n",
            "3, Aman Kumar, Finance, 48000\n",
            "4, Sneha Reddy, Marketing, 52000\n",
            "5, Arjun Mehta, IT, 75000\n"
          ]
        }
      ],
      "source": [
        "import csv\n",
        "import io\n",
        "csv_data = \"\"\"id,name,department,salary\n",
        "1,Rahul Sharma,IT,55000\n",
        "2,Priya Singh,HR,60000\n",
        "3,Aman Kumar,Finance,48000\n",
        "4,Sneha Reddy,Marketing,52000\n",
        "5,Arjun Mehta,IT,75000\n",
        "\"\"\"\n",
        "file_like = io.StringIO (csv_data)\n",
        "reader = csv.DictReader(file_like)\n",
        "print(\"Employee Records:\")\n",
        "for r in reader:\n",
        "  print(f\"{r[\"id\"]}, {r[\"name\"]}, {r[\"department\"]}, {r[\"salary\"]}\")\n"
      ]
    }
  ]
}