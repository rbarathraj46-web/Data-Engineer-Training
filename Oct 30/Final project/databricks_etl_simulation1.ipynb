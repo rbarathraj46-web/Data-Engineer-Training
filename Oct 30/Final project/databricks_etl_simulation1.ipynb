{
  "nbformat": 4,
  "nbformat_minor": 0,
  "metadata": {
    "colab": {
      "provenance": []
    },
    "kernelspec": {
      "name": "python3",
      "display_name": "Python 3"
    },
    "language_info": {
      "name": "python"
    }
  },
  "cells": [
    {
      "cell_type": "code",
      "execution_count": 1,
      "metadata": {
        "id": "zXmMmoXdpNH5"
      },
      "outputs": [],
      "source": [
        "import pandas as pd"
      ]
    },
    {
      "cell_type": "code",
      "source": [
        "sales = pd.read_csv(\"sales.csv\")\n",
        "inventory = pd.read_csv(\"inventory.csv\")"
      ],
      "metadata": {
        "id": "5N3HyKggpk_A"
      },
      "execution_count": 4,
      "outputs": []
    },
    {
      "cell_type": "code",
      "source": [
        "inventory[\"stock_level\"] = inventory[\"stock_level\"] - sales[\"quantity_sold\"].groupby(sales[\"product_id\"]).transform(\"sum\")"
      ],
      "metadata": {
        "id": "RmADOlaqp4B3"
      },
      "execution_count": 5,
      "outputs": []
    },
    {
      "cell_type": "code",
      "source": [
        "inventory.to_csv(\"updated_inventory.csv\", index=False)"
      ],
      "metadata": {
        "id": "ytK0SgfXp7Jg"
      },
      "execution_count": 6,
      "outputs": []
    },
    {
      "cell_type": "code",
      "source": [
        "top5 = sales.groupby(\"product_id\")[\"total_amount\"].sum().nlargest(5)\n",
        "print(\"Top 5 Best-Selling Products:\\n\", top5)"
      ],
      "metadata": {
        "colab": {
          "base_uri": "https://localhost:8080/"
        },
        "id": "OvbFkTjHp9q_",
        "outputId": "cbf98eca-5822-4f98-c7bd-c1e62342e908"
      },
      "execution_count": 7,
      "outputs": [
        {
          "output_type": "stream",
          "name": "stdout",
          "text": [
            "Top 5 Best-Selling Products:\n",
            " product_id\n",
            "1    275000\n",
            "2    250000\n",
            "5     80000\n",
            "3      8750\n",
            "4      2000\n",
            "Name: total_amount, dtype: int64\n"
          ]
        }
      ]
    },
    {
      "cell_type": "code",
      "source": [
        "top5.to_csv(\"top5_best_selling.csv\")"
      ],
      "metadata": {
        "id": "kncISbTfqBkW"
      },
      "execution_count": 8,
      "outputs": []
    }
  ]
}