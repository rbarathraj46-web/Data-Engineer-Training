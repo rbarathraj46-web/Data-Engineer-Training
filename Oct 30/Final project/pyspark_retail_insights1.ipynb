{
  "nbformat": 4,
  "nbformat_minor": 0,
  "metadata": {
    "colab": {
      "provenance": []
    },
    "kernelspec": {
      "name": "python3",
      "display_name": "Python 3"
    },
    "language_info": {
      "name": "python"
    }
  },
  "cells": [
    {
      "cell_type": "code",
      "execution_count": 1,
      "metadata": {
        "id": "y2maeqyin-iu"
      },
      "outputs": [],
      "source": [
        "from pyspark.sql import SparkSession\n",
        "from pyspark.sql.functions import sum as _sum\n"
      ]
    },
    {
      "cell_type": "code",
      "source": [
        "spark = SparkSession.builder.appName(\"RetailInsights\").getOrCreate()"
      ],
      "metadata": {
        "id": "f6DI42FroxJ0"
      },
      "execution_count": 2,
      "outputs": []
    },
    {
      "cell_type": "code",
      "source": [
        "products_df = spark.read.csv(\"products.csv\", header=True, inferSchema=True)\n",
        "sales_df = spark.read.csv(\"sales.csv\", header=True, inferSchema=True)\n",
        "inventory_df = spark.read.csv(\"inventory.csv\", header=True, inferSchema=True)\n"
      ],
      "metadata": {
        "id": "NbBgVyy1o2LM"
      },
      "execution_count": 3,
      "outputs": []
    },
    {
      "cell_type": "code",
      "source": [
        "joined_df = sales_df.join(products_df, \"product_id\").join(inventory_df, \"product_id\")"
      ],
      "metadata": {
        "id": "8c-5iiSPo7pt"
      },
      "execution_count": 4,
      "outputs": []
    },
    {
      "cell_type": "code",
      "source": [
        "category_sales = joined_df.groupBy(\"category\").agg(_sum(\"total_amount\").alias(\"category_sales\"))"
      ],
      "metadata": {
        "id": "8KVzQJdCo-xz"
      },
      "execution_count": 5,
      "outputs": []
    },
    {
      "cell_type": "code",
      "source": [
        "category_sales.write.csv(\"category_sales_by_region.csv\", header=True)\n",
        "\n",
        "spark.stop()"
      ],
      "metadata": {
        "id": "v1fdHSYCpAAi"
      },
      "execution_count": 6,
      "outputs": []
    }
  ]
}