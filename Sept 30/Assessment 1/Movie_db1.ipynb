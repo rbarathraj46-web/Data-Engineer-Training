{
  "nbformat": 4,
  "nbformat_minor": 0,
  "metadata": {
    "colab": {
      "provenance": []
    },
    "kernelspec": {
      "name": "python3",
      "display_name": "Python 3"
    },
    "language_info": {
      "name": "python"
    }
  },
  "cells": [
    {
      "cell_type": "code",
      "execution_count": 2,
      "metadata": {
        "colab": {
          "base_uri": "https://localhost:8080/"
        },
        "id": "2cRhlWA_HC3m",
        "outputId": "080e881b-1e0e-49fe-8c76-c81f4968edda"
      },
      "outputs": [
        {
          "output_type": "stream",
          "name": "stdout",
          "text": [
            "Requirement already satisfied: pyspark in /usr/local/lib/python3.12/dist-packages (3.5.1)\n",
            "Requirement already satisfied: py4j==0.10.9.7 in /usr/local/lib/python3.12/dist-packages (from pyspark) (0.10.9.7)\n"
          ]
        }
      ],
      "source": [
        "!pip install pyspark\n",
        "from pyspark.sql import SparkSession\n",
        "spark = SparkSession.builder.appName('Movie_Capstone').getOrCreate()\n",
        "from pyspark.sql.functions import col, avg, max, count\n",
        "import matplotlib.pyplot as plt"
      ]
    },
    {
      "cell_type": "code",
      "source": [
        "\n",
        "users_data = [\n",
        "(1, \"Rahul\", 25, \"Bangalore\"),\n",
        "(2, \"Priya\", 30, \"Delhi\"),\n",
        "(3, \"Aman\", 22, \"Hyderabad\"),\n",
        "(4, \"Sneha\", 28, \"Chennai\"),\n",
        "(5, \"Arjun\", 35, \"Mumbai\")\n",
        "]\n",
        "users_cols = [\"user_id\", \"name\", \"age\", \"city\"]\n",
        "users_df = spark.createDataFrame(users_data, users_cols)\n",
        "\n",
        "movies_data = [\n",
        "(101, \"Inception\", \"Sci-Fi\", 2010),\n",
        "(102, \"Avengers\", \"Action\", 2012),\n",
        "(103, \"3 Idiots\", \"Comedy\", 2009),\n",
        "(104, \"Dangal\", \"Drama\", 2016),\n",
        "(105, \"Interstellar\", \"Sci-Fi\", 2014)\n",
        "]\n",
        "movies_cols = [\"movie_id\", \"title\", \"genre\", \"year\"]\n",
        "movies_df = spark.createDataFrame(movies_data, movies_cols)\n",
        "\n",
        "ratings_data = [\n",
        "(1, 101, 5),\n",
        "(2, 101, 4),\n",
        "(1, 102, 3),\n",
        "(3, 103, 4),\n",
        "(4, 104, 5),\n",
        "(2, 103, 5),\n",
        "(5, 105, 4),\n",
        "(6, 101, 5)  # Rating from non-existent user\n",
        "]\n",
        "ratings_cols = [\"user_id\", \"movie_id\", \"rating\"]\n",
        "ratings_df = spark.createDataFrame(ratings_data, ratings_cols)"
      ],
      "metadata": {
        "id": "uMPCqGKrIkDN"
      },
      "execution_count": 4,
      "outputs": []
    },
    {
      "cell_type": "code",
      "source": [
        "users_df.filter(col(\"age\") > 28).show()"
      ],
      "metadata": {
        "colab": {
          "base_uri": "https://localhost:8080/"
        },
        "id": "oOAcghYXJFO6",
        "outputId": "de48a66d-0e9e-4055-c372-a9d00c10fb03"
      },
      "execution_count": 6,
      "outputs": [
        {
          "output_type": "stream",
          "name": "stdout",
          "text": [
            "+-------+-----+---+------+\n",
            "|user_id| name|age|  city|\n",
            "+-------+-----+---+------+\n",
            "|      2|Priya| 30| Delhi|\n",
            "|      5|Arjun| 35|Mumbai|\n",
            "+-------+-----+---+------+\n",
            "\n"
          ]
        }
      ]
    },
    {
      "cell_type": "code",
      "source": [
        "movies_df.select(\"genre\").distinct().show()"
      ],
      "metadata": {
        "colab": {
          "base_uri": "https://localhost:8080/"
        },
        "id": "fH30c7qVJbSP",
        "outputId": "67724e3a-751b-4bd0-ab8b-f338c87f272b"
      },
      "execution_count": 8,
      "outputs": [
        {
          "output_type": "stream",
          "name": "stdout",
          "text": [
            "+------+\n",
            "| genre|\n",
            "+------+\n",
            "|Action|\n",
            "|Sci-Fi|\n",
            "| Drama|\n",
            "|Comedy|\n",
            "+------+\n",
            "\n"
          ]
        }
      ]
    },
    {
      "cell_type": "code",
      "source": [
        "movies_df.filter(col(\"year\")> 2010).show()"
      ],
      "metadata": {
        "colab": {
          "base_uri": "https://localhost:8080/"
        },
        "id": "xeLqJlCGJo0h",
        "outputId": "6e2575e2-9792-4de0-e766-240f572107a0"
      },
      "execution_count": 10,
      "outputs": [
        {
          "output_type": "stream",
          "name": "stdout",
          "text": [
            "+--------+------------+------+----+\n",
            "|movie_id|       title| genre|year|\n",
            "+--------+------------+------+----+\n",
            "|     102|    Avengers|Action|2012|\n",
            "|     104|      Dangal| Drama|2016|\n",
            "|     105|Interstellar|Sci-Fi|2014|\n",
            "+--------+------------+------+----+\n",
            "\n"
          ]
        }
      ]
    },
    {
      "cell_type": "code",
      "source": [
        "users_df.groupBy(\"city\").agg(avg(\"age\").alias(\"avg_age\")).show()"
      ],
      "metadata": {
        "colab": {
          "base_uri": "https://localhost:8080/"
        },
        "id": "_bZ0CdRHU2E4",
        "outputId": "a1d59f50-163c-437d-a871-63cdf655cbc8"
      },
      "execution_count": 13,
      "outputs": [
        {
          "output_type": "stream",
          "name": "stdout",
          "text": [
            "+---------+-------+\n",
            "|     city|avg_age|\n",
            "+---------+-------+\n",
            "|Bangalore|   25.0|\n",
            "|    Delhi|   30.0|\n",
            "|  Chennai|   28.0|\n",
            "|   Mumbai|   35.0|\n",
            "|Hyderabad|   22.0|\n",
            "+---------+-------+\n",
            "\n"
          ]
        }
      ]
    },
    {
      "cell_type": "code",
      "source": [
        "ratings_df.groupBy(\"movie_id\").agg(avg(\"rating\").alias(\"avg_rating\")).show()"
      ],
      "metadata": {
        "colab": {
          "base_uri": "https://localhost:8080/"
        },
        "id": "54DD2IfodvPP",
        "outputId": "7a5edae3-3314-40e8-84bc-15e087563108"
      },
      "execution_count": 16,
      "outputs": [
        {
          "output_type": "stream",
          "name": "stdout",
          "text": [
            "+--------+-----------------+\n",
            "|movie_id|       avg_rating|\n",
            "+--------+-----------------+\n",
            "|     103|              4.5|\n",
            "|     101|4.666666666666667|\n",
            "|     102|              3.0|\n",
            "|     104|              5.0|\n",
            "|     105|              4.0|\n",
            "+--------+-----------------+\n",
            "\n"
          ]
        }
      ]
    },
    {
      "cell_type": "code",
      "source": [
        "movies_ratings = ratings_df.join(movies_df, \"movie_id\")\n",
        "movies_ratings.groupBy(\"genre\").agg(max(\"rating\").alias(\"max_rating\")).show()"
      ],
      "metadata": {
        "colab": {
          "base_uri": "https://localhost:8080/"
        },
        "id": "2SzeVvDZd-sW",
        "outputId": "525ae497-9005-46df-8611-19c0bacf7d95"
      },
      "execution_count": 18,
      "outputs": [
        {
          "output_type": "stream",
          "name": "stdout",
          "text": [
            "+------+----------+\n",
            "| genre|max_rating|\n",
            "+------+----------+\n",
            "| Drama|         5|\n",
            "|Comedy|         5|\n",
            "|Action|         3|\n",
            "|Sci-Fi|         5|\n",
            "+------+----------+\n",
            "\n"
          ]
        }
      ]
    },
    {
      "cell_type": "code",
      "source": [
        "rating_users = ratings_df.join(users_df, \"user_id\", \"inner\")\n",
        "rating_users.show()"
      ],
      "metadata": {
        "colab": {
          "base_uri": "https://localhost:8080/"
        },
        "id": "gOsRCjt1egQ2",
        "outputId": "7c399d7f-43db-4bc3-9699-e017d8101c28"
      },
      "execution_count": 20,
      "outputs": [
        {
          "output_type": "stream",
          "name": "stdout",
          "text": [
            "+-------+--------+------+-----+---+---------+\n",
            "|user_id|movie_id|rating| name|age|     city|\n",
            "+-------+--------+------+-----+---+---------+\n",
            "|      1|     101|     5|Rahul| 25|Bangalore|\n",
            "|      1|     102|     3|Rahul| 25|Bangalore|\n",
            "|      2|     101|     4|Priya| 30|    Delhi|\n",
            "|      2|     103|     5|Priya| 30|    Delhi|\n",
            "|      3|     103|     4| Aman| 22|Hyderabad|\n",
            "|      4|     104|     5|Sneha| 28|  Chennai|\n",
            "|      5|     105|     4|Arjun| 35|   Mumbai|\n",
            "+-------+--------+------+-----+---+---------+\n",
            "\n"
          ]
        }
      ]
    },
    {
      "cell_type": "code",
      "source": [
        "rating_movies = ratings_df.join(movies_df, \"movie_id\", \"inner\")\n",
        "rating_movies.show()"
      ],
      "metadata": {
        "colab": {
          "base_uri": "https://localhost:8080/"
        },
        "id": "obln6Stne6Up",
        "outputId": "a5e93943-c48f-4f81-87a8-9b86333c60aa"
      },
      "execution_count": 22,
      "outputs": [
        {
          "output_type": "stream",
          "name": "stdout",
          "text": [
            "+--------+-------+------+------------+------+----+\n",
            "|movie_id|user_id|rating|       title| genre|year|\n",
            "+--------+-------+------+------------+------+----+\n",
            "|     101|      1|     5|   Inception|Sci-Fi|2010|\n",
            "|     101|      2|     4|   Inception|Sci-Fi|2010|\n",
            "|     101|      6|     5|   Inception|Sci-Fi|2010|\n",
            "|     102|      1|     3|    Avengers|Action|2012|\n",
            "|     103|      3|     4|    3 Idiots|Comedy|2009|\n",
            "|     103|      2|     5|    3 Idiots|Comedy|2009|\n",
            "|     104|      4|     5|      Dangal| Drama|2016|\n",
            "|     105|      5|     4|Interstellar|Sci-Fi|2014|\n",
            "+--------+-------+------+------------+------+----+\n",
            "\n"
          ]
        }
      ]
    },
    {
      "cell_type": "code",
      "source": [
        "users_df.join(ratings_df, \"user_id\", \"left_anti\").show()"
      ],
      "metadata": {
        "colab": {
          "base_uri": "https://localhost:8080/"
        },
        "id": "J94dLEo_fFXC",
        "outputId": "5da39702-2050-43f1-d46d-63a3ec5cd904"
      },
      "execution_count": 24,
      "outputs": [
        {
          "output_type": "stream",
          "name": "stdout",
          "text": [
            "+-------+----+---+----+\n",
            "|user_id|name|age|city|\n",
            "+-------+----+---+----+\n",
            "+-------+----+---+----+\n",
            "\n"
          ]
        }
      ]
    },
    {
      "cell_type": "code",
      "source": [
        "movies_df.join(ratings_df, \"movie_id\", \"left_anti\").show()"
      ],
      "metadata": {
        "colab": {
          "base_uri": "https://localhost:8080/"
        },
        "id": "bomYJu0BfO6p",
        "outputId": "5dcfcc55-3524-46a0-985a-6862be1d41c3"
      },
      "execution_count": 28,
      "outputs": [
        {
          "output_type": "stream",
          "name": "stdout",
          "text": [
            "+--------+-----+-----+----+\n",
            "|movie_id|title|genre|year|\n",
            "+--------+-----+-----+----+\n",
            "+--------+-----+-----+----+\n",
            "\n"
          ]
        }
      ]
    },
    {
      "cell_type": "code",
      "source": [
        "users_df.createOrReplaceTempView(\"users\")\n",
        "movies_df.createOrReplaceTempView(\"movies\")\n",
        "ratings_df.createOrReplaceTempView(\"ratings\")"
      ],
      "metadata": {
        "id": "w2zZ1qLifehs"
      },
      "execution_count": 30,
      "outputs": []
    },
    {
      "cell_type": "code",
      "source": [
        "spark.sql(\"\"\"\n",
        "  SELECT u.city, COUNT(r.rating) AS total_ratings\n",
        "  FROM users u JOIN ratings r ON u.user_id = r.user_id\n",
        "  GROUP BY u.city\n",
        "  ORDER BY total_ratings DESC LIMIT 2\n",
        "  \"\"\").show()"
      ],
      "metadata": {
        "colab": {
          "base_uri": "https://localhost:8080/"
        },
        "id": "RE_sPudvfmw-",
        "outputId": "c60e4c9a-e144-45c7-d42e-bc32d5dccf54"
      },
      "execution_count": 37,
      "outputs": [
        {
          "output_type": "stream",
          "name": "stdout",
          "text": [
            "+---------+-------------+\n",
            "|     city|total_ratings|\n",
            "+---------+-------------+\n",
            "|Bangalore|            2|\n",
            "|    Delhi|            2|\n",
            "+---------+-------------+\n",
            "\n"
          ]
        }
      ]
    },
    {
      "cell_type": "code",
      "source": [
        "spark.sql(\"\"\"\n",
        "  SELECT DISTINCT u.name\n",
        "  FROM users u JOIN ratings r ON u.user_id = r.user_id\n",
        "  WHERE r.rating = 5\n",
        "  \"\"\").show()"
      ],
      "metadata": {
        "colab": {
          "base_uri": "https://localhost:8080/"
        },
        "id": "McBCAGVjh-Hc",
        "outputId": "1a24c306-6af6-4ce1-a4d9-dba2e624b547"
      },
      "execution_count": 38,
      "outputs": [
        {
          "output_type": "stream",
          "name": "stdout",
          "text": [
            "+-----+\n",
            "| name|\n",
            "+-----+\n",
            "|Sneha|\n",
            "|Priya|\n",
            "|Rahul|\n",
            "+-----+\n",
            "\n"
          ]
        }
      ]
    },
    {
      "cell_type": "code",
      "source": [
        "spark.sql(\"\"\"\n",
        "  SELECT m.genre, COUNT(r.rating) AS total_ratings\n",
        "  FROM movies m JOIN ratings r ON m.movie_id = r.movie_id\n",
        "  GROUP BY m.genre\n",
        "  ORDER BY total_ratings DESC LIMIT 1\n",
        "  \"\"\").show()"
      ],
      "metadata": {
        "colab": {
          "base_uri": "https://localhost:8080/"
        },
        "id": "PJY5Mmf9jNX-",
        "outputId": "3f758b50-0f2e-41c9-9264-eb0a8ece9621"
      },
      "execution_count": 43,
      "outputs": [
        {
          "output_type": "stream",
          "name": "stdout",
          "text": [
            "+------+-------------+\n",
            "| genre|total_ratings|\n",
            "+------+-------------+\n",
            "|Sci-Fi|            4|\n",
            "+------+-------------+\n",
            "\n"
          ]
        }
      ]
    },
    {
      "cell_type": "code",
      "source": [
        "ratings_df.write.mode(\"overwrite\").csv(\"/content/ratings_csv\", header=True)\n",
        "ratings_loaded = spark.read.csv(\"/content/ratings_csv\", header=True, inferSchema=True)\n",
        "ratings_loaded.show()\n"
      ],
      "metadata": {
        "colab": {
          "base_uri": "https://localhost:8080/"
        },
        "id": "R8LgowEUj_Dj",
        "outputId": "a60379c7-3e6a-4763-916f-e2722b59b1df"
      },
      "execution_count": 45,
      "outputs": [
        {
          "output_type": "stream",
          "name": "stdout",
          "text": [
            "+-------+--------+------+\n",
            "|user_id|movie_id|rating|\n",
            "+-------+--------+------+\n",
            "|      1|     101|     5|\n",
            "|      2|     101|     4|\n",
            "|      1|     102|     3|\n",
            "|      3|     103|     4|\n",
            "|      4|     104|     5|\n",
            "|      2|     103|     5|\n",
            "|      5|     105|     4|\n",
            "|      6|     101|     5|\n",
            "+-------+--------+------+\n",
            "\n"
          ]
        }
      ]
    },
    {
      "cell_type": "code",
      "source": [
        "movies_df.write.mode(\"overwrite\").json(\"/content/movies_json\")\n",
        "movies_loaded = spark.read.json(\"/content/movies_json\")\n",
        "movies_loaded.show()"
      ],
      "metadata": {
        "colab": {
          "base_uri": "https://localhost:8080/"
        },
        "id": "e8DcN8tkkhPS",
        "outputId": "f7f21706-1123-4a84-e4ba-38eaf5c984b4"
      },
      "execution_count": 47,
      "outputs": [
        {
          "output_type": "stream",
          "name": "stdout",
          "text": [
            "+------+--------+------------+----+\n",
            "| genre|movie_id|       title|year|\n",
            "+------+--------+------------+----+\n",
            "|Comedy|     103|    3 Idiots|2009|\n",
            "| Drama|     104|      Dangal|2016|\n",
            "|Sci-Fi|     105|Interstellar|2014|\n",
            "|Sci-Fi|     101|   Inception|2010|\n",
            "|Action|     102|    Avengers|2012|\n",
            "+------+--------+------------+----+\n",
            "\n"
          ]
        }
      ]
    },
    {
      "cell_type": "code",
      "source": [
        "ratings_pd = ratings_df.toPandas()\n",
        "movies_pd = movies_df.toPandas()\n",
        "merged = ratings_df.join(movies_df, \"movie_id\").toPandas()\n",
        "merged_users = ratings_df.join(users_df, \"user_id\").toPandas()\n"
      ],
      "metadata": {
        "id": "C4ZAb9V4krXL"
      },
      "execution_count": 50,
      "outputs": []
    },
    {
      "cell_type": "code",
      "source": [
        "avg_rating_genre = merged.groupby(\"genre\")[\"rating\"].mean()\n",
        "avg_rating_genre.plot(kind=\"bar\", title=\"Average Rating per Genre\")\n",
        "plt.show()"
      ],
      "metadata": {
        "colab": {
          "base_uri": "https://localhost:8080/",
          "height": 515
        },
        "id": "q7Bh2ANFkwG9",
        "outputId": "d83ded22-3498-458e-a893-6f7c15081158"
      },
      "execution_count": 52,
      "outputs": [
        {
          "output_type": "display_data",
          "data": {
            "text/plain": [
              "<Figure size 640x480 with 1 Axes>"
            ],
            "image/png": "[encoded data removed]"
          },
          "metadata": {}
        }
      ]
    },
    {
      "cell_type": "code",
      "source": [
        "ratings_per_year = merged.groupby(\"year\")[\"rating\"].count()\n",
        "ratings_per_year.plot(kind=\"line\", marker=\"o\", title=\"Ratings per Year of Release\")\n",
        "plt.show()"
      ],
      "metadata": {
        "colab": {
          "base_uri": "https://localhost:8080/",
          "height": 472
        },
        "id": "FUNP_io3k5Lj",
        "outputId": "7507ca19-2420-4630-e48b-a1a3f11585d5"
      },
      "execution_count": 57,
      "outputs": [
        {
          "output_type": "display_data",
          "data": {
            "text/plain": [
              "<Figure size 640x480 with 1 Axes>"
            ],
            "image/png": "[encoded data removed]"
          },
          "metadata": {}
        }
      ]
    },
    {
      "cell_type": "code",
      "source": [
        "avg_rating_age = merged_users.groupby(\"age\")[\"rating\"].mean()\n",
        "plt.scatter(avg_rating_age.index, avg_rating_age.values)\n",
        "plt.title(\"Age vs Avg Rating\")\n",
        "plt.xlabel(\"Age\")\n",
        "plt.ylabel(\"Avg Rating\")\n",
        "plt.show()"
      ],
      "metadata": {
        "colab": {
          "base_uri": "https://localhost:8080/",
          "height": 472
        },
        "id": "8T64ow5klCEA",
        "outputId": "c4fec59f-3632-45ed-c3e8-c705210477b2"
      },
      "execution_count": 55,
      "outputs": [
        {
          "output_type": "display_data",
          "data": {
            "text/plain": [
              "<Figure size 640x480 with 1 Axes>"
            ],
            "image/png": "[encoded data removed]"
          },
          "metadata": {}
        }
      ]
    }
  ]
}