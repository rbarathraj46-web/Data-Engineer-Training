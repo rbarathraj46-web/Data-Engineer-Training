{
  "nbformat": 4,
  "nbformat_minor": 0,
  "metadata": {
    "colab": {
      "provenance": []
    },
    "kernelspec": {
      "name": "python3",
      "display_name": "Python 3"
    },
    "language_info": {
      "name": "python"
    }
  },
  "cells": [
    {
      "cell_type": "code",
      "execution_count": 2,
      "metadata": {
        "colab": {
          "base_uri": "https://localhost:8080/"
        },
        "id": "2swiulgtnQwj",
        "outputId": "fed9f314-49b0-484d-9434-0265e0066122"
      },
      "outputs": [
        {
          "output_type": "stream",
          "name": "stdout",
          "text": [
            "Requirement already satisfied: pyspark in /usr/local/lib/python3.12/dist-packages (3.5.1)\n",
            "Requirement already satisfied: py4j==0.10.9.7 in /usr/local/lib/python3.12/dist-packages (from pyspark) (0.10.9.7)\n"
          ]
        }
      ],
      "source": [
        "!pip install pyspark"
      ]
    },
    {
      "cell_type": "code",
      "source": [
        "from pyspark.sql import SparkSession\n",
        "from pyspark.sql.functions import col, avg, max, min, count, sum\n",
        "\n",
        "spark = SparkSession.builder.appName(\"Customers-Orders-Exercises\").getOrCreate()\n",
        "\n",
        "customers_data = [\n",
        "    (1, \"Rahul Sharma\", \"Bangalore\", 28),\n",
        "    (2, \"Priya Singh\", \"Delhi\", 32),\n",
        "    (3, \"Aman Kumar\", \"Hyderabad\", 25),\n",
        "    (4, \"Sneha Reddy\", \"Chennai\", 35),\n",
        "    (5, \"Arjun Mehta\", \"Mumbai\", 30),\n",
        "    (6, \"Divya Nair\", \"Delhi\", 29)\n",
        "]\n",
        "customers_cols = [\"customer_id\", \"name\", \"city\", \"age\"]\n",
        "customers_df = spark.createDataFrame(customers_data, customers_cols)\n",
        "\n",
        "orders_data = [\n",
        "    (101, 1, \"Laptop\", 55000),\n",
        "    (102, 2, \"Mobile\", 25000),\n",
        "    (103, 1, \"Headphones\", 3000),\n",
        "    (104, 3, \"Chair\", 5000),\n",
        "    (105, 5, \"Book\", 700),\n",
        "    (106, 2, \"Tablet\", 20000),\n",
        "    (107, 6, \"Shoes\", 2500),\n",
        "    (108, 7, \"Camera\", 30000)   # Order with non-existent customer\n",
        "]\n",
        "orders_cols = [\"order_id\", \"customer_id\", \"product\", \"amount\"]\n",
        "orders_df = spark.createDataFrame(orders_data, orders_cols)\n",
        "\n",
        "customers_df.show()\n",
        "orders_df.show()"
      ],
      "metadata": {
        "colab": {
          "base_uri": "https://localhost:8080/"
        },
        "id": "VTwyjV2PnzeB",
        "outputId": "01b84955-35e8-4677-ba85-27f6174dbdba"
      },
      "execution_count": 5,
      "outputs": [
        {
          "output_type": "stream",
          "name": "stdout",
          "text": [
            "+-----------+------------+---------+---+\n",
            "|customer_id|        name|     city|age|\n",
            "+-----------+------------+---------+---+\n",
            "|          1|Rahul Sharma|Bangalore| 28|\n",
            "|          2| Priya Singh|    Delhi| 32|\n",
            "|          3|  Aman Kumar|Hyderabad| 25|\n",
            "|          4| Sneha Reddy|  Chennai| 35|\n",
            "|          5| Arjun Mehta|   Mumbai| 30|\n",
            "|          6|  Divya Nair|    Delhi| 29|\n",
            "+-----------+------------+---------+---+\n",
            "\n",
            "+--------+-----------+----------+------+\n",
            "|order_id|customer_id|   product|amount|\n",
            "+--------+-----------+----------+------+\n",
            "|     101|          1|    Laptop| 55000|\n",
            "|     102|          2|    Mobile| 25000|\n",
            "|     103|          1|Headphones|  3000|\n",
            "|     104|          3|     Chair|  5000|\n",
            "|     105|          5|      Book|   700|\n",
            "|     106|          2|    Tablet| 20000|\n",
            "|     107|          6|     Shoes|  2500|\n",
            "|     108|          7|    Camera| 30000|\n",
            "+--------+-----------+----------+------+\n",
            "\n"
          ]
        }
      ]
    },
    {
      "cell_type": "code",
      "source": [
        "customers_df.select(\"name\", \"city\").show()"
      ],
      "metadata": {
        "colab": {
          "base_uri": "https://localhost:8080/"
        },
        "id": "GKPkBH4foPk9",
        "outputId": "2b18d55b-b32b-469a-d965-47e9ec4fd625"
      },
      "execution_count": 8,
      "outputs": [
        {
          "output_type": "stream",
          "name": "stdout",
          "text": [
            "+------------+---------+\n",
            "|        name|     city|\n",
            "+------------+---------+\n",
            "|Rahul Sharma|Bangalore|\n",
            "| Priya Singh|    Delhi|\n",
            "|  Aman Kumar|Hyderabad|\n",
            "| Sneha Reddy|  Chennai|\n",
            "| Arjun Mehta|   Mumbai|\n",
            "|  Divya Nair|    Delhi|\n",
            "+------------+---------+\n",
            "\n"
          ]
        }
      ]
    },
    {
      "cell_type": "code",
      "source": [
        "customers_df.filter(col(\"age\") > 30).show()"
      ],
      "metadata": {
        "colab": {
          "base_uri": "https://localhost:8080/"
        },
        "id": "7ugunPrPoZ1C",
        "outputId": "b983310c-eadc-494b-ef5a-de06e6c901cf"
      },
      "execution_count": 10,
      "outputs": [
        {
          "output_type": "stream",
          "name": "stdout",
          "text": [
            "+-----------+-----------+-------+---+\n",
            "|customer_id|       name|   city|age|\n",
            "+-----------+-----------+-------+---+\n",
            "|          2|Priya Singh|  Delhi| 32|\n",
            "|          4|Sneha Reddy|Chennai| 35|\n",
            "+-----------+-----------+-------+---+\n",
            "\n"
          ]
        }
      ]
    },
    {
      "cell_type": "code",
      "source": [
        "print(customers_df.filter(col(\"city\") == \"Delhi\").count())"
      ],
      "metadata": {
        "colab": {
          "base_uri": "https://localhost:8080/"
        },
        "id": "y-vxKsySohEd",
        "outputId": "7fb775b5-4bb0-4992-8d20-a66564579b23"
      },
      "execution_count": 12,
      "outputs": [
        {
          "output_type": "stream",
          "name": "stdout",
          "text": [
            "2\n"
          ]
        }
      ]
    },
    {
      "cell_type": "code",
      "source": [
        "customers_df.select(\"city\").distinct().show()"
      ],
      "metadata": {
        "colab": {
          "base_uri": "https://localhost:8080/"
        },
        "id": "NMD_X4TiolYU",
        "outputId": "cd80bc3f-5b14-4cd3-a54d-e4a68fa72279"
      },
      "execution_count": 13,
      "outputs": [
        {
          "output_type": "stream",
          "name": "stdout",
          "text": [
            "+---------+\n",
            "|     city|\n",
            "+---------+\n",
            "|Bangalore|\n",
            "|    Delhi|\n",
            "|Hyderabad|\n",
            "|  Chennai|\n",
            "|   Mumbai|\n",
            "+---------+\n",
            "\n"
          ]
        }
      ]
    },
    {
      "cell_type": "code",
      "source": [
        "customers_df.agg(avg(\"age\")).show()\n"
      ],
      "metadata": {
        "colab": {
          "base_uri": "https://localhost:8080/"
        },
        "id": "kobtmz3TowgS",
        "outputId": "a835c10a-3a45-4c20-b647-dab4eaf367dc"
      },
      "execution_count": 14,
      "outputs": [
        {
          "output_type": "stream",
          "name": "stdout",
          "text": [
            "+------------------+\n",
            "|          avg(age)|\n",
            "+------------------+\n",
            "|29.833333333333332|\n",
            "+------------------+\n",
            "\n"
          ]
        }
      ]
    },
    {
      "cell_type": "code",
      "source": [
        "orders_df.agg(max(\"amount\"), min(\"amount\")).show()"
      ],
      "metadata": {
        "colab": {
          "base_uri": "https://localhost:8080/"
        },
        "id": "o7cwZze9owsi",
        "outputId": "782ff1d2-079b-419f-e4ee-bec623214df2"
      },
      "execution_count": 15,
      "outputs": [
        {
          "output_type": "stream",
          "name": "stdout",
          "text": [
            "+-----------+-----------+\n",
            "|max(amount)|min(amount)|\n",
            "+-----------+-----------+\n",
            "|      55000|        700|\n",
            "+-----------+-----------+\n",
            "\n"
          ]
        }
      ]
    },
    {
      "cell_type": "code",
      "source": [
        "orders_df.groupBy(\"customer_id\").agg(count(\"*\").alias(\"order_count\")).show()"
      ],
      "metadata": {
        "colab": {
          "base_uri": "https://localhost:8080/"
        },
        "id": "EOSYW2vLowyy",
        "outputId": "5c9584c4-927b-4f2d-f620-4220b953da9b"
      },
      "execution_count": 16,
      "outputs": [
        {
          "output_type": "stream",
          "name": "stdout",
          "text": [
            "+-----------+-----------+\n",
            "|customer_id|order_count|\n",
            "+-----------+-----------+\n",
            "|          1|          2|\n",
            "|          3|          1|\n",
            "|          2|          2|\n",
            "|          7|          1|\n",
            "|          6|          1|\n",
            "|          5|          1|\n",
            "+-----------+-----------+\n",
            "\n"
          ]
        }
      ]
    },
    {
      "cell_type": "code",
      "source": [
        "orders_df.groupBy(\"customer_id\").agg(sum(\"amount\").alias(\"total_spend\")).show()"
      ],
      "metadata": {
        "colab": {
          "base_uri": "https://localhost:8080/"
        },
        "id": "IxV6CNtrow2k",
        "outputId": "4473a0a3-84f1-40c1-e046-b5bc8bd45e69"
      },
      "execution_count": 17,
      "outputs": [
        {
          "output_type": "stream",
          "name": "stdout",
          "text": [
            "+-----------+-----------+\n",
            "|customer_id|total_spend|\n",
            "+-----------+-----------+\n",
            "|          1|      58000|\n",
            "|          3|       5000|\n",
            "|          2|      45000|\n",
            "|          7|      30000|\n",
            "|          6|       2500|\n",
            "|          5|        700|\n",
            "+-----------+-----------+\n",
            "\n"
          ]
        }
      ]
    },
    {
      "cell_type": "code",
      "source": [
        "customers_df.join(orders_df, \"customer_id\", \"inner\").show()"
      ],
      "metadata": {
        "colab": {
          "base_uri": "https://localhost:8080/"
        },
        "id": "FoH9q7iIow5e",
        "outputId": "15007c1d-0cf7-4265-bb24-0fa7876cebb7"
      },
      "execution_count": 18,
      "outputs": [
        {
          "output_type": "stream",
          "name": "stdout",
          "text": [
            "+-----------+------------+---------+---+--------+----------+------+\n",
            "|customer_id|        name|     city|age|order_id|   product|amount|\n",
            "+-----------+------------+---------+---+--------+----------+------+\n",
            "|          1|Rahul Sharma|Bangalore| 28|     101|    Laptop| 55000|\n",
            "|          1|Rahul Sharma|Bangalore| 28|     103|Headphones|  3000|\n",
            "|          2| Priya Singh|    Delhi| 32|     102|    Mobile| 25000|\n",
            "|          2| Priya Singh|    Delhi| 32|     106|    Tablet| 20000|\n",
            "|          3|  Aman Kumar|Hyderabad| 25|     104|     Chair|  5000|\n",
            "|          5| Arjun Mehta|   Mumbai| 30|     105|      Book|   700|\n",
            "|          6|  Divya Nair|    Delhi| 29|     107|     Shoes|  2500|\n",
            "+-----------+------------+---------+---+--------+----------+------+\n",
            "\n"
          ]
        }
      ]
    },
    {
      "cell_type": "code",
      "source": [
        "customers_df.join(orders_df, \"customer_id\", \"left\").show()"
      ],
      "metadata": {
        "colab": {
          "base_uri": "https://localhost:8080/"
        },
        "id": "AjVD691Aow8V",
        "outputId": "ac4764f1-247e-4f90-93f2-ba6fe630432d"
      },
      "execution_count": 19,
      "outputs": [
        {
          "output_type": "stream",
          "name": "stdout",
          "text": [
            "+-----------+------------+---------+---+--------+----------+------+\n",
            "|customer_id|        name|     city|age|order_id|   product|amount|\n",
            "+-----------+------------+---------+---+--------+----------+------+\n",
            "|          1|Rahul Sharma|Bangalore| 28|     103|Headphones|  3000|\n",
            "|          1|Rahul Sharma|Bangalore| 28|     101|    Laptop| 55000|\n",
            "|          3|  Aman Kumar|Hyderabad| 25|     104|     Chair|  5000|\n",
            "|          2| Priya Singh|    Delhi| 32|     106|    Tablet| 20000|\n",
            "|          2| Priya Singh|    Delhi| 32|     102|    Mobile| 25000|\n",
            "|          6|  Divya Nair|    Delhi| 29|     107|     Shoes|  2500|\n",
            "|          5| Arjun Mehta|   Mumbai| 30|     105|      Book|   700|\n",
            "|          4| Sneha Reddy|  Chennai| 35|    NULL|      NULL|  NULL|\n",
            "+-----------+------------+---------+---+--------+----------+------+\n",
            "\n"
          ]
        }
      ]
    },
    {
      "cell_type": "code",
      "source": [
        "customers_df.join(orders_df, \"customer_id\", \"left\")\\\n",
        "    .filter(orders_df.order_id.isNull()).show()"
      ],
      "metadata": {
        "colab": {
          "base_uri": "https://localhost:8080/"
        },
        "id": "tRsegoAHow_C",
        "outputId": "5fbb9ab5-af64-49bb-942d-17d36759a932"
      },
      "execution_count": 20,
      "outputs": [
        {
          "output_type": "stream",
          "name": "stdout",
          "text": [
            "+-----------+-----------+-------+---+--------+-------+------+\n",
            "|customer_id|       name|   city|age|order_id|product|amount|\n",
            "+-----------+-----------+-------+---+--------+-------+------+\n",
            "|          4|Sneha Reddy|Chennai| 35|    NULL|   NULL|  NULL|\n",
            "+-----------+-----------+-------+---+--------+-------+------+\n",
            "\n"
          ]
        }
      ]
    },
    {
      "cell_type": "code",
      "source": [
        "orders_df.join(customers_df, \"customer_id\", \"left\")\\\n",
        "    .filter(customers_df.customer_id.isNull()).show()\n"
      ],
      "metadata": {
        "colab": {
          "base_uri": "https://localhost:8080/"
        },
        "id": "57ZPOZuHoxBq",
        "outputId": "161f09ec-8c32-423f-9d98-df69e8b8aad3"
      },
      "execution_count": 21,
      "outputs": [
        {
          "output_type": "stream",
          "name": "stdout",
          "text": [
            "+-----------+--------+-------+------+----+----+----+\n",
            "|customer_id|order_id|product|amount|name|city| age|\n",
            "+-----------+--------+-------+------+----+----+----+\n",
            "|          7|     108| Camera| 30000|NULL|NULL|NULL|\n",
            "+-----------+--------+-------+------+----+----+----+\n",
            "\n"
          ]
        }
      ]
    },
    {
      "cell_type": "code",
      "source": [
        "customers_df.orderBy(col(\"age\").desc()).show()"
      ],
      "metadata": {
        "colab": {
          "base_uri": "https://localhost:8080/"
        },
        "id": "ygOpy7HsoxEy",
        "outputId": "fef69ee9-f248-4b08-cb0c-bfe8a789802a"
      },
      "execution_count": 22,
      "outputs": [
        {
          "output_type": "stream",
          "name": "stdout",
          "text": [
            "+-----------+------------+---------+---+\n",
            "|customer_id|        name|     city|age|\n",
            "+-----------+------------+---------+---+\n",
            "|          4| Sneha Reddy|  Chennai| 35|\n",
            "|          2| Priya Singh|    Delhi| 32|\n",
            "|          5| Arjun Mehta|   Mumbai| 30|\n",
            "|          6|  Divya Nair|    Delhi| 29|\n",
            "|          1|Rahul Sharma|Bangalore| 28|\n",
            "|          3|  Aman Kumar|Hyderabad| 25|\n",
            "+-----------+------------+---------+---+\n",
            "\n"
          ]
        }
      ]
    },
    {
      "cell_type": "code",
      "source": [
        "orders_df.orderBy(col(\"amount\").desc()).limit(3).show()"
      ],
      "metadata": {
        "colab": {
          "base_uri": "https://localhost:8080/"
        },
        "id": "o_mNCzI3pZH7",
        "outputId": "2fa8ae8a-56b8-4db7-bc9f-e09c4936874f"
      },
      "execution_count": 23,
      "outputs": [
        {
          "output_type": "stream",
          "name": "stdout",
          "text": [
            "+--------+-----------+-------+------+\n",
            "|order_id|customer_id|product|amount|\n",
            "+--------+-----------+-------+------+\n",
            "|     101|          1| Laptop| 55000|\n",
            "|     108|          7| Camera| 30000|\n",
            "|     102|          2| Mobile| 25000|\n",
            "+--------+-----------+-------+------+\n",
            "\n"
          ]
        }
      ]
    },
    {
      "cell_type": "code",
      "source": [
        "customers_df.groupBy(\"city\").agg(avg(\"age\").alias(\"avg_age\")).show()"
      ],
      "metadata": {
        "colab": {
          "base_uri": "https://localhost:8080/"
        },
        "id": "M3LSgy3XpZKl",
        "outputId": "dd93d837-5acc-4a5b-aa04-897ea50b5f3e"
      },
      "execution_count": 24,
      "outputs": [
        {
          "output_type": "stream",
          "name": "stdout",
          "text": [
            "+---------+-------+\n",
            "|     city|avg_age|\n",
            "+---------+-------+\n",
            "|Bangalore|   28.0|\n",
            "|    Delhi|   30.5|\n",
            "|Hyderabad|   25.0|\n",
            "|  Chennai|   35.0|\n",
            "|   Mumbai|   30.0|\n",
            "+---------+-------+\n",
            "\n"
          ]
        }
      ]
    },
    {
      "cell_type": "code",
      "source": [
        "orders_df.groupBy(\"product\").agg(sum(\"amount\").alias(\"total_sales\")).show()"
      ],
      "metadata": {
        "colab": {
          "base_uri": "https://localhost:8080/"
        },
        "id": "1f1LjP6wpZNa",
        "outputId": "fdf635c8-30b9-4271-ac6d-611c3836271f"
      },
      "execution_count": 25,
      "outputs": [
        {
          "output_type": "stream",
          "name": "stdout",
          "text": [
            "+----------+-----------+\n",
            "|   product|total_sales|\n",
            "+----------+-----------+\n",
            "|     Chair|       5000|\n",
            "|    Laptop|      55000|\n",
            "|    Mobile|      25000|\n",
            "|Headphones|       3000|\n",
            "|      Book|        700|\n",
            "|    Camera|      30000|\n",
            "|     Shoes|       2500|\n",
            "|    Tablet|      20000|\n",
            "+----------+-----------+\n",
            "\n"
          ]
        }
      ]
    },
    {
      "cell_type": "code",
      "source": [
        "customers_df.createOrReplaceTempView(\"customers\")\n",
        "orders_df.createOrReplaceTempView(\"orders\")"
      ],
      "metadata": {
        "id": "yWTWh6XYpZQE"
      },
      "execution_count": 29,
      "outputs": []
    },
    {
      "cell_type": "code",
      "source": [
        "spark.sql(\"\"\"\n",
        "    SELECT c.city, SUM(o.amount) as total_revenue\n",
        "    FROM customers c\n",
        "    JOIN orders o ON c.customer_id = o.customer_id\n",
        "    GROUP BY c.city\n",
        "\"\"\").show()"
      ],
      "metadata": {
        "colab": {
          "base_uri": "https://localhost:8080/"
        },
        "id": "uh2ohaGzprls",
        "outputId": "148a724f-7c47-4322-ce77-7f35af150538"
      },
      "execution_count": 30,
      "outputs": [
        {
          "output_type": "stream",
          "name": "stdout",
          "text": [
            "+---------+-------------+\n",
            "|     city|total_revenue|\n",
            "+---------+-------------+\n",
            "|Bangalore|        58000|\n",
            "|   Mumbai|          700|\n",
            "|    Delhi|        47500|\n",
            "|Hyderabad|         5000|\n",
            "+---------+-------------+\n",
            "\n"
          ]
        }
      ]
    },
    {
      "cell_type": "code",
      "source": [
        "spark.sql(\"\"\"\n",
        "    SELECT c.name, SUM(o.amount) as total_spend\n",
        "    FROM customers c\n",
        "    JOIN orders o ON c.customer_id = o.customer_id\n",
        "    GROUP BY c.name\n",
        "    ORDER BY total_spend DESC\n",
        "    LIMIT 2\n",
        "\"\"\").show()"
      ],
      "metadata": {
        "colab": {
          "base_uri": "https://localhost:8080/"
        },
        "id": "imdt1oFFpros",
        "outputId": "9696f39e-e7df-4dec-c92e-dfdb9fa3a2b3"
      },
      "execution_count": 31,
      "outputs": [
        {
          "output_type": "stream",
          "name": "stdout",
          "text": [
            "+------------+-----------+\n",
            "|        name|total_spend|\n",
            "+------------+-----------+\n",
            "|Rahul Sharma|      58000|\n",
            "| Priya Singh|      45000|\n",
            "+------------+-----------+\n",
            "\n"
          ]
        }
      ]
    },
    {
      "cell_type": "code",
      "source": [
        "spark.sql(\"\"\"\n",
        "    SELECT c.name, SUM(o.amount) as total_spend\n",
        "    FROM customers c\n",
        "    JOIN orders o ON c.customer_id = o.customer_id\n",
        "    GROUP BY c.name\n",
        "    HAVING SUM(o.amount) > 20000\n",
        "\"\"\").show()"
      ],
      "metadata": {
        "colab": {
          "base_uri": "https://localhost:8080/"
        },
        "id": "yGM3aJ50pzSV",
        "outputId": "0fee0974-de84-4215-d2dd-fb39801cf8cd"
      },
      "execution_count": 32,
      "outputs": [
        {
          "output_type": "stream",
          "name": "stdout",
          "text": [
            "+------------+-----------+\n",
            "|        name|total_spend|\n",
            "+------------+-----------+\n",
            "|Rahul Sharma|      58000|\n",
            "| Priya Singh|      45000|\n",
            "+------------+-----------+\n",
            "\n"
          ]
        }
      ]
    }
  ]
}