{
  "nbformat": 4,
  "nbformat_minor": 0,
  "metadata": {
    "colab": {
      "provenance": []
    },
    "kernelspec": {
      "name": "python3",
      "display_name": "Python 3"
    },
    "language_info": {
      "name": "python"
    }
  },
  "cells": [
    {
      "cell_type": "code",
      "execution_count": 2,
      "metadata": {
        "colab": {
          "base_uri": "https://localhost:8080/"
        },
        "id": "Lay0IfeQL4I1",
        "outputId": "501a484d-8856-4efe-9bf3-9dc95b981fe7"
      },
      "outputs": [
        {
          "output_type": "stream",
          "name": "stdout",
          "text": [
            "Requirement already satisfied: pyspark in /usr/local/lib/python3.12/dist-packages (3.5.1)\n",
            "Requirement already satisfied: py4j==0.10.9.7 in /usr/local/lib/python3.12/dist-packages (from pyspark) (0.10.9.7)\n"
          ]
        }
      ],
      "source": [
        "!pip install pyspark"
      ]
    },
    {
      "cell_type": "code",
      "source": [
        "import pandas as pd\n",
        "import matplotlib.pyplot as plt\n",
        "import seaborn as sns\n",
        "\n",
        "%matplotlib inline\n",
        "\n",
        "from pyspark.sql import SparkSession\n",
        "from pyspark.sql.functions import col, avg, max, min, count, sum\n",
        "\n",
        "spark = SparkSession.builder.appName(\"DataFrame-Exercises\").getOrCreate()\n",
        "student_data = [\n",
        "  {\n",
        "    \"id\": 1,\n",
        "    \"name\": \"Alice\",\n",
        "    \"age\": 20,\n",
        "    \"department\": \"Computer Science\",\n",
        "    \"gpa\": 3.8\n",
        "  },\n",
        "  {\n",
        "    \"id\": 2,\n",
        "    \"name\": \"Bob\",\n",
        "    \"age\": 22,\n",
        "    \"department\": \"Electronics\",\n",
        "    \"gpa\": 3.5\n",
        "  },\n",
        "  {\n",
        "    \"id\": 3,\n",
        "    \"name\": \"Charlie\",\n",
        "    \"age\": 21,\n",
        "    \"department\": \"Mechanical\",\n",
        "    \"gpa\": 3.2\n",
        "  },\n",
        "  {\n",
        "    \"id\": 4,\n",
        "    \"name\": \"David\",\n",
        "    \"age\": 23,\n",
        "    \"department\": \"Civil\",\n",
        "    \"gpa\": 3.9\n",
        "  },\n",
        "  {\n",
        "    \"id\": 5,\n",
        "    \"name\": \"Eva\",\n",
        "    \"age\": 20,\n",
        "    \"department\": \"IT\",\n",
        "    \"gpa\": 3.7\n",
        "  }\n",
        "]\n",
        "student_df = spark.createDataFrame(student_data)\n",
        "student_df.show()\n",
        "\n",
        "library_data = [\n",
        "    (101, 1, \"Science\", 550),\n",
        "    (102, 2, \"Economics\", 250),\n",
        "    (103, 3, \"Zoology\", 300),\n",
        "    (104, 4, \"Computer\", 500),\n",
        "    (105, 5, \"Data\", 700),\n",
        "    (106, 3, \"Signals\", 500),\n",
        "    (107, 1, \"Tech\", 350)\n",
        "  ]\n",
        "library_cols = [\"book_id\", \"id\", \"book\", \"amount\"]\n",
        "library_df = spark.createDataFrame(library_data, library_cols)\n",
        "library_df.show()\n",
        "\n",
        "df = pd.DataFrame(student_data)\n",
        "print(\"First 5 rows of dataset:\")\n",
        "print(df.head())"
      ],
      "metadata": {
        "colab": {
          "base_uri": "https://localhost:8080/"
        },
        "id": "fi2zEtsqOguM",
        "outputId": "cda3fff4-352b-4890-f8f6-c74fef946824"
      },
      "execution_count": 56,
      "outputs": [
        {
          "output_type": "stream",
          "name": "stdout",
          "text": [
            "+---+----------------+---+---+-------+\n",
            "|age|      department|gpa| id|   name|\n",
            "+---+----------------+---+---+-------+\n",
            "| 20|Computer Science|3.8|  1|  Alice|\n",
            "| 22|     Electronics|3.5|  2|    Bob|\n",
            "| 21|      Mechanical|3.2|  3|Charlie|\n",
            "| 23|           Civil|3.9|  4|  David|\n",
            "| 20|              IT|3.7|  5|    Eva|\n",
            "+---+----------------+---+---+-------+\n",
            "\n",
            "+-------+---+---------+------+\n",
            "|book_id| id|     book|amount|\n",
            "+-------+---+---------+------+\n",
            "|    101|  1|  Science|   550|\n",
            "|    102|  2|Economics|   250|\n",
            "|    103|  3|  Zoology|   300|\n",
            "|    104|  4| Computer|   500|\n",
            "|    105|  5|     Data|   700|\n",
            "|    106|  3|  Signals|   500|\n",
            "|    107|  1|     Tech|   350|\n",
            "+-------+---+---------+------+\n",
            "\n",
            "First 5 rows of dataset:\n",
            "   id     name  age        department  gpa\n",
            "0   1    Alice   20  Computer Science  3.8\n",
            "1   2      Bob   22       Electronics  3.5\n",
            "2   3  Charlie   21        Mechanical  3.2\n",
            "3   4    David   23             Civil  3.9\n",
            "4   5      Eva   20                IT  3.7\n"
          ]
        }
      ]
    },
    {
      "cell_type": "code",
      "source": [
        "student_df.select(\"name\", \"department\").show()"
      ],
      "metadata": {
        "colab": {
          "base_uri": "https://localhost:8080/"
        },
        "id": "WnOvC92MTGIg",
        "outputId": "6c578548-1ab9-4a4b-f05d-6529aaa4b7c6"
      },
      "execution_count": 14,
      "outputs": [
        {
          "output_type": "stream",
          "name": "stdout",
          "text": [
            "+-------+----------------+\n",
            "|   name|      department|\n",
            "+-------+----------------+\n",
            "|  Alice|Computer Science|\n",
            "|    Bob|     Electronics|\n",
            "|Charlie|      Mechanical|\n",
            "|  David|           Civil|\n",
            "|    Eva|              IT|\n",
            "+-------+----------------+\n",
            "\n"
          ]
        }
      ]
    },
    {
      "cell_type": "code",
      "source": [
        "student_df.filter (col(\"gpa\") > 3.5).show()"
      ],
      "metadata": {
        "colab": {
          "base_uri": "https://localhost:8080/"
        },
        "id": "lv6j1GIvU4Ae",
        "outputId": "ec88fe02-f39c-4e26-ec47-86b202e5906b"
      },
      "execution_count": 18,
      "outputs": [
        {
          "output_type": "stream",
          "name": "stdout",
          "text": [
            "+---+----------------+---+---+-----+\n",
            "|age|      department|gpa| id| name|\n",
            "+---+----------------+---+---+-----+\n",
            "| 20|Computer Science|3.8|  1|Alice|\n",
            "| 23|           Civil|3.9|  4|David|\n",
            "| 20|              IT|3.7|  5|  Eva|\n",
            "+---+----------------+---+---+-----+\n",
            "\n"
          ]
        }
      ]
    },
    {
      "cell_type": "code",
      "source": [
        "student_df.groupBy(\"department\").agg(avg(\"gpa\")).show()"
      ],
      "metadata": {
        "colab": {
          "base_uri": "https://localhost:8080/"
        },
        "id": "ppAAJs46VxfV",
        "outputId": "b56bade4-7078-4eea-9db8-4c3294daf432"
      },
      "execution_count": 20,
      "outputs": [
        {
          "output_type": "stream",
          "name": "stdout",
          "text": [
            "+----------------+--------+\n",
            "|      department|avg(gpa)|\n",
            "+----------------+--------+\n",
            "|     Electronics|     3.5|\n",
            "|Computer Science|     3.8|\n",
            "|      Mechanical|     3.2|\n",
            "|              IT|     3.7|\n",
            "|           Civil|     3.9|\n",
            "+----------------+--------+\n",
            "\n"
          ]
        }
      ]
    },
    {
      "cell_type": "code",
      "source": [
        "student_df.select(\"age\").distinct().show()\n",
        "library_df.select(\"id\").distinct().show()\n"
      ],
      "metadata": {
        "colab": {
          "base_uri": "https://localhost:8080/"
        },
        "id": "-YpdS7BTV-kg",
        "outputId": "10a13cc1-6384-433b-c808-9f1ec6c54faa"
      },
      "execution_count": 22,
      "outputs": [
        {
          "output_type": "stream",
          "name": "stdout",
          "text": [
            "+---+\n",
            "|age|\n",
            "+---+\n",
            "| 22|\n",
            "| 20|\n",
            "| 21|\n",
            "| 23|\n",
            "+---+\n",
            "\n",
            "+---+\n",
            "| id|\n",
            "+---+\n",
            "|  1|\n",
            "|  3|\n",
            "|  2|\n",
            "|  5|\n",
            "|  4|\n",
            "+---+\n",
            "\n"
          ]
        }
      ]
    },
    {
      "cell_type": "code",
      "source": [
        "library_df.agg(max(\"amount\"), min(\"amount\")).show()"
      ],
      "metadata": {
        "colab": {
          "base_uri": "https://localhost:8080/"
        },
        "id": "JuOpinaXWaKF",
        "outputId": "16f3aaee-93da-43de-b890-bd5844064f3a"
      },
      "execution_count": 25,
      "outputs": [
        {
          "output_type": "stream",
          "name": "stdout",
          "text": [
            "+-----------+-----------+\n",
            "|max(amount)|min(amount)|\n",
            "+-----------+-----------+\n",
            "|        700|        250|\n",
            "+-----------+-----------+\n",
            "\n"
          ]
        }
      ]
    },
    {
      "cell_type": "code",
      "source": [
        "library_df.groupBy(\"id\").agg(sum(\"amount\").alias(\"total_spend\")).show()"
      ],
      "metadata": {
        "colab": {
          "base_uri": "https://localhost:8080/"
        },
        "id": "zJFk-SDVWzUg",
        "outputId": "3cf9b5a3-bc0d-4966-83a4-59b9196700f6"
      },
      "execution_count": 27,
      "outputs": [
        {
          "output_type": "stream",
          "name": "stdout",
          "text": [
            "+---+-----------+\n",
            "| id|total_spend|\n",
            "+---+-----------+\n",
            "|  1|        900|\n",
            "|  3|        800|\n",
            "|  2|        250|\n",
            "|  5|        700|\n",
            "|  4|        500|\n",
            "+---+-----------+\n",
            "\n"
          ]
        }
      ]
    },
    {
      "cell_type": "code",
      "source": [
        "student_df.join(library_df, \"id\", \"inner\").show()"
      ],
      "metadata": {
        "colab": {
          "base_uri": "https://localhost:8080/"
        },
        "id": "2MZkfHBPXKmc",
        "outputId": "746a72da-f83c-4337-ab45-659ca2a5a982"
      },
      "execution_count": 29,
      "outputs": [
        {
          "output_type": "stream",
          "name": "stdout",
          "text": [
            "+---+---+----------------+---+-------+-------+---------+------+\n",
            "| id|age|      department|gpa|   name|book_id|     book|amount|\n",
            "+---+---+----------------+---+-------+-------+---------+------+\n",
            "|  1| 20|Computer Science|3.8|  Alice|    101|  Science|   550|\n",
            "|  1| 20|Computer Science|3.8|  Alice|    107|     Tech|   350|\n",
            "|  2| 22|     Electronics|3.5|    Bob|    102|Economics|   250|\n",
            "|  3| 21|      Mechanical|3.2|Charlie|    103|  Zoology|   300|\n",
            "|  3| 21|      Mechanical|3.2|Charlie|    106|  Signals|   500|\n",
            "|  4| 23|           Civil|3.9|  David|    104| Computer|   500|\n",
            "|  5| 20|              IT|3.7|    Eva|    105|     Data|   700|\n",
            "+---+---+----------------+---+-------+-------+---------+------+\n",
            "\n"
          ]
        }
      ]
    },
    {
      "cell_type": "code",
      "source": [
        "student_df.join(library_df, \"id\", \"left\").show()"
      ],
      "metadata": {
        "colab": {
          "base_uri": "https://localhost:8080/"
        },
        "id": "1TJfsIIMXjaJ",
        "outputId": "45ab4ce5-8124-4a52-c6d4-388eee006354"
      },
      "execution_count": 32,
      "outputs": [
        {
          "output_type": "stream",
          "name": "stdout",
          "text": [
            "+---+---+----------------+---+-------+-------+---------+------+\n",
            "| id|age|      department|gpa|   name|book_id|     book|amount|\n",
            "+---+---+----------------+---+-------+-------+---------+------+\n",
            "|  1| 20|Computer Science|3.8|  Alice|    107|     Tech|   350|\n",
            "|  1| 20|Computer Science|3.8|  Alice|    101|  Science|   550|\n",
            "|  2| 22|     Electronics|3.5|    Bob|    102|Economics|   250|\n",
            "|  5| 20|              IT|3.7|    Eva|    105|     Data|   700|\n",
            "|  3| 21|      Mechanical|3.2|Charlie|    106|  Signals|   500|\n",
            "|  3| 21|      Mechanical|3.2|Charlie|    103|  Zoology|   300|\n",
            "|  4| 23|           Civil|3.9|  David|    104| Computer|   500|\n",
            "+---+---+----------------+---+-------+-------+---------+------+\n",
            "\n"
          ]
        }
      ]
    },
    {
      "cell_type": "code",
      "source": [
        "student_df.createOrReplaceTempView(\"student\")\n",
        "library_df.createOrReplaceTempView(\"library\")"
      ],
      "metadata": {
        "id": "SMbING3SYLhA"
      },
      "execution_count": 43,
      "outputs": []
    },
    {
      "cell_type": "code",
      "source": [
        "spark.sql(\"\"\"\n",
        "    SELECT s.department, SUM(l.amount) as total_due\n",
        "    FROM student s\n",
        "    JOIN library l ON s.id = l.id\n",
        "    GROUP BY s.department\n",
        "\"\"\").show()"
      ],
      "metadata": {
        "colab": {
          "base_uri": "https://localhost:8080/"
        },
        "id": "fBQJgtHqaVIW",
        "outputId": "b3d59279-efb6-445b-f6e2-c3b8fa84028f"
      },
      "execution_count": 49,
      "outputs": [
        {
          "output_type": "stream",
          "name": "stdout",
          "text": [
            "+----------------+---------+\n",
            "|      department|total_due|\n",
            "+----------------+---------+\n",
            "|      Mechanical|      800|\n",
            "|     Electronics|      250|\n",
            "|              IT|      700|\n",
            "|           Civil|      500|\n",
            "|Computer Science|      900|\n",
            "+----------------+---------+\n",
            "\n"
          ]
        }
      ]
    },
    {
      "cell_type": "code",
      "source": [
        "spark.sql(\"\"\"\n",
        "    SELECT s.name, SUM(l.amount) as total_due\n",
        "    FROM student s\n",
        "    JOIN library l ON s.id = l.id\n",
        "    GROUP BY s.name\n",
        "    ORDER BY total_due DESC\n",
        "    LIMIT 5\n",
        "\"\"\").show()"
      ],
      "metadata": {
        "colab": {
          "base_uri": "https://localhost:8080/"
        },
        "id": "Esu4fd46bHlV",
        "outputId": "59e7181f-c119-4f4a-a3cb-778617231fc9"
      },
      "execution_count": 52,
      "outputs": [
        {
          "output_type": "stream",
          "name": "stdout",
          "text": [
            "+-------+---------+\n",
            "|   name|total_due|\n",
            "+-------+---------+\n",
            "|  Alice|      900|\n",
            "|Charlie|      800|\n",
            "|    Eva|      700|\n",
            "|  David|      500|\n",
            "|    Bob|      250|\n",
            "+-------+---------+\n",
            "\n"
          ]
        }
      ]
    },
    {
      "cell_type": "code",
      "source": [
        "plt.figure(figsize=(10,6))\n",
        "plt.plot(df[\"name\"], df[\"age\"], marker='o', linestyle='--', color='b')\n",
        "plt.title(\"name over age\")\n",
        "plt.xlabel(\"name\")\n",
        "plt.ylabel(\"age\")\n",
        "plt.grid(True)\n",
        "plt.show()"
      ],
      "metadata": {
        "colab": {
          "base_uri": "https://localhost:8080/",
          "height": 564
        },
        "id": "wfboKkFZcIAq",
        "outputId": "aa8665d7-e0f4-438b-f50f-fc08a37841d8"
      },
      "execution_count": 59,
      "outputs": [
        {
          "output_type": "display_data",
          "data": {
            "text/plain": [
              "<Figure size 1000x600 with 1 Axes>"
            ],
            "image/png": "[encoded data removed]"
          },
          "metadata": {}
        }
      ]
    }
  ]
}